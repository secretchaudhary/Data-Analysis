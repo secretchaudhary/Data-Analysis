{
 "cells": [
  {
   "cell_type": "markdown",
   "metadata": {},
   "source": [
    "# Background and Scope\n",
    "Hurricane Harvey had a great impact and resulted in a lot of damage cost to the country. Let's find out the most\n",
    "affected areas."
   ]
  },
  {
   "cell_type": "markdown",
   "metadata": {},
   "source": [
    "## Import the Data\n",
    "Let us import dataset for the events held in 2017 and filter out the events with no data about property cost."
   ]
  },
  {
   "cell_type": "code",
   "execution_count": 25,
   "metadata": {},
   "outputs": [],
   "source": [
    "import pandas as pd\n",
    "import numpy as np\n",
    "import datetime\n",
    "from matplotlib import pyplot as  plt\n",
    "import geoplot\n",
    "import geopandas\n",
    "import plotly.graph_objects as go"
   ]
  },
  {
   "cell_type": "code",
   "execution_count": 3,
   "metadata": {},
   "outputs": [
    {
     "data": {
      "text/html": [
       "<div>\n",
       "<style scoped>\n",
       "    .dataframe tbody tr th:only-of-type {\n",
       "        vertical-align: middle;\n",
       "    }\n",
       "\n",
       "    .dataframe tbody tr th {\n",
       "        vertical-align: top;\n",
       "    }\n",
       "\n",
       "    .dataframe thead th {\n",
       "        text-align: right;\n",
       "    }\n",
       "</style>\n",
       "<table border=\"1\" class=\"dataframe\">\n",
       "  <thead>\n",
       "    <tr style=\"text-align: right;\">\n",
       "      <th></th>\n",
       "      <th>EpisodeID</th>\n",
       "      <th>Event_ID</th>\n",
       "      <th>State</th>\n",
       "      <th>Year</th>\n",
       "      <th>Month</th>\n",
       "      <th>Event_Type</th>\n",
       "      <th>CZ_Name</th>\n",
       "      <th>Begin_Date_Time</th>\n",
       "      <th>Timezone</th>\n",
       "      <th>End_Date_Time</th>\n",
       "      <th>...</th>\n",
       "      <th>Damage_Property</th>\n",
       "      <th>Property_Cost</th>\n",
       "      <th>Damage_Crops</th>\n",
       "      <th>Crop_Cost</th>\n",
       "      <th>Begin_Lat</th>\n",
       "      <th>Begin_Lon</th>\n",
       "      <th>End_Lat</th>\n",
       "      <th>End_Lon</th>\n",
       "      <th>Episode_Narrative</th>\n",
       "      <th>Event_Narrative</th>\n",
       "    </tr>\n",
       "  </thead>\n",
       "  <tbody>\n",
       "    <tr>\n",
       "      <th>1</th>\n",
       "      <td>113459</td>\n",
       "      <td>679228</td>\n",
       "      <td>FLORIDA</td>\n",
       "      <td>2017</td>\n",
       "      <td>April</td>\n",
       "      <td>Tornado</td>\n",
       "      <td>LEE</td>\n",
       "      <td>2017-04-06 09:30:00</td>\n",
       "      <td>EST-5</td>\n",
       "      <td>2017-04-06 09:40:00</td>\n",
       "      <td>...</td>\n",
       "      <td>110.00K</td>\n",
       "      <td>110000.0</td>\n",
       "      <td>0.00K</td>\n",
       "      <td>0.0</td>\n",
       "      <td>26.5010</td>\n",
       "      <td>-81.9980</td>\n",
       "      <td>26.5339</td>\n",
       "      <td>-81.8836</td>\n",
       "      <td>A line of thunderstorms developed along a pref...</td>\n",
       "      <td>Emergency management reported and broadcast me...</td>\n",
       "    </tr>\n",
       "    <tr>\n",
       "      <th>2</th>\n",
       "      <td>113448</td>\n",
       "      <td>679268</td>\n",
       "      <td>OHIO</td>\n",
       "      <td>2017</td>\n",
       "      <td>April</td>\n",
       "      <td>Thunderstorm Wind</td>\n",
       "      <td>GREENE</td>\n",
       "      <td>2017-04-05 17:49:00</td>\n",
       "      <td>EST-5</td>\n",
       "      <td>2017-04-05 17:53:00</td>\n",
       "      <td>...</td>\n",
       "      <td>1.00K</td>\n",
       "      <td>1000.0</td>\n",
       "      <td>0.00K</td>\n",
       "      <td>0.0</td>\n",
       "      <td>39.8500</td>\n",
       "      <td>-83.9900</td>\n",
       "      <td>39.8500</td>\n",
       "      <td>-83.9900</td>\n",
       "      <td>Showers and thunderstorms developed ahead of a...</td>\n",
       "      <td>An entire tree was uprooted in a yard on Dayto...</td>\n",
       "    </tr>\n",
       "    <tr>\n",
       "      <th>3</th>\n",
       "      <td>113697</td>\n",
       "      <td>682042</td>\n",
       "      <td>OHIO</td>\n",
       "      <td>2017</td>\n",
       "      <td>April</td>\n",
       "      <td>Flood</td>\n",
       "      <td>CLERMONT</td>\n",
       "      <td>2017-04-16 17:59:00</td>\n",
       "      <td>EST-5</td>\n",
       "      <td>2017-04-16 19:00:00</td>\n",
       "      <td>...</td>\n",
       "      <td>5.00K</td>\n",
       "      <td>5000.0</td>\n",
       "      <td>0.00K</td>\n",
       "      <td>0.0</td>\n",
       "      <td>39.1065</td>\n",
       "      <td>-84.2875</td>\n",
       "      <td>39.1061</td>\n",
       "      <td>-84.2874</td>\n",
       "      <td>Thunderstorms with very heavy rain developed a...</td>\n",
       "      <td>Garage of a home was flooded by high water.</td>\n",
       "    </tr>\n",
       "    <tr>\n",
       "      <th>4</th>\n",
       "      <td>113683</td>\n",
       "      <td>682062</td>\n",
       "      <td>NEBRASKA</td>\n",
       "      <td>2017</td>\n",
       "      <td>April</td>\n",
       "      <td>Hail</td>\n",
       "      <td>CASS</td>\n",
       "      <td>2017-04-15 15:50:00</td>\n",
       "      <td>CST-6</td>\n",
       "      <td>2017-04-15 15:50:00</td>\n",
       "      <td>...</td>\n",
       "      <td>0.00K</td>\n",
       "      <td>0.0</td>\n",
       "      <td>0.00K</td>\n",
       "      <td>0.0</td>\n",
       "      <td>40.9800</td>\n",
       "      <td>-95.8900</td>\n",
       "      <td>40.9800</td>\n",
       "      <td>-95.8900</td>\n",
       "      <td>An upper level storm system moved into Nebrask...</td>\n",
       "      <td>NaN</td>\n",
       "    </tr>\n",
       "    <tr>\n",
       "      <th>5</th>\n",
       "      <td>114718</td>\n",
       "      <td>688082</td>\n",
       "      <td>INDIANA</td>\n",
       "      <td>2017</td>\n",
       "      <td>April</td>\n",
       "      <td>Flash Flood</td>\n",
       "      <td>SWITZERLAND</td>\n",
       "      <td>2017-04-29 09:15:00</td>\n",
       "      <td>EST-5</td>\n",
       "      <td>2017-04-29 11:15:00</td>\n",
       "      <td>...</td>\n",
       "      <td>10.00K</td>\n",
       "      <td>10000.0</td>\n",
       "      <td>0.00K</td>\n",
       "      <td>0.0</td>\n",
       "      <td>38.7500</td>\n",
       "      <td>-85.0700</td>\n",
       "      <td>38.7465</td>\n",
       "      <td>-85.0766</td>\n",
       "      <td>Thunderstorms trained along a warm front that ...</td>\n",
       "      <td>A road was closed and water was reported in th...</td>\n",
       "    </tr>\n",
       "  </tbody>\n",
       "</table>\n",
       "<p>5 rows × 24 columns</p>\n",
       "</div>"
      ],
      "text/plain": [
       "   EpisodeID  Event_ID     State  Year  Month         Event_Type      CZ_Name  \\\n",
       "1     113459    679228   FLORIDA  2017  April            Tornado          LEE   \n",
       "2     113448    679268      OHIO  2017  April  Thunderstorm Wind       GREENE   \n",
       "3     113697    682042      OHIO  2017  April              Flood     CLERMONT   \n",
       "4     113683    682062  NEBRASKA  2017  April               Hail         CASS   \n",
       "5     114718    688082   INDIANA  2017  April        Flash Flood  SWITZERLAND   \n",
       "\n",
       "       Begin_Date_Time Timezone        End_Date_Time  ...  Damage_Property  \\\n",
       "1  2017-04-06 09:30:00    EST-5  2017-04-06 09:40:00  ...          110.00K   \n",
       "2  2017-04-05 17:49:00    EST-5  2017-04-05 17:53:00  ...            1.00K   \n",
       "3  2017-04-16 17:59:00    EST-5  2017-04-16 19:00:00  ...            5.00K   \n",
       "4  2017-04-15 15:50:00    CST-6  2017-04-15 15:50:00  ...            0.00K   \n",
       "5  2017-04-29 09:15:00    EST-5  2017-04-29 11:15:00  ...           10.00K   \n",
       "\n",
       "   Property_Cost  Damage_Crops  Crop_Cost Begin_Lat  Begin_Lon  End_Lat  \\\n",
       "1       110000.0         0.00K        0.0   26.5010   -81.9980  26.5339   \n",
       "2         1000.0         0.00K        0.0   39.8500   -83.9900  39.8500   \n",
       "3         5000.0         0.00K        0.0   39.1065   -84.2875  39.1061   \n",
       "4            0.0         0.00K        0.0   40.9800   -95.8900  40.9800   \n",
       "5        10000.0         0.00K        0.0   38.7500   -85.0700  38.7465   \n",
       "\n",
       "   End_Lon                                  Episode_Narrative  \\\n",
       "1 -81.8836  A line of thunderstorms developed along a pref...   \n",
       "2 -83.9900  Showers and thunderstorms developed ahead of a...   \n",
       "3 -84.2874  Thunderstorms with very heavy rain developed a...   \n",
       "4 -95.8900  An upper level storm system moved into Nebrask...   \n",
       "5 -85.0766  Thunderstorms trained along a warm front that ...   \n",
       "\n",
       "                                     Event_Narrative  \n",
       "1  Emergency management reported and broadcast me...  \n",
       "2  An entire tree was uprooted in a yard on Dayto...  \n",
       "3        Garage of a home was flooded by high water.  \n",
       "4                                                NaN  \n",
       "5  A road was closed and water was reported in th...  \n",
       "\n",
       "[5 rows x 24 columns]"
      ]
     },
     "execution_count": 3,
     "metadata": {},
     "output_type": "execute_result"
    }
   ],
   "source": [
    "df = pd.read_csv('StormEvents_2017_finalProject.csv')\n",
    "df.dropna(subset='Property_Cost', inplace=True)\n",
    "df.head()"
   ]
  },
  {
   "cell_type": "markdown",
   "metadata": {},
   "source": [
    "## Two States Most Impacted by Harvey\n",
    "Now, since Harvey impacted only Arkansas, Kentucky, Louisiana, Mississippi, North Carolina, Tennessee,\n",
    "and Texas, we shall filter out the remaining states from the table, i.e., events irrelevant from Harvey. We shall\n",
    "further filter out the events which didn't occur during Harvey or the irrelevant data as the Harvey's events occured\n",
    "between 17th of August and 3rd of September."
   ]
  },
  {
   "cell_type": "code",
   "execution_count": 4,
   "metadata": {},
   "outputs": [
    {
     "data": {
      "text/html": [
       "<div>\n",
       "<style scoped>\n",
       "    .dataframe tbody tr th:only-of-type {\n",
       "        vertical-align: middle;\n",
       "    }\n",
       "\n",
       "    .dataframe tbody tr th {\n",
       "        vertical-align: top;\n",
       "    }\n",
       "\n",
       "    .dataframe thead th {\n",
       "        text-align: right;\n",
       "    }\n",
       "</style>\n",
       "<table border=\"1\" class=\"dataframe\">\n",
       "  <thead>\n",
       "    <tr style=\"text-align: right;\">\n",
       "      <th></th>\n",
       "      <th>EpisodeID</th>\n",
       "      <th>Event_ID</th>\n",
       "      <th>State</th>\n",
       "      <th>Year</th>\n",
       "      <th>Month</th>\n",
       "      <th>Event_Type</th>\n",
       "      <th>CZ_Name</th>\n",
       "      <th>Begin_Date_Time</th>\n",
       "      <th>Timezone</th>\n",
       "      <th>End_Date_Time</th>\n",
       "      <th>...</th>\n",
       "      <th>Damage_Property</th>\n",
       "      <th>Property_Cost</th>\n",
       "      <th>Damage_Crops</th>\n",
       "      <th>Crop_Cost</th>\n",
       "      <th>Begin_Lat</th>\n",
       "      <th>Begin_Lon</th>\n",
       "      <th>End_Lat</th>\n",
       "      <th>End_Lon</th>\n",
       "      <th>Episode_Narrative</th>\n",
       "      <th>Event_Narrative</th>\n",
       "    </tr>\n",
       "  </thead>\n",
       "  <tbody>\n",
       "    <tr>\n",
       "      <th>10</th>\n",
       "      <td>115066</td>\n",
       "      <td>690966</td>\n",
       "      <td>ARKANSAS</td>\n",
       "      <td>2017</td>\n",
       "      <td>April</td>\n",
       "      <td>Hail</td>\n",
       "      <td>FRANKLIN</td>\n",
       "      <td>2017-04-26 07:57:00</td>\n",
       "      <td>CST-6</td>\n",
       "      <td>2017-04-26 07:57:00</td>\n",
       "      <td>...</td>\n",
       "      <td>0.00K</td>\n",
       "      <td>0.0</td>\n",
       "      <td>0.00K</td>\n",
       "      <td>0.0</td>\n",
       "      <td>35.2971</td>\n",
       "      <td>-94.0383</td>\n",
       "      <td>35.2971</td>\n",
       "      <td>-94.0383</td>\n",
       "      <td>Severe thunderstorms developed along and ahead...</td>\n",
       "      <td>NaN</td>\n",
       "    </tr>\n",
       "    <tr>\n",
       "      <th>113</th>\n",
       "      <td>115737</td>\n",
       "      <td>695622</td>\n",
       "      <td>TEXAS</td>\n",
       "      <td>2017</td>\n",
       "      <td>May</td>\n",
       "      <td>Hail</td>\n",
       "      <td>HENDERSON</td>\n",
       "      <td>2017-05-03 14:06:00</td>\n",
       "      <td>CST-6</td>\n",
       "      <td>2017-05-03 14:06:00</td>\n",
       "      <td>...</td>\n",
       "      <td>1.00K</td>\n",
       "      <td>1000.0</td>\n",
       "      <td>0.00K</td>\n",
       "      <td>0.0</td>\n",
       "      <td>32.3256</td>\n",
       "      <td>-95.4287</td>\n",
       "      <td>32.3256</td>\n",
       "      <td>-95.4287</td>\n",
       "      <td>Storms developed ahead of a cold front during ...</td>\n",
       "      <td>Amateur radio reported quarter size hail near ...</td>\n",
       "    </tr>\n",
       "    <tr>\n",
       "      <th>132</th>\n",
       "      <td>118165</td>\n",
       "      <td>710139</td>\n",
       "      <td>NORTH CAROLINA</td>\n",
       "      <td>2017</td>\n",
       "      <td>June</td>\n",
       "      <td>Flash Flood</td>\n",
       "      <td>WAKE</td>\n",
       "      <td>2017-06-16 19:32:00</td>\n",
       "      <td>EST-5</td>\n",
       "      <td>2017-06-16 19:32:00</td>\n",
       "      <td>...</td>\n",
       "      <td>0.00K</td>\n",
       "      <td>0.0</td>\n",
       "      <td>0.00K</td>\n",
       "      <td>0.0</td>\n",
       "      <td>35.8300</td>\n",
       "      <td>-78.7600</td>\n",
       "      <td>35.8296</td>\n",
       "      <td>-78.7614</td>\n",
       "      <td>A few loosely organized multicell convective c...</td>\n",
       "      <td>Locally heavy rainfall of 2 to 3 inches floode...</td>\n",
       "    </tr>\n",
       "    <tr>\n",
       "      <th>152</th>\n",
       "      <td>115476</td>\n",
       "      <td>693428</td>\n",
       "      <td>KENTUCKY</td>\n",
       "      <td>2017</td>\n",
       "      <td>June</td>\n",
       "      <td>Flash Flood</td>\n",
       "      <td>KNOTT</td>\n",
       "      <td>2017-06-14 16:25:00</td>\n",
       "      <td>EST-5</td>\n",
       "      <td>2017-06-14 16:25:00</td>\n",
       "      <td>...</td>\n",
       "      <td>0.00K</td>\n",
       "      <td>0.0</td>\n",
       "      <td>0.00K</td>\n",
       "      <td>0.0</td>\n",
       "      <td>37.3300</td>\n",
       "      <td>-82.8800</td>\n",
       "      <td>37.3301</td>\n",
       "      <td>-82.8795</td>\n",
       "      <td>Numerous thunderstorms developed this morning ...</td>\n",
       "      <td>Broadcast media relayed a report and pictures ...</td>\n",
       "    </tr>\n",
       "    <tr>\n",
       "      <th>156</th>\n",
       "      <td>121277</td>\n",
       "      <td>726031</td>\n",
       "      <td>ARKANSAS</td>\n",
       "      <td>2017</td>\n",
       "      <td>November</td>\n",
       "      <td>Drought</td>\n",
       "      <td>SEBASTIAN</td>\n",
       "      <td>2017-11-15 00:00:00</td>\n",
       "      <td>CST-6</td>\n",
       "      <td>2017-11-30 23:59:00</td>\n",
       "      <td>...</td>\n",
       "      <td>0.00K</td>\n",
       "      <td>0.0</td>\n",
       "      <td>0.00K</td>\n",
       "      <td>0.0</td>\n",
       "      <td>NaN</td>\n",
       "      <td>NaN</td>\n",
       "      <td>NaN</td>\n",
       "      <td>NaN</td>\n",
       "      <td>Unusually dry conditions occurred across much ...</td>\n",
       "      <td>NaN</td>\n",
       "    </tr>\n",
       "  </tbody>\n",
       "</table>\n",
       "<p>5 rows × 24 columns</p>\n",
       "</div>"
      ],
      "text/plain": [
       "     EpisodeID  Event_ID           State  Year     Month   Event_Type  \\\n",
       "10      115066    690966        ARKANSAS  2017     April         Hail   \n",
       "113     115737    695622           TEXAS  2017       May         Hail   \n",
       "132     118165    710139  NORTH CAROLINA  2017      June  Flash Flood   \n",
       "152     115476    693428        KENTUCKY  2017      June  Flash Flood   \n",
       "156     121277    726031        ARKANSAS  2017  November      Drought   \n",
       "\n",
       "       CZ_Name      Begin_Date_Time Timezone        End_Date_Time  ...  \\\n",
       "10    FRANKLIN  2017-04-26 07:57:00    CST-6  2017-04-26 07:57:00  ...   \n",
       "113  HENDERSON  2017-05-03 14:06:00    CST-6  2017-05-03 14:06:00  ...   \n",
       "132       WAKE  2017-06-16 19:32:00    EST-5  2017-06-16 19:32:00  ...   \n",
       "152      KNOTT  2017-06-14 16:25:00    EST-5  2017-06-14 16:25:00  ...   \n",
       "156  SEBASTIAN  2017-11-15 00:00:00    CST-6  2017-11-30 23:59:00  ...   \n",
       "\n",
       "     Damage_Property  Property_Cost  Damage_Crops  Crop_Cost Begin_Lat  \\\n",
       "10             0.00K            0.0         0.00K        0.0   35.2971   \n",
       "113            1.00K         1000.0         0.00K        0.0   32.3256   \n",
       "132            0.00K            0.0         0.00K        0.0   35.8300   \n",
       "152            0.00K            0.0         0.00K        0.0   37.3300   \n",
       "156            0.00K            0.0         0.00K        0.0       NaN   \n",
       "\n",
       "     Begin_Lon  End_Lat  End_Lon  \\\n",
       "10    -94.0383  35.2971 -94.0383   \n",
       "113   -95.4287  32.3256 -95.4287   \n",
       "132   -78.7600  35.8296 -78.7614   \n",
       "152   -82.8800  37.3301 -82.8795   \n",
       "156        NaN      NaN      NaN   \n",
       "\n",
       "                                     Episode_Narrative  \\\n",
       "10   Severe thunderstorms developed along and ahead...   \n",
       "113  Storms developed ahead of a cold front during ...   \n",
       "132  A few loosely organized multicell convective c...   \n",
       "152  Numerous thunderstorms developed this morning ...   \n",
       "156  Unusually dry conditions occurred across much ...   \n",
       "\n",
       "                                       Event_Narrative  \n",
       "10                                                 NaN  \n",
       "113  Amateur radio reported quarter size hail near ...  \n",
       "132  Locally heavy rainfall of 2 to 3 inches floode...  \n",
       "152  Broadcast media relayed a report and pictures ...  \n",
       "156                                                NaN  \n",
       "\n",
       "[5 rows x 24 columns]"
      ]
     },
     "execution_count": 4,
     "metadata": {},
     "output_type": "execute_result"
    }
   ],
   "source": [
    "#('Arkansas', 'Kentucky', 'Louisiana', 'Mississippi', 'North Carolina', 'Tennessee', 'Texas')\n",
    "df = df[(df['State'] == 'ARKANSAS') | (df['State'] == 'KENTUCKY') | (df['State'] == 'Louisiana'.upper()) | (df['State'] == 'Mississippi'.upper()) | (df['State'] == 'North Carolina'.upper()) | (df['State'] == 'Tennessee'.upper()) | (df['State'] == 'TEXAS')]\n",
    "df.head()"
   ]
  },
  {
   "cell_type": "code",
   "execution_count": 5,
   "metadata": {},
   "outputs": [],
   "source": [
    "begindate = datetime.datetime(2017,8,17,00,00,00)\n",
    "enddate = datetime.datetime(2017,9,3, 23,59,59)"
   ]
  },
  {
   "cell_type": "code",
   "execution_count": 6,
   "metadata": {},
   "outputs": [
    {
     "data": {
      "text/html": [
       "<div>\n",
       "<style scoped>\n",
       "    .dataframe tbody tr th:only-of-type {\n",
       "        vertical-align: middle;\n",
       "    }\n",
       "\n",
       "    .dataframe tbody tr th {\n",
       "        vertical-align: top;\n",
       "    }\n",
       "\n",
       "    .dataframe thead th {\n",
       "        text-align: right;\n",
       "    }\n",
       "</style>\n",
       "<table border=\"1\" class=\"dataframe\">\n",
       "  <thead>\n",
       "    <tr style=\"text-align: right;\">\n",
       "      <th></th>\n",
       "      <th>EpisodeID</th>\n",
       "      <th>Event_ID</th>\n",
       "      <th>State</th>\n",
       "      <th>Year</th>\n",
       "      <th>Month</th>\n",
       "      <th>Event_Type</th>\n",
       "      <th>CZ_Name</th>\n",
       "      <th>Begin_Date_Time</th>\n",
       "      <th>Timezone</th>\n",
       "      <th>End_Date_Time</th>\n",
       "      <th>...</th>\n",
       "      <th>Damage_Property</th>\n",
       "      <th>Property_Cost</th>\n",
       "      <th>Damage_Crops</th>\n",
       "      <th>Crop_Cost</th>\n",
       "      <th>Begin_Lat</th>\n",
       "      <th>Begin_Lon</th>\n",
       "      <th>End_Lat</th>\n",
       "      <th>End_Lon</th>\n",
       "      <th>Episode_Narrative</th>\n",
       "      <th>Event_Narrative</th>\n",
       "    </tr>\n",
       "  </thead>\n",
       "  <tbody>\n",
       "    <tr>\n",
       "      <th>33599</th>\n",
       "      <td>119753</td>\n",
       "      <td>723472</td>\n",
       "      <td>TEXAS</td>\n",
       "      <td>2017</td>\n",
       "      <td>August</td>\n",
       "      <td>Tropical Storm</td>\n",
       "      <td>MONTGOMERY</td>\n",
       "      <td>2017-08-25 12:00:00</td>\n",
       "      <td>CST-6</td>\n",
       "      <td>2017-08-30 00:00:00</td>\n",
       "      <td>...</td>\n",
       "      <td>7.00B</td>\n",
       "      <td>7.000000e+09</td>\n",
       "      <td>NaN</td>\n",
       "      <td>NaN</td>\n",
       "      <td>NaN</td>\n",
       "      <td>NaN</td>\n",
       "      <td>NaN</td>\n",
       "      <td>NaN</td>\n",
       "      <td>Harvey made landfall as a category 4 hurricane...</td>\n",
       "      <td>Tropical Storm Harvey brought heavy rains and ...</td>\n",
       "    </tr>\n",
       "    <tr>\n",
       "      <th>34738</th>\n",
       "      <td>118750</td>\n",
       "      <td>713329</td>\n",
       "      <td>MISSISSIPPI</td>\n",
       "      <td>2017</td>\n",
       "      <td>September</td>\n",
       "      <td>Strong Wind</td>\n",
       "      <td>LOWNDES</td>\n",
       "      <td>2017-09-01 01:00:00</td>\n",
       "      <td>CST-6</td>\n",
       "      <td>2017-09-01 01:00:00</td>\n",
       "      <td>...</td>\n",
       "      <td>5.00K</td>\n",
       "      <td>5.000000e+03</td>\n",
       "      <td>0.00K</td>\n",
       "      <td>0.0</td>\n",
       "      <td>NaN</td>\n",
       "      <td>NaN</td>\n",
       "      <td>NaN</td>\n",
       "      <td>NaN</td>\n",
       "      <td>The remnants of Hurricane Harvey moved across ...</td>\n",
       "      <td>A tree was blown down on Military Road near th...</td>\n",
       "    </tr>\n",
       "    <tr>\n",
       "      <th>34813</th>\n",
       "      <td>120636</td>\n",
       "      <td>722605</td>\n",
       "      <td>NORTH CAROLINA</td>\n",
       "      <td>2017</td>\n",
       "      <td>September</td>\n",
       "      <td>Flash Flood</td>\n",
       "      <td>WAKE</td>\n",
       "      <td>2017-09-01 17:35:00</td>\n",
       "      <td>EST-5</td>\n",
       "      <td>2017-09-01 18:15:00</td>\n",
       "      <td>...</td>\n",
       "      <td>0.00K</td>\n",
       "      <td>0.000000e+00</td>\n",
       "      <td>0.00K</td>\n",
       "      <td>0.0</td>\n",
       "      <td>35.9719</td>\n",
       "      <td>-78.5516</td>\n",
       "      <td>35.9425</td>\n",
       "      <td>-78.5543</td>\n",
       "      <td>The remnants of Harvey increased the southwest...</td>\n",
       "      <td>Heavy rain resulted in flash flooding on the U...</td>\n",
       "    </tr>\n",
       "    <tr>\n",
       "      <th>34814</th>\n",
       "      <td>120636</td>\n",
       "      <td>722608</td>\n",
       "      <td>NORTH CAROLINA</td>\n",
       "      <td>2017</td>\n",
       "      <td>September</td>\n",
       "      <td>Flash Flood</td>\n",
       "      <td>CUMBERLAND</td>\n",
       "      <td>2017-09-01 19:20:00</td>\n",
       "      <td>EST-5</td>\n",
       "      <td>2017-09-01 21:25:00</td>\n",
       "      <td>...</td>\n",
       "      <td>0.00K</td>\n",
       "      <td>0.000000e+00</td>\n",
       "      <td>0.00K</td>\n",
       "      <td>0.0</td>\n",
       "      <td>35.0621</td>\n",
       "      <td>-79.0078</td>\n",
       "      <td>35.0258</td>\n",
       "      <td>-79.0006</td>\n",
       "      <td>The remnants of Harvey increased the southwest...</td>\n",
       "      <td>Heavy rain resulted in flash flooding of multi...</td>\n",
       "    </tr>\n",
       "    <tr>\n",
       "      <th>34815</th>\n",
       "      <td>120636</td>\n",
       "      <td>722610</td>\n",
       "      <td>NORTH CAROLINA</td>\n",
       "      <td>2017</td>\n",
       "      <td>September</td>\n",
       "      <td>Hail</td>\n",
       "      <td>LEE</td>\n",
       "      <td>2017-09-01 15:20:00</td>\n",
       "      <td>EST-5</td>\n",
       "      <td>2017-09-01 15:20:00</td>\n",
       "      <td>...</td>\n",
       "      <td>0.00K</td>\n",
       "      <td>0.000000e+00</td>\n",
       "      <td>0.00K</td>\n",
       "      <td>0.0</td>\n",
       "      <td>35.4700</td>\n",
       "      <td>-79.1800</td>\n",
       "      <td>35.4700</td>\n",
       "      <td>-79.1800</td>\n",
       "      <td>The remnants of Harvey increased the southwest...</td>\n",
       "      <td>NaN</td>\n",
       "    </tr>\n",
       "  </tbody>\n",
       "</table>\n",
       "<p>5 rows × 24 columns</p>\n",
       "</div>"
      ],
      "text/plain": [
       "       EpisodeID  Event_ID           State  Year      Month      Event_Type  \\\n",
       "33599     119753    723472           TEXAS  2017     August  Tropical Storm   \n",
       "34738     118750    713329     MISSISSIPPI  2017  September     Strong Wind   \n",
       "34813     120636    722605  NORTH CAROLINA  2017  September     Flash Flood   \n",
       "34814     120636    722608  NORTH CAROLINA  2017  September     Flash Flood   \n",
       "34815     120636    722610  NORTH CAROLINA  2017  September            Hail   \n",
       "\n",
       "          CZ_Name      Begin_Date_Time Timezone        End_Date_Time  ...  \\\n",
       "33599  MONTGOMERY  2017-08-25 12:00:00    CST-6  2017-08-30 00:00:00  ...   \n",
       "34738     LOWNDES  2017-09-01 01:00:00    CST-6  2017-09-01 01:00:00  ...   \n",
       "34813        WAKE  2017-09-01 17:35:00    EST-5  2017-09-01 18:15:00  ...   \n",
       "34814  CUMBERLAND  2017-09-01 19:20:00    EST-5  2017-09-01 21:25:00  ...   \n",
       "34815         LEE  2017-09-01 15:20:00    EST-5  2017-09-01 15:20:00  ...   \n",
       "\n",
       "       Damage_Property  Property_Cost  Damage_Crops  Crop_Cost Begin_Lat  \\\n",
       "33599            7.00B   7.000000e+09           NaN        NaN       NaN   \n",
       "34738            5.00K   5.000000e+03         0.00K        0.0       NaN   \n",
       "34813            0.00K   0.000000e+00         0.00K        0.0   35.9719   \n",
       "34814            0.00K   0.000000e+00         0.00K        0.0   35.0621   \n",
       "34815            0.00K   0.000000e+00         0.00K        0.0   35.4700   \n",
       "\n",
       "       Begin_Lon  End_Lat  End_Lon  \\\n",
       "33599        NaN      NaN      NaN   \n",
       "34738        NaN      NaN      NaN   \n",
       "34813   -78.5516  35.9425 -78.5543   \n",
       "34814   -79.0078  35.0258 -79.0006   \n",
       "34815   -79.1800  35.4700 -79.1800   \n",
       "\n",
       "                                       Episode_Narrative  \\\n",
       "33599  Harvey made landfall as a category 4 hurricane...   \n",
       "34738  The remnants of Hurricane Harvey moved across ...   \n",
       "34813  The remnants of Harvey increased the southwest...   \n",
       "34814  The remnants of Harvey increased the southwest...   \n",
       "34815  The remnants of Harvey increased the southwest...   \n",
       "\n",
       "                                         Event_Narrative  \n",
       "33599  Tropical Storm Harvey brought heavy rains and ...  \n",
       "34738  A tree was blown down on Military Road near th...  \n",
       "34813  Heavy rain resulted in flash flooding on the U...  \n",
       "34814  Heavy rain resulted in flash flooding of multi...  \n",
       "34815                                                NaN  \n",
       "\n",
       "[5 rows x 24 columns]"
      ]
     },
     "execution_count": 6,
     "metadata": {},
     "output_type": "execute_result"
    }
   ],
   "source": [
    "df = df[(df['Begin_Date_Time']>=str(begindate)) & (df['End_Date_Time']<=str(enddate))]\n",
    "df.head()"
   ]
  },
  {
   "cell_type": "markdown",
   "metadata": {},
   "source": [
    "The type of events that took place in the time being are as follows. The events remaining correspond to urricane and hence don't need to be eliminated from the database."
   ]
  },
  {
   "cell_type": "code",
   "execution_count": 7,
   "metadata": {},
   "outputs": [
    {
     "name": "stdout",
     "output_type": "stream",
     "text": [
      "['Tropical Storm', 'Strong Wind', 'Flash Flood', 'Hail', 'Thunderstorm Wind', 'High Wind', 'Heavy Rain', 'Heat', 'Flood', 'Tornado', 'Storm Surge/Tide', 'Lightning', 'Funnel Cloud', 'Hurricane']\n"
     ]
    }
   ],
   "source": [
    "event_cats = list(df['Event_Type'].unique())\n",
    "print(event_cats)"
   ]
  },
  {
   "cell_type": "markdown",
   "metadata": {},
   "source": [
    "The total cost to property for every state during the Hurricane Harvey is listed below sorted in descending order\n",
    "of the cost. Since the Harvey was most prominent and destructive event during the time, it will be the reason for\n",
    "most cost to property damage, i.e., no other event during that time was more destructive than Harvey."
   ]
  },
  {
   "cell_type": "code",
   "execution_count": 8,
   "metadata": {},
   "outputs": [
    {
     "name": "stdout",
     "output_type": "stream",
     "text": [
      "State\n",
      "TEXAS             7.742727e+10\n",
      "LOUISIANA         7.527700e+07\n",
      "NORTH CAROLINA    1.233850e+07\n",
      "MISSISSIPPI       9.150000e+05\n",
      "TENNESSEE         5.040000e+05\n",
      "KENTUCKY          4.350000e+05\n",
      "ARKANSAS          6.100000e+04\n",
      "Name: Property_Cost, dtype: float64\n"
     ]
    }
   ],
   "source": [
    "groupeddf = df.groupby('State')['Property_Cost'].agg('sum', 'count')\n",
    "sorteddf = groupeddf.sort_values(ascending=False )\n",
    "print(sorteddf)"
   ]
  },
  {
   "cell_type": "markdown",
   "metadata": {},
   "source": [
    "Hence, it the top 2 in the below table are the 2 most impacted states in order."
   ]
  },
  {
   "cell_type": "code",
   "execution_count": 42,
   "metadata": {},
   "outputs": [
    {
     "name": "stdout",
     "output_type": "stream",
     "text": [
      "State\n",
      "TEXAS        7.742727e+10\n",
      "LOUISIANA    7.527700e+07\n",
      "Name: Property_Cost, dtype: float64\n"
     ]
    }
   ],
   "source": [
    "top_two = sorteddf[:2]\n",
    "print(top_two)"
   ]
  },
  {
   "cell_type": "markdown",
   "metadata": {},
   "source": [
    "# Table of Events for Two Most Impacted States\n",
    "A few rows of events that include only the two most affected states are shown below. "
   ]
  },
  {
   "cell_type": "code",
   "execution_count": 34,
   "metadata": {},
   "outputs": [
    {
     "data": {
      "text/html": [
       "<div>\n",
       "<style scoped>\n",
       "    .dataframe tbody tr th:only-of-type {\n",
       "        vertical-align: middle;\n",
       "    }\n",
       "\n",
       "    .dataframe tbody tr th {\n",
       "        vertical-align: top;\n",
       "    }\n",
       "\n",
       "    .dataframe thead th {\n",
       "        text-align: right;\n",
       "    }\n",
       "</style>\n",
       "<table border=\"1\" class=\"dataframe\">\n",
       "  <thead>\n",
       "    <tr style=\"text-align: right;\">\n",
       "      <th></th>\n",
       "      <th>EpisodeID</th>\n",
       "      <th>Event_ID</th>\n",
       "      <th>State</th>\n",
       "      <th>Year</th>\n",
       "      <th>Month</th>\n",
       "      <th>Event_Type</th>\n",
       "      <th>CZ_Name</th>\n",
       "      <th>Begin_Date_Time</th>\n",
       "      <th>Timezone</th>\n",
       "      <th>End_Date_Time</th>\n",
       "      <th>...</th>\n",
       "      <th>Damage_Property</th>\n",
       "      <th>Property_Cost</th>\n",
       "      <th>Damage_Crops</th>\n",
       "      <th>Crop_Cost</th>\n",
       "      <th>Begin_Lat</th>\n",
       "      <th>Begin_Lon</th>\n",
       "      <th>End_Lat</th>\n",
       "      <th>End_Lon</th>\n",
       "      <th>Episode_Narrative</th>\n",
       "      <th>Event_Narrative</th>\n",
       "    </tr>\n",
       "  </thead>\n",
       "  <tbody>\n",
       "    <tr>\n",
       "      <th>33599</th>\n",
       "      <td>119753</td>\n",
       "      <td>723472</td>\n",
       "      <td>TEXAS</td>\n",
       "      <td>2017</td>\n",
       "      <td>August</td>\n",
       "      <td>Tropical Storm</td>\n",
       "      <td>MONTGOMERY</td>\n",
       "      <td>2017-08-25 12:00:00</td>\n",
       "      <td>CST-6</td>\n",
       "      <td>2017-08-30 00:00:00</td>\n",
       "      <td>...</td>\n",
       "      <td>7.00B</td>\n",
       "      <td>7.000000e+09</td>\n",
       "      <td>NaN</td>\n",
       "      <td>NaN</td>\n",
       "      <td>NaN</td>\n",
       "      <td>NaN</td>\n",
       "      <td>NaN</td>\n",
       "      <td>NaN</td>\n",
       "      <td>Harvey made landfall as a category 4 hurricane...</td>\n",
       "      <td>Tropical Storm Harvey brought heavy rains and ...</td>\n",
       "    </tr>\n",
       "    <tr>\n",
       "      <th>34851</th>\n",
       "      <td>119753</td>\n",
       "      <td>723473</td>\n",
       "      <td>TEXAS</td>\n",
       "      <td>2017</td>\n",
       "      <td>August</td>\n",
       "      <td>Tropical Storm</td>\n",
       "      <td>FORT BEND</td>\n",
       "      <td>2017-08-26 00:00:00</td>\n",
       "      <td>CST-6</td>\n",
       "      <td>2017-08-30 00:00:00</td>\n",
       "      <td>...</td>\n",
       "      <td>8.00B</td>\n",
       "      <td>8.000000e+09</td>\n",
       "      <td>NaN</td>\n",
       "      <td>NaN</td>\n",
       "      <td>NaN</td>\n",
       "      <td>NaN</td>\n",
       "      <td>NaN</td>\n",
       "      <td>NaN</td>\n",
       "      <td>Harvey made landfall as a category 4 hurricane...</td>\n",
       "      <td>Harvey made landfall as a category 4 hurricane...</td>\n",
       "    </tr>\n",
       "    <tr>\n",
       "      <th>35115</th>\n",
       "      <td>119753</td>\n",
       "      <td>723449</td>\n",
       "      <td>TEXAS</td>\n",
       "      <td>2017</td>\n",
       "      <td>August</td>\n",
       "      <td>Tropical Storm</td>\n",
       "      <td>GALVESTON</td>\n",
       "      <td>2017-08-25 12:00:00</td>\n",
       "      <td>CST-6</td>\n",
       "      <td>2017-08-30 00:00:00</td>\n",
       "      <td>...</td>\n",
       "      <td>10.00B</td>\n",
       "      <td>1.000000e+10</td>\n",
       "      <td>NaN</td>\n",
       "      <td>NaN</td>\n",
       "      <td>NaN</td>\n",
       "      <td>NaN</td>\n",
       "      <td>NaN</td>\n",
       "      <td>NaN</td>\n",
       "      <td>Harvey made landfall as a category 4 hurricane...</td>\n",
       "      <td>Galveston County experienced catastrophic floo...</td>\n",
       "    </tr>\n",
       "    <tr>\n",
       "      <th>35116</th>\n",
       "      <td>119753</td>\n",
       "      <td>723474</td>\n",
       "      <td>TEXAS</td>\n",
       "      <td>2017</td>\n",
       "      <td>August</td>\n",
       "      <td>Tropical Storm</td>\n",
       "      <td>SAN JACINTO</td>\n",
       "      <td>2017-08-25 12:00:00</td>\n",
       "      <td>CST-6</td>\n",
       "      <td>2017-08-30 00:00:00</td>\n",
       "      <td>...</td>\n",
       "      <td>350.00M</td>\n",
       "      <td>3.500000e+08</td>\n",
       "      <td>NaN</td>\n",
       "      <td>NaN</td>\n",
       "      <td>NaN</td>\n",
       "      <td>NaN</td>\n",
       "      <td>NaN</td>\n",
       "      <td>NaN</td>\n",
       "      <td>Harvey made landfall as a category 4 hurricane...</td>\n",
       "      <td>Slow moving Tropical Storm Harvey produced ver...</td>\n",
       "    </tr>\n",
       "    <tr>\n",
       "      <th>35580</th>\n",
       "      <td>119753</td>\n",
       "      <td>723475</td>\n",
       "      <td>TEXAS</td>\n",
       "      <td>2017</td>\n",
       "      <td>August</td>\n",
       "      <td>Tropical Storm</td>\n",
       "      <td>WALKER</td>\n",
       "      <td>2017-08-25 12:00:00</td>\n",
       "      <td>CST-6</td>\n",
       "      <td>2017-08-30 00:00:00</td>\n",
       "      <td>...</td>\n",
       "      <td>600.00M</td>\n",
       "      <td>6.000000e+08</td>\n",
       "      <td>NaN</td>\n",
       "      <td>NaN</td>\n",
       "      <td>NaN</td>\n",
       "      <td>NaN</td>\n",
       "      <td>NaN</td>\n",
       "      <td>NaN</td>\n",
       "      <td>Harvey made landfall as a category 4 hurricane...</td>\n",
       "      <td>Slow moving Tropical Storm Harvey produced tor...</td>\n",
       "    </tr>\n",
       "  </tbody>\n",
       "</table>\n",
       "<p>5 rows × 24 columns</p>\n",
       "</div>"
      ],
      "text/plain": [
       "       EpisodeID  Event_ID  State  Year   Month      Event_Type      CZ_Name  \\\n",
       "33599     119753    723472  TEXAS  2017  August  Tropical Storm   MONTGOMERY   \n",
       "34851     119753    723473  TEXAS  2017  August  Tropical Storm    FORT BEND   \n",
       "35115     119753    723449  TEXAS  2017  August  Tropical Storm    GALVESTON   \n",
       "35116     119753    723474  TEXAS  2017  August  Tropical Storm  SAN JACINTO   \n",
       "35580     119753    723475  TEXAS  2017  August  Tropical Storm       WALKER   \n",
       "\n",
       "           Begin_Date_Time Timezone        End_Date_Time  ...  \\\n",
       "33599  2017-08-25 12:00:00    CST-6  2017-08-30 00:00:00  ...   \n",
       "34851  2017-08-26 00:00:00    CST-6  2017-08-30 00:00:00  ...   \n",
       "35115  2017-08-25 12:00:00    CST-6  2017-08-30 00:00:00  ...   \n",
       "35116  2017-08-25 12:00:00    CST-6  2017-08-30 00:00:00  ...   \n",
       "35580  2017-08-25 12:00:00    CST-6  2017-08-30 00:00:00  ...   \n",
       "\n",
       "       Damage_Property  Property_Cost  Damage_Crops  Crop_Cost Begin_Lat  \\\n",
       "33599            7.00B   7.000000e+09           NaN        NaN       NaN   \n",
       "34851            8.00B   8.000000e+09           NaN        NaN       NaN   \n",
       "35115           10.00B   1.000000e+10           NaN        NaN       NaN   \n",
       "35116          350.00M   3.500000e+08           NaN        NaN       NaN   \n",
       "35580          600.00M   6.000000e+08           NaN        NaN       NaN   \n",
       "\n",
       "       Begin_Lon End_Lat  End_Lon  \\\n",
       "33599        NaN     NaN      NaN   \n",
       "34851        NaN     NaN      NaN   \n",
       "35115        NaN     NaN      NaN   \n",
       "35116        NaN     NaN      NaN   \n",
       "35580        NaN     NaN      NaN   \n",
       "\n",
       "                                       Episode_Narrative  \\\n",
       "33599  Harvey made landfall as a category 4 hurricane...   \n",
       "34851  Harvey made landfall as a category 4 hurricane...   \n",
       "35115  Harvey made landfall as a category 4 hurricane...   \n",
       "35116  Harvey made landfall as a category 4 hurricane...   \n",
       "35580  Harvey made landfall as a category 4 hurricane...   \n",
       "\n",
       "                                         Event_Narrative  \n",
       "33599  Tropical Storm Harvey brought heavy rains and ...  \n",
       "34851  Harvey made landfall as a category 4 hurricane...  \n",
       "35115  Galveston County experienced catastrophic floo...  \n",
       "35116  Slow moving Tropical Storm Harvey produced ver...  \n",
       "35580  Slow moving Tropical Storm Harvey produced tor...  \n",
       "\n",
       "[5 rows x 24 columns]"
      ]
     },
     "execution_count": 34,
     "metadata": {},
     "output_type": "execute_result"
    }
   ],
   "source": [
    "harvey_top = df[(df['State'] == 'TEXAS') | (df['State'] == 'LOUISIANA')]\n",
    "harvey_top.head()"
   ]
  },
  {
   "cell_type": "markdown",
   "metadata": {},
   "source": [
    "# Visualizations\n",
    "## Figure of Event Types\n",
    "A figure showing the type and number of occurances for events related to Harvey in the two states is shown\n",
    "below. Events with zero occurences have already been removed from the dataset."
   ]
  },
  {
   "cell_type": "code",
   "execution_count": 11,
   "metadata": {},
   "outputs": [],
   "source": [
    "event_cats = list(harvey_top['Event_Type'].unique())\n",
    "event_cats_count = []\n",
    "for event in event_cats:\n",
    "    event_cats_count.append(harvey_top['Event_Type'].value_counts()[event])"
   ]
  },
  {
   "cell_type": "code",
   "execution_count": 12,
   "metadata": {},
   "outputs": [
    {
     "data": {
      "image/png": "[encoded data removed]",
      "text/plain": [
       "<Figure size 640x480 with 1 Axes>"
      ]
     },
     "metadata": {},
     "output_type": "display_data"
    }
   ],
   "source": [
    "plt.bar(event_cats, event_cats_count, edgecolor = 'black')\n",
    "plt.title('Event Types and their Occurences')\n",
    "plt.xlabel('Type of Events')\n",
    "plt.ylabel('No. of Events')\n",
    "\n",
    "plt.xticks(rotation=80) # Rotation of the bars names\n",
    "plt.show()"
   ]
  },
  {
   "cell_type": "markdown",
   "metadata": {},
   "source": [
    "## Figure of Event Locations\n",
    "Below are the locations of events in the two states. The size of marker depends upon the property cost of the\n",
    "event.\n",
    "### Begin Locations"
   ]
  },
  {
   "cell_type": "code",
   "execution_count": 237,
   "metadata": {},
   "outputs": [
    {
     "data": {
      "text/html": [
       "<div>\n",
       "<style scoped>\n",
       "    .dataframe tbody tr th:only-of-type {\n",
       "        vertical-align: middle;\n",
       "    }\n",
       "\n",
       "    .dataframe tbody tr th {\n",
       "        vertical-align: top;\n",
       "    }\n",
       "\n",
       "    .dataframe thead th {\n",
       "        text-align: right;\n",
       "    }\n",
       "</style>\n",
       "<table border=\"1\" class=\"dataframe\">\n",
       "  <thead>\n",
       "    <tr style=\"text-align: right;\">\n",
       "      <th></th>\n",
       "      <th>State</th>\n",
       "      <th>Begin_Lat</th>\n",
       "      <th>Begin_Lon</th>\n",
       "      <th>Property_Cost</th>\n",
       "      <th>Text</th>\n",
       "    </tr>\n",
       "  </thead>\n",
       "  <tbody>\n",
       "    <tr>\n",
       "      <th>0</th>\n",
       "      <td>TEXAS</td>\n",
       "      <td>31.5285</td>\n",
       "      <td>-106.1346</td>\n",
       "      <td>0.0</td>\n",
       "      <td>TEXAS&lt;br&gt;Property Cost 0.0</td>\n",
       "    </tr>\n",
       "    <tr>\n",
       "      <th>1</th>\n",
       "      <td>TEXAS</td>\n",
       "      <td>31.7715</td>\n",
       "      <td>-106.5028</td>\n",
       "      <td>0.0</td>\n",
       "      <td>TEXAS&lt;br&gt;Property Cost 0.0</td>\n",
       "    </tr>\n",
       "    <tr>\n",
       "      <th>2</th>\n",
       "      <td>TEXAS</td>\n",
       "      <td>31.7839</td>\n",
       "      <td>-106.5205</td>\n",
       "      <td>0.0</td>\n",
       "      <td>TEXAS&lt;br&gt;Property Cost 0.0</td>\n",
       "    </tr>\n",
       "    <tr>\n",
       "      <th>3</th>\n",
       "      <td>TEXAS</td>\n",
       "      <td>29.7585</td>\n",
       "      <td>-93.9153</td>\n",
       "      <td>600000000.0</td>\n",
       "      <td>TEXAS&lt;br&gt;Property Cost 600000000.0</td>\n",
       "    </tr>\n",
       "    <tr>\n",
       "      <th>4</th>\n",
       "      <td>TEXAS</td>\n",
       "      <td>30.9235</td>\n",
       "      <td>-94.5992</td>\n",
       "      <td>85000000.0</td>\n",
       "      <td>TEXAS&lt;br&gt;Property Cost 85000000.0</td>\n",
       "    </tr>\n",
       "  </tbody>\n",
       "</table>\n",
       "</div>"
      ],
      "text/plain": [
       "   State  Begin_Lat  Begin_Lon  Property_Cost  \\\n",
       "0  TEXAS    31.5285  -106.1346            0.0   \n",
       "1  TEXAS    31.7715  -106.5028            0.0   \n",
       "2  TEXAS    31.7839  -106.5205            0.0   \n",
       "3  TEXAS    29.7585   -93.9153    600000000.0   \n",
       "4  TEXAS    30.9235   -94.5992     85000000.0   \n",
       "\n",
       "                                 Text  \n",
       "0          TEXAS<br>Property Cost 0.0  \n",
       "1          TEXAS<br>Property Cost 0.0  \n",
       "2          TEXAS<br>Property Cost 0.0  \n",
       "3  TEXAS<br>Property Cost 600000000.0  \n",
       "4   TEXAS<br>Property Cost 85000000.0  "
      ]
     },
     "execution_count": 237,
     "metadata": {},
     "output_type": "execute_result"
    }
   ],
   "source": [
    "start_df = harvey_top[['State', 'Begin_Lat', 'Begin_Lon', 'Property_Cost']].dropna().reset_index()\n",
    "start_df.drop('index', axis=1, inplace=True)\n",
    "start_df['Text'] = start_df['State'] + '<br>Property Cost ' + (start_df['Property_Cost']).astype(str)\n",
    "start_df.head()"
   ]
  },
  {
   "cell_type": "code",
   "execution_count": 238,
   "metadata": {},
   "outputs": [
    {
     "data": {
      "text/plain": [
       "['TEXAS', 'LOUISIANA']"
      ]
     },
     "execution_count": 238,
     "metadata": {},
     "output_type": "execute_result"
    }
   ],
   "source": [
    "top_two = list(start_df['State'].unique())\n",
    "top_two"
   ]
  },
  {
   "cell_type": "code",
   "execution_count": 239,
   "metadata": {},
   "outputs": [],
   "source": [
    "colors = ['#E58606', '#5D69B1']"
   ]
  },
  {
   "cell_type": "code",
   "execution_count": 242,
   "metadata": {},
   "outputs": [
    {
     "data": {
      "application/vnd.plotly.v1+json": {
       "config": {
        "plotlyServerURL": "https://plot.ly"
       },
       "data": [
        {
         "lat": [
          31.5285,
          31.7715,
          31.7839,
          29.7585,
          30.9235,
          30.9449,
          29.5499,
          34.372,
          30.92,
          30.0181,
          30.4284,
          31.85,
          29.7808,
          29.5162,
          34.54,
          31.1188,
          31.2063,
          31.0925,
          31.0663,
          30.4561,
          29.598,
          33.58,
          31.2635,
          34.5157,
          33.5331,
          33.55,
          29.542,
          33.39,
          33.21,
          33.5221,
          31.3501,
          31.2535,
          31.4088,
          31.2582,
          31.3536,
          31.1372,
          31.2687,
          31.4817,
          31.25,
          31.2938,
          31.1998,
          31.3292,
          31.1766,
          36.17,
          30.1123,
          29.9887,
          31.7831,
          31.5947,
          31.2585,
          36.02,
          35.07,
          36.03,
          29.9592,
          36.15,
          36.15,
          31.37,
          29.5314,
          29.5111,
          31.3992,
          34.5411,
          35.92,
          30.66,
          32.01,
          30.3872,
          29.5527,
          31.2018,
          32.7406,
          33.5473,
          33.6407,
          33.2306,
          36.06,
          35.75,
          35.53,
          29.5736,
          30.1713,
          32.7474,
          32.7491,
          33.03,
          33.1,
          33.1933,
          28.8773,
          29.5039,
          33.67,
          34.13,
          34.27,
          29.7758,
          30.92,
          29.561,
          32.45,
          32.42,
          32.45,
          29.7756,
          29.4379,
          30.02,
          30,
          30.0108,
          29.31,
          29.31,
          29.93,
          29.7054,
          29.9872,
          30.02,
          29.9812,
          29.79,
          30.02,
          30.5314,
          30.1218,
          29.9599,
          30.04,
          29.0967,
          30.58,
          29.5927,
          29.3763,
          29.8889,
          29.3757,
          29.3132,
          30.8564,
          30.1642,
          29.4493,
          29.4972,
          30.5168,
          30.0044,
          30.3244,
          30.0408,
          29.1204,
          29.0959,
          29.62,
          29.9623,
          29.4475,
          29.4379,
          29.78,
          30.3153,
          28.4239,
          28.3238,
          28.9435,
          28.5048,
          29.5688,
          29.7551,
          29.7216,
          29.193,
          29.72,
          29.4853,
          29.6896,
          30.3855,
          29.7337,
          30.0886,
          29.8598,
          29.0661,
          30.0513,
          29.7143,
          29.3104,
          28.9811,
          28.8874,
          30.2739,
          30.0375,
          30.0858,
          29.3896,
          29.8599,
          29.8285,
          29.9243,
          30.4803,
          29.776,
          29,
          31.0306,
          30.0367,
          30.5162,
          29.7388,
          29.8527,
          29.6896,
          30.0173,
          29.4873,
          29.7,
          29.5706,
          29.55,
          29.907,
          29.7102,
          29.9528,
          29.8457,
          29.3421,
          29.5438,
          30.3163,
          30,
          29.2103,
          29.77,
          28.7699,
          29.2987,
          29.5246,
          29.5106,
          29.5915,
          30.2342,
          30.1431,
          29.2216,
          29.46,
          29.8067,
          29.6943,
          30.4357,
          29.1464,
          29.9409,
          29.717,
          30.0342,
          30.7347,
          30
         ],
         "locationmode": "USA-states",
         "lon": [
          -106.1346,
          -106.5028,
          -106.5205,
          -93.9153,
          -94.5992,
          -93.5458,
          -95.7579,
          -100.9851,
          -94,
          -94.0457,
          -95.509,
          -102.4722,
          -93.9376,
          -95.1416,
          -101.74,
          -94.4607,
          -94.7819,
          -94.4929,
          -94.427,
          -95.018,
          -95.316,
          -101.88,
          -94.8304,
          -101.9099,
          -102.3752,
          -98.2,
          -95.0988,
          -102.4,
          -101.78,
          -102.37,
          -93.8588,
          -94.0606,
          -93.8332,
          -93.9705,
          -94.7998,
          -94.4287,
          -94.8297,
          -93.9389,
          -93.9855,
          -94.0276,
          -93.7363,
          -93.9402,
          -94.6086,
          -101.66,
          -95.658,
          -95.8392,
          -94.2469,
          -93.9785,
          -93.9857,
          -101.53,
          -101.79,
          -102.55,
          -96.5211,
          -100.8,
          -100.8,
          -100.29,
          -95.2295,
          -95.1303,
          -94.6413,
          -101.7375,
          -100.28,
          -101.69,
          -99.52,
          -95.5275,
          -94.3775,
          -93.737,
          -96.2818,
          -96.8488,
          -96.8441,
          -97.0844,
          -102.44,
          -102.14,
          -102.27,
          -95.2789,
          -94.1851,
          -96.6008,
          -96.755,
          -96.43,
          -96.45,
          -96.2878,
          -97.1603,
          -95.1382,
          -101.82,
          -101.57,
          -100.6,
          -93.9372,
          -94.6,
          -95.2535,
          -99.73,
          -99.86,
          -99.87,
          -95.8442,
          -95.45,
          -97.54,
          -97.14,
          -97.9328,
          -94.79,
          -94.79,
          -97.78,
          -97.2245,
          -96.8349,
          -97.63,
          -97.0093,
          -97.64,
          -97.17,
          -97.5866,
          -97.3816,
          -96.9075,
          -97.46,
          -97.3492,
          -97.7828,
          -95.4067,
          -95.5028,
          -95.5996,
          -94.7289,
          -94.7732,
          -95.1897,
          -95.4726,
          -96.0027,
          -94.9164,
          -95.3895,
          -95.7397,
          -95.2048,
          -95.2487,
          -96.8479,
          -96.9598,
          -96.07,
          -97.7069,
          -95.4599,
          -95.45,
          -95.8466,
          -97.0564,
          -96.6671,
          -96.9969,
          -97.1988,
          -96.8874,
          -95.0139,
          -94.5676,
          -95.2927,
          -95.9209,
          -97.64,
          -95.5206,
          -97.6015,
          -96.0897,
          -96.4371,
          -95.993,
          -94.5992,
          -95.5958,
          -94.7959,
          -95.5697,
          -94.7699,
          -95.483,
          -96.2293,
          -96.7161,
          -95.4187,
          -95.9618,
          -96.221,
          -95.4273,
          -94.8889,
          -95.1516,
          -96.315,
          -95.844,
          -95.32,
          -95.8042,
          -95.4209,
          -95.3078,
          -94.9528,
          -94.9013,
          -95.2072,
          -97.1554,
          -95.517,
          -95.76,
          -95.5125,
          -95.11,
          -95.6872,
          -95.8708,
          -95.6704,
          -94.5895,
          -96.25,
          -96.0845,
          -94.9957,
          -97.15,
          -95.4787,
          -94.68,
          -95.6255,
          -95.3045,
          -96.0669,
          -95.0057,
          -96.1949,
          -95.7932,
          -95.7622,
          -95.3505,
          -95.4993,
          -95.4204,
          -95.7974,
          -95.7023,
          -95.5448,
          -94.6115,
          -95.4151,
          -95.4334,
          -95.5467,
          -97.15
         ],
         "marker": {
          "color": "#E58606",
          "line": {
           "color": "rgb(40,40,40)",
           "width": 0.2
          },
          "size": [
           3,
           3,
           3,
           4.507131858905749,
           3.2135103466783144,
           3.113034889417931,
           3,
           3.000025118864315,
           3.0000125594321574,
           3,
           3,
           3.000020095091452,
           10.535659294528747,
           3,
           3,
           3,
           3,
           3,
           3,
           3,
           3,
           3.0000012559432157,
           3,
           3,
           3.0001054992301235,
           3,
           3,
           3,
           3,
           3,
           3,
           3,
           3,
           3,
           3,
           3,
           3,
           3,
           3,
           3,
           3,
           3,
           3,
           3,
           3,
           3,
           3,
           3,
           3,
           3,
           3,
           3,
           3,
           3,
           3,
           3,
           3,
           3,
           3,
           3,
           3,
           3,
           3,
           3,
           3,
           3,
           3,
           3,
           3,
           3,
           3,
           3,
           3,
           3,
           3,
           3,
           3,
           3,
           3,
           3.0001255943215757,
           3.150713185890575,
           3,
           3,
           3,
           3,
           3,
           3,
           3,
           3,
           3,
           3,
           3,
           3,
           3,
           3,
           3,
           3,
           3,
           3,
           3.037678296472644,
           3,
           3,
           3,
           3,
           3,
           3,
           3,
           3,
           3,
           3,
           3,
           3,
           3,
           3,
           3.0000175832050204,
           3.0000125594321574,
           3,
           3,
           3,
           3,
           3,
           3,
           3,
           3,
           3,
           3,
           3,
           3.0005023772863018,
           3,
           3,
           3,
           3,
           3,
           3,
           3,
           3,
           3,
           3,
           3.0000376782964726,
           3,
           3,
           3,
           3,
           3,
           3,
           3,
           6.7678296472643735,
           3.150713185890575,
           3,
           3,
           3,
           3,
           3.0005023772863018,
           3.001255943215755,
           3,
           3,
           3.000251188643151,
           3,
           3,
           3,
           3,
           3,
           3,
           3,
           3,
           3,
           3,
           3.0037678296472645,
           3.125594321575479,
           3,
           3.0075356592945286,
           3,
           8.023772863019165,
           3,
           3,
           3,
           3.0000025118864313,
           3.7535659294528747,
           3,
           23.09509145207666,
           28.118864315095824,
           4.507131858905749,
           3,
           3.879160251028354,
           20.583205020567075,
           3.000251188643151,
           3.000251188643151,
           3.000251188643151,
           3.032277740644898,
           3.001255943215755,
           3.001255943215755,
           3.001255943215755,
           3.0006279716078774,
           3.000025118864315,
           3,
           3.050237728630192,
           3.0025118864315097,
           28.118864315095824,
           3,
           3,
           3,
           3,
           3,
           3,
           3,
           3,
           3,
           3,
           3,
           3,
           3,
           3.0000012559432157,
           3.000075356592945,
           3,
           3,
           3,
           3,
           3,
           3,
           3,
           3.000251188643151,
           3,
           3.0020095091452075,
           3,
           3,
           3,
           3,
           3,
           3,
           3,
           3,
           3.001255943215755,
           3.000075356592945,
           3.0050237728630194,
           3.0001255943215757,
           3.001255943215755,
           3,
           3.000075356592945,
           3,
           3,
           3.0001255943215757,
           3,
           3,
           3,
           3,
           3.001255943215755,
           3.0001255943215757,
           3.000753565929453,
           3.0005023772863018,
           3,
           3,
           3,
           3.000251188643151,
           3,
           3,
           3,
           3,
           3.000251188643151,
           3,
           3.0001255943215757,
           3,
           3,
           3
          ],
          "sizemode": "diameter"
         },
         "name": "TEXAS",
         "text": [
          "TEXAS<br>Property Cost 0.0",
          "TEXAS<br>Property Cost 0.0",
          "TEXAS<br>Property Cost 0.0",
          "TEXAS<br>Property Cost 600000000.0",
          "TEXAS<br>Property Cost 85000000.0",
          "TEXAS<br>Property Cost 45000000.0",
          "TEXAS<br>Property Cost 0.0",
          "TEXAS<br>Property Cost 10000.0",
          "TEXAS<br>Property Cost 5000.0",
          "TEXAS<br>Property Cost 0.0",
          "TEXAS<br>Property Cost 0.0",
          "TEXAS<br>Property Cost 8000.0",
          "TEXAS<br>Property Cost 3000000000.0",
          "TEXAS<br>Property Cost 0.0",
          "TEXAS<br>Property Cost 0.0",
          "TEXAS<br>Property Cost 0.0",
          "TEXAS<br>Property Cost 0.0",
          "TEXAS<br>Property Cost 0.0",
          "TEXAS<br>Property Cost 0.0",
          "TEXAS<br>Property Cost 0.0",
          "TEXAS<br>Property Cost 0.0",
          "TEXAS<br>Property Cost 500.0",
          "TEXAS<br>Property Cost 0.0",
          "TEXAS<br>Property Cost 0.0",
          "TEXAS<br>Property Cost 42000.0",
          "TEXAS<br>Property Cost 0.0",
          "TEXAS<br>Property Cost 0.0",
          "TEXAS<br>Property Cost 0.0",
          "TEXAS<br>Property Cost 0.0",
          "TEXAS<br>Property Cost 0.0",
          "TEXAS<br>Property Cost 0.0",
          "TEXAS<br>Property Cost 0.0",
          "TEXAS<br>Property Cost 0.0",
          "TEXAS<br>Property Cost 0.0",
          "TEXAS<br>Property Cost 0.0",
          "TEXAS<br>Property Cost 0.0",
          "TEXAS<br>Property Cost 0.0",
          "TEXAS<br>Property Cost 0.0",
          "TEXAS<br>Property Cost 0.0",
          "TEXAS<br>Property Cost 0.0",
          "TEXAS<br>Property Cost 0.0",
          "TEXAS<br>Property Cost 0.0",
          "TEXAS<br>Property Cost 0.0",
          "TEXAS<br>Property Cost 0.0",
          "TEXAS<br>Property Cost 0.0",
          "TEXAS<br>Property Cost 0.0",
          "TEXAS<br>Property Cost 0.0",
          "TEXAS<br>Property Cost 0.0",
          "TEXAS<br>Property Cost 0.0",
          "TEXAS<br>Property Cost 0.0",
          "TEXAS<br>Property Cost 0.0",
          "TEXAS<br>Property Cost 0.0",
          "TEXAS<br>Property Cost 0.0",
          "TEXAS<br>Property Cost 0.0",
          "TEXAS<br>Property Cost 0.0",
          "TEXAS<br>Property Cost 0.0",
          "TEXAS<br>Property Cost 0.0",
          "TEXAS<br>Property Cost 0.0",
          "TEXAS<br>Property Cost 0.0",
          "TEXAS<br>Property Cost 0.0",
          "TEXAS<br>Property Cost 0.0",
          "TEXAS<br>Property Cost 0.0",
          "TEXAS<br>Property Cost 0.0",
          "TEXAS<br>Property Cost 0.0",
          "TEXAS<br>Property Cost 0.0",
          "TEXAS<br>Property Cost 0.0",
          "TEXAS<br>Property Cost 0.0",
          "TEXAS<br>Property Cost 0.0",
          "TEXAS<br>Property Cost 0.0",
          "TEXAS<br>Property Cost 0.0",
          "TEXAS<br>Property Cost 0.0",
          "TEXAS<br>Property Cost 0.0",
          "TEXAS<br>Property Cost 0.0",
          "TEXAS<br>Property Cost 0.0",
          "TEXAS<br>Property Cost 0.0",
          "TEXAS<br>Property Cost 0.0",
          "TEXAS<br>Property Cost 0.0",
          "TEXAS<br>Property Cost 0.0",
          "TEXAS<br>Property Cost 0.0",
          "TEXAS<br>Property Cost 0.0",
          "TEXAS<br>Property Cost 0.0",
          "TEXAS<br>Property Cost 0.0",
          "TEXAS<br>Property Cost 0.0",
          "TEXAS<br>Property Cost 0.0",
          "TEXAS<br>Property Cost 0.0",
          "TEXAS<br>Property Cost 1500000000.0",
          "TEXAS<br>Property Cost 60000000.0",
          "TEXAS<br>Property Cost 0.0",
          "TEXAS<br>Property Cost 0.0",
          "TEXAS<br>Property Cost 0.0",
          "TEXAS<br>Property Cost 0.0",
          "TEXAS<br>Property Cost 200000.0",
          "TEXAS<br>Property Cost 500000.0",
          "TEXAS<br>Property Cost 0.0",
          "TEXAS<br>Property Cost 0.0",
          "TEXAS<br>Property Cost 100000.0",
          "TEXAS<br>Property Cost 0.0",
          "TEXAS<br>Property Cost 0.0",
          "TEXAS<br>Property Cost 0.0",
          "TEXAS<br>Property Cost 0.0",
          "TEXAS<br>Property Cost 0.0",
          "TEXAS<br>Property Cost 0.0",
          "TEXAS<br>Property Cost 0.0",
          "TEXAS<br>Property Cost 0.0",
          "TEXAS<br>Property Cost 0.0",
          "TEXAS<br>Property Cost 0.0",
          "TEXAS<br>Property Cost 1500000.0",
          "TEXAS<br>Property Cost 50000000.0",
          "TEXAS<br>Property Cost 0.0",
          "TEXAS<br>Property Cost 3000000.0",
          "TEXAS<br>Property Cost 0.0",
          "TEXAS<br>Property Cost 2000000000.0",
          "TEXAS<br>Property Cost 0.0",
          "TEXAS<br>Property Cost 0.0",
          "TEXAS<br>Property Cost 0.0",
          "TEXAS<br>Property Cost 1000.0",
          "TEXAS<br>Property Cost 300000000.0",
          "TEXAS<br>Property Cost 0.0",
          "TEXAS<br>Property Cost 8000000000.0",
          "TEXAS<br>Property Cost 10000000000.0",
          "TEXAS<br>Property Cost 600000000.0",
          "TEXAS<br>Property Cost 0.0",
          "TEXAS<br>Property Cost 350000000.0",
          "TEXAS<br>Property Cost 7000000000.0",
          "TEXAS<br>Property Cost 100000.0",
          "TEXAS<br>Property Cost 100000.0",
          "TEXAS<br>Property Cost 100000.0",
          "TEXAS<br>Property Cost 12850000.0",
          "TEXAS<br>Property Cost 500000.0",
          "TEXAS<br>Property Cost 500000.0",
          "TEXAS<br>Property Cost 500000.0",
          "TEXAS<br>Property Cost 250000.0",
          "TEXAS<br>Property Cost 10000.0",
          "TEXAS<br>Property Cost 0.0",
          "TEXAS<br>Property Cost 20000000.0",
          "TEXAS<br>Property Cost 1000000.0",
          "TEXAS<br>Property Cost 10000000000.0",
          "TEXAS<br>Property Cost 0.0",
          "TEXAS<br>Property Cost 0.0",
          "TEXAS<br>Property Cost 0.0",
          "TEXAS<br>Property Cost 0.0",
          "TEXAS<br>Property Cost 0.0",
          "TEXAS<br>Property Cost 0.0",
          "TEXAS<br>Property Cost 0.0",
          "TEXAS<br>Property Cost 0.0",
          "TEXAS<br>Property Cost 0.0",
          "TEXAS<br>Property Cost 0.0",
          "TEXAS<br>Property Cost 0.0",
          "TEXAS<br>Property Cost 0.0",
          "TEXAS<br>Property Cost 0.0",
          "TEXAS<br>Property Cost 500.0",
          "TEXAS<br>Property Cost 30000.0",
          "TEXAS<br>Property Cost 0.0",
          "TEXAS<br>Property Cost 0.0",
          "TEXAS<br>Property Cost 0.0",
          "TEXAS<br>Property Cost 0.0",
          "TEXAS<br>Property Cost 0.0",
          "TEXAS<br>Property Cost 0.0",
          "TEXAS<br>Property Cost 0.0",
          "TEXAS<br>Property Cost 100000.0",
          "TEXAS<br>Property Cost 0.0",
          "TEXAS<br>Property Cost 800000.0",
          "TEXAS<br>Property Cost 0.0",
          "TEXAS<br>Property Cost 0.0",
          "TEXAS<br>Property Cost 0.0",
          "TEXAS<br>Property Cost 0.0",
          "TEXAS<br>Property Cost 0.0",
          "TEXAS<br>Property Cost 0.0",
          "TEXAS<br>Property Cost 0.0",
          "TEXAS<br>Property Cost 0.0",
          "TEXAS<br>Property Cost 500000.0",
          "TEXAS<br>Property Cost 30000.0",
          "TEXAS<br>Property Cost 2000000.0",
          "TEXAS<br>Property Cost 50000.0",
          "TEXAS<br>Property Cost 500000.0",
          "TEXAS<br>Property Cost 0.0",
          "TEXAS<br>Property Cost 30000.0",
          "TEXAS<br>Property Cost 0.0",
          "TEXAS<br>Property Cost 0.0",
          "TEXAS<br>Property Cost 50000.0",
          "TEXAS<br>Property Cost 0.0",
          "TEXAS<br>Property Cost 0.0",
          "TEXAS<br>Property Cost 0.0",
          "TEXAS<br>Property Cost 0.0",
          "TEXAS<br>Property Cost 500000.0",
          "TEXAS<br>Property Cost 50000.0",
          "TEXAS<br>Property Cost 300000.0",
          "TEXAS<br>Property Cost 200000.0",
          "TEXAS<br>Property Cost 0.0",
          "TEXAS<br>Property Cost 0.0",
          "TEXAS<br>Property Cost 0.0",
          "TEXAS<br>Property Cost 100000.0",
          "TEXAS<br>Property Cost 0.0",
          "TEXAS<br>Property Cost 0.0",
          "TEXAS<br>Property Cost 0.0",
          "TEXAS<br>Property Cost 0.0",
          "TEXAS<br>Property Cost 100000.0",
          "TEXAS<br>Property Cost 0.0",
          "TEXAS<br>Property Cost 50000.0",
          "TEXAS<br>Property Cost 0.0",
          "TEXAS<br>Property Cost 0.0",
          "TEXAS<br>Property Cost 0.0"
         ],
         "type": "scattergeo"
        },
        {
         "lat": [
          31.5876,
          31.4212,
          31.4432,
          32.038,
          31.5576,
          31.9469,
          31.5036,
          31.7812,
          31.787,
          31.5949,
          31.5981,
          31.8952,
          31.8386,
          31.7831,
          31.7409,
          31.9427,
          31.975,
          31.7932,
          31.7797,
          29.9217,
          29.7681,
          29.7693,
          31.5815,
          31.4429,
          31.7438,
          31.9943,
          32.1118,
          31.9673,
          31.9402,
          32.101,
          32.0045,
          31.9702,
          31.9691,
          32.1236,
          31.9864,
          29.7694,
          32.0837,
          32.1217,
          31.8882,
          31.9989,
          32.1007,
          31.7128,
          31.7913,
          31.9781,
          31.8975,
          32.0955,
          31.6147,
          31.5679,
          29.9692,
          29.9893,
          29.9708,
          31.5778,
          32.1817,
          32.047,
          29.6788,
          29.96,
          30.16,
          30.2276,
          29.7638,
          30.01,
          30.0568
         ],
         "locationmode": "USA-states",
         "lon": [
          -93.4786,
          -93.3651,
          -93.4804,
          -93.2216,
          -93.4864,
          -93.2689,
          -93.4522,
          -93.1124,
          -93.1249,
          -93.5325,
          -93.4594,
          -93.3604,
          -93.281,
          -93.7073,
          -93.2743,
          -93.1369,
          -93.7296,
          -93.5275,
          -93.7875,
          -90.3371,
          -93.8864,
          -93.8892,
          -93.4765,
          -93.4808,
          -93.5118,
          -93.0679,
          -93.1339,
          -92.7662,
          -93.4529,
          -93.1045,
          -93.2066,
          -92.6912,
          -92.795,
          -92.893,
          -92.7665,
          -93.8809,
          -93.1834,
          -93.3629,
          -93.1102,
          -93.0448,
          -93.4401,
          -93.2179,
          -93.3965,
          -93.0479,
          -93.1337,
          -93.1602,
          -93.1006,
          -92.9976,
          -93.3495,
          -92.0415,
          -91.7559,
          -92.9977,
          -93.2292,
          -93.3085,
          -90.5315,
          -92.41,
          -92.18,
          -92.5776,
          -93.71,
          -92.12,
          -90.8154
         ],
         "marker": {
          "color": "#5D69B1",
          "line": {
           "color": "rgb(40,40,40)",
           "width": 0.2
          },
          "size": [
           3,
           3,
           3,
           4.507131858905749,
           3.2135103466783144,
           3.113034889417931,
           3,
           3.000025118864315,
           3.0000125594321574,
           3,
           3,
           3.000020095091452,
           10.535659294528747,
           3,
           3,
           3,
           3,
           3,
           3,
           3,
           3,
           3.0000012559432157,
           3,
           3,
           3.0001054992301235,
           3,
           3,
           3,
           3,
           3,
           3,
           3,
           3,
           3,
           3,
           3,
           3,
           3,
           3,
           3,
           3,
           3,
           3,
           3,
           3,
           3,
           3,
           3,
           3,
           3,
           3,
           3,
           3,
           3,
           3,
           3,
           3,
           3,
           3,
           3,
           3,
           3,
           3,
           3,
           3,
           3,
           3,
           3,
           3,
           3,
           3,
           3,
           3,
           3,
           3,
           3,
           3,
           3,
           3,
           3.0001255943215757,
           3.150713185890575,
           3,
           3,
           3,
           3,
           3,
           3,
           3,
           3,
           3,
           3,
           3,
           3,
           3,
           3,
           3,
           3,
           3,
           3,
           3.037678296472644,
           3,
           3,
           3,
           3,
           3,
           3,
           3,
           3,
           3,
           3,
           3,
           3,
           3,
           3,
           3.0000175832050204,
           3.0000125594321574,
           3,
           3,
           3,
           3,
           3,
           3,
           3,
           3,
           3,
           3,
           3,
           3.0005023772863018,
           3,
           3,
           3,
           3,
           3,
           3,
           3,
           3,
           3,
           3,
           3.0000376782964726,
           3,
           3,
           3,
           3,
           3,
           3,
           3,
           6.7678296472643735,
           3.150713185890575,
           3,
           3,
           3,
           3,
           3.0005023772863018,
           3.001255943215755,
           3,
           3,
           3.000251188643151,
           3,
           3,
           3,
           3,
           3,
           3,
           3,
           3,
           3,
           3,
           3.0037678296472645,
           3.125594321575479,
           3,
           3.0075356592945286,
           3,
           8.023772863019165,
           3,
           3,
           3,
           3.0000025118864313,
           3.7535659294528747,
           3,
           23.09509145207666,
           28.118864315095824,
           4.507131858905749,
           3,
           3.879160251028354,
           20.583205020567075,
           3.000251188643151,
           3.000251188643151,
           3.000251188643151,
           3.032277740644898,
           3.001255943215755,
           3.001255943215755,
           3.001255943215755,
           3.0006279716078774,
           3.000025118864315,
           3,
           3.050237728630192,
           3.0025118864315097,
           28.118864315095824,
           3,
           3,
           3,
           3,
           3,
           3,
           3,
           3,
           3,
           3,
           3,
           3,
           3,
           3.0000012559432157,
           3.000075356592945,
           3,
           3,
           3,
           3,
           3,
           3,
           3,
           3.000251188643151,
           3,
           3.0020095091452075,
           3,
           3,
           3,
           3,
           3,
           3,
           3,
           3,
           3.001255943215755,
           3.000075356592945,
           3.0050237728630194,
           3.0001255943215757,
           3.001255943215755,
           3,
           3.000075356592945,
           3,
           3,
           3.0001255943215757,
           3,
           3,
           3,
           3,
           3.001255943215755,
           3.0001255943215757,
           3.000753565929453,
           3.0005023772863018,
           3,
           3,
           3,
           3.000251188643151,
           3,
           3,
           3,
           3,
           3.000251188643151,
           3,
           3.0001255943215757,
           3,
           3,
           3
          ],
          "sizemode": "diameter"
         },
         "name": "LOUISIANA",
         "text": [
          "LOUISIANA<br>Property Cost 0.0",
          "LOUISIANA<br>Property Cost 0.0",
          "LOUISIANA<br>Property Cost 0.0",
          "LOUISIANA<br>Property Cost 0.0",
          "LOUISIANA<br>Property Cost 0.0",
          "LOUISIANA<br>Property Cost 0.0",
          "LOUISIANA<br>Property Cost 0.0",
          "LOUISIANA<br>Property Cost 0.0",
          "LOUISIANA<br>Property Cost 0.0",
          "LOUISIANA<br>Property Cost 0.0",
          "LOUISIANA<br>Property Cost 0.0",
          "LOUISIANA<br>Property Cost 0.0",
          "LOUISIANA<br>Property Cost 0.0",
          "LOUISIANA<br>Property Cost 0.0",
          "LOUISIANA<br>Property Cost 0.0",
          "LOUISIANA<br>Property Cost 0.0",
          "LOUISIANA<br>Property Cost 0.0",
          "LOUISIANA<br>Property Cost 0.0",
          "LOUISIANA<br>Property Cost 0.0",
          "LOUISIANA<br>Property Cost 0.0",
          "LOUISIANA<br>Property Cost 50000.0",
          "LOUISIANA<br>Property Cost 60000000.0",
          "LOUISIANA<br>Property Cost 0.0",
          "LOUISIANA<br>Property Cost 0.0",
          "LOUISIANA<br>Property Cost 0.0",
          "LOUISIANA<br>Property Cost 0.0",
          "LOUISIANA<br>Property Cost 0.0",
          "LOUISIANA<br>Property Cost 0.0",
          "LOUISIANA<br>Property Cost 0.0",
          "LOUISIANA<br>Property Cost 0.0",
          "LOUISIANA<br>Property Cost 0.0",
          "LOUISIANA<br>Property Cost 0.0",
          "LOUISIANA<br>Property Cost 0.0",
          "LOUISIANA<br>Property Cost 0.0",
          "LOUISIANA<br>Property Cost 0.0",
          "LOUISIANA<br>Property Cost 15000000.0",
          "LOUISIANA<br>Property Cost 0.0",
          "LOUISIANA<br>Property Cost 0.0",
          "LOUISIANA<br>Property Cost 0.0",
          "LOUISIANA<br>Property Cost 0.0",
          "LOUISIANA<br>Property Cost 0.0",
          "LOUISIANA<br>Property Cost 0.0",
          "LOUISIANA<br>Property Cost 0.0",
          "LOUISIANA<br>Property Cost 0.0",
          "LOUISIANA<br>Property Cost 0.0",
          "LOUISIANA<br>Property Cost 0.0",
          "LOUISIANA<br>Property Cost 0.0",
          "LOUISIANA<br>Property Cost 0.0",
          "LOUISIANA<br>Property Cost 7000.0",
          "LOUISIANA<br>Property Cost 5000.0",
          "LOUISIANA<br>Property Cost 0.0",
          "LOUISIANA<br>Property Cost 0.0",
          "LOUISIANA<br>Property Cost 0.0",
          "LOUISIANA<br>Property Cost 0.0",
          "LOUISIANA<br>Property Cost 0.0",
          "LOUISIANA<br>Property Cost 0.0",
          "LOUISIANA<br>Property Cost 0.0",
          "LOUISIANA<br>Property Cost 200000.0",
          "LOUISIANA<br>Property Cost 15000.0",
          "LOUISIANA<br>Property Cost 0.0",
          "LOUISIANA<br>Property Cost 0.0"
         ],
         "type": "scattergeo"
        }
       ],
       "layout": {
        "geo": {
         "countrycolor": "rgb(217, 217, 217)",
         "countrywidth": 0.5,
         "landcolor": "rgb(250,250,250)",
         "projection": {
          "type": "albers usa"
         },
         "scope": "usa",
         "subunitcolor": "rgb(200, 200, 200)",
         "subunitwidth": 0.5
        },
        "showlegend": true,
        "template": {
         "data": {
          "bar": [
           {
            "error_x": {
             "color": "#2a3f5f"
            },
            "error_y": {
             "color": "#2a3f5f"
            },
            "marker": {
             "line": {
              "color": "#E5ECF6",
              "width": 0.5
             },
             "pattern": {
              "fillmode": "overlay",
              "size": 10,
              "solidity": 0.2
             }
            },
            "type": "bar"
           }
          ],
          "barpolar": [
           {
            "marker": {
             "line": {
              "color": "#E5ECF6",
              "width": 0.5
             },
             "pattern": {
              "fillmode": "overlay",
              "size": 10,
              "solidity": 0.2
             }
            },
            "type": "barpolar"
           }
          ],
          "carpet": [
           {
            "aaxis": {
             "endlinecolor": "#2a3f5f",
             "gridcolor": "white",
             "linecolor": "white",
             "minorgridcolor": "white",
             "startlinecolor": "#2a3f5f"
            },
            "baxis": {
             "endlinecolor": "#2a3f5f",
             "gridcolor": "white",
             "linecolor": "white",
             "minorgridcolor": "white",
             "startlinecolor": "#2a3f5f"
            },
            "type": "carpet"
           }
          ],
          "choropleth": [
           {
            "colorbar": {
             "outlinewidth": 0,
             "ticks": ""
            },
            "type": "choropleth"
           }
          ],
          "contour": [
           {
            "colorbar": {
             "outlinewidth": 0,
             "ticks": ""
            },
            "colorscale": [
             [
              0,
              "#0d0887"
             ],
             [
              0.1111111111111111,
              "#46039f"
             ],
             [
              0.2222222222222222,
              "#7201a8"
             ],
             [
              0.3333333333333333,
              "#9c179e"
             ],
             [
              0.4444444444444444,
              "#bd3786"
             ],
             [
              0.5555555555555556,
              "#d8576b"
             ],
             [
              0.6666666666666666,
              "#ed7953"
             ],
             [
              0.7777777777777778,
              "#fb9f3a"
             ],
             [
              0.8888888888888888,
              "#fdca26"
             ],
             [
              1,
              "#f0f921"
             ]
            ],
            "type": "contour"
           }
          ],
          "contourcarpet": [
           {
            "colorbar": {
             "outlinewidth": 0,
             "ticks": ""
            },
            "type": "contourcarpet"
           }
          ],
          "heatmap": [
           {
            "colorbar": {
             "outlinewidth": 0,
             "ticks": ""
            },
            "colorscale": [
             [
              0,
              "#0d0887"
             ],
             [
              0.1111111111111111,
              "#46039f"
             ],
             [
              0.2222222222222222,
              "#7201a8"
             ],
             [
              0.3333333333333333,
              "#9c179e"
             ],
             [
              0.4444444444444444,
              "#bd3786"
             ],
             [
              0.5555555555555556,
              "#d8576b"
             ],
             [
              0.6666666666666666,
              "#ed7953"
             ],
             [
              0.7777777777777778,
              "#fb9f3a"
             ],
             [
              0.8888888888888888,
              "#fdca26"
             ],
             [
              1,
              "#f0f921"
             ]
            ],
            "type": "heatmap"
           }
          ],
          "heatmapgl": [
           {
            "colorbar": {
             "outlinewidth": 0,
             "ticks": ""
            },
            "colorscale": [
             [
              0,
              "#0d0887"
             ],
             [
              0.1111111111111111,
              "#46039f"
             ],
             [
              0.2222222222222222,
              "#7201a8"
             ],
             [
              0.3333333333333333,
              "#9c179e"
             ],
             [
              0.4444444444444444,
              "#bd3786"
             ],
             [
              0.5555555555555556,
              "#d8576b"
             ],
             [
              0.6666666666666666,
              "#ed7953"
             ],
             [
              0.7777777777777778,
              "#fb9f3a"
             ],
             [
              0.8888888888888888,
              "#fdca26"
             ],
             [
              1,
              "#f0f921"
             ]
            ],
            "type": "heatmapgl"
           }
          ],
          "histogram": [
           {
            "marker": {
             "pattern": {
              "fillmode": "overlay",
              "size": 10,
              "solidity": 0.2
             }
            },
            "type": "histogram"
           }
          ],
          "histogram2d": [
           {
            "colorbar": {
             "outlinewidth": 0,
             "ticks": ""
            },
            "colorscale": [
             [
              0,
              "#0d0887"
             ],
             [
              0.1111111111111111,
              "#46039f"
             ],
             [
              0.2222222222222222,
              "#7201a8"
             ],
             [
              0.3333333333333333,
              "#9c179e"
             ],
             [
              0.4444444444444444,
              "#bd3786"
             ],
             [
              0.5555555555555556,
              "#d8576b"
             ],
             [
              0.6666666666666666,
              "#ed7953"
             ],
             [
              0.7777777777777778,
              "#fb9f3a"
             ],
             [
              0.8888888888888888,
              "#fdca26"
             ],
             [
              1,
              "#f0f921"
             ]
            ],
            "type": "histogram2d"
           }
          ],
          "histogram2dcontour": [
           {
            "colorbar": {
             "outlinewidth": 0,
             "ticks": ""
            },
            "colorscale": [
             [
              0,
              "#0d0887"
             ],
             [
              0.1111111111111111,
              "#46039f"
             ],
             [
              0.2222222222222222,
              "#7201a8"
             ],
             [
              0.3333333333333333,
              "#9c179e"
             ],
             [
              0.4444444444444444,
              "#bd3786"
             ],
             [
              0.5555555555555556,
              "#d8576b"
             ],
             [
              0.6666666666666666,
              "#ed7953"
             ],
             [
              0.7777777777777778,
              "#fb9f3a"
             ],
             [
              0.8888888888888888,
              "#fdca26"
             ],
             [
              1,
              "#f0f921"
             ]
            ],
            "type": "histogram2dcontour"
           }
          ],
          "mesh3d": [
           {
            "colorbar": {
             "outlinewidth": 0,
             "ticks": ""
            },
            "type": "mesh3d"
           }
          ],
          "parcoords": [
           {
            "line": {
             "colorbar": {
              "outlinewidth": 0,
              "ticks": ""
             }
            },
            "type": "parcoords"
           }
          ],
          "pie": [
           {
            "automargin": true,
            "type": "pie"
           }
          ],
          "scatter": [
           {
            "fillpattern": {
             "fillmode": "overlay",
             "size": 10,
             "solidity": 0.2
            },
            "type": "scatter"
           }
          ],
          "scatter3d": [
           {
            "line": {
             "colorbar": {
              "outlinewidth": 0,
              "ticks": ""
             }
            },
            "marker": {
             "colorbar": {
              "outlinewidth": 0,
              "ticks": ""
             }
            },
            "type": "scatter3d"
           }
          ],
          "scattercarpet": [
           {
            "marker": {
             "colorbar": {
              "outlinewidth": 0,
              "ticks": ""
             }
            },
            "type": "scattercarpet"
           }
          ],
          "scattergeo": [
           {
            "marker": {
             "colorbar": {
              "outlinewidth": 0,
              "ticks": ""
             }
            },
            "type": "scattergeo"
           }
          ],
          "scattergl": [
           {
            "marker": {
             "colorbar": {
              "outlinewidth": 0,
              "ticks": ""
             }
            },
            "type": "scattergl"
           }
          ],
          "scattermapbox": [
           {
            "marker": {
             "colorbar": {
              "outlinewidth": 0,
              "ticks": ""
             }
            },
            "type": "scattermapbox"
           }
          ],
          "scatterpolar": [
           {
            "marker": {
             "colorbar": {
              "outlinewidth": 0,
              "ticks": ""
             }
            },
            "type": "scatterpolar"
           }
          ],
          "scatterpolargl": [
           {
            "marker": {
             "colorbar": {
              "outlinewidth": 0,
              "ticks": ""
             }
            },
            "type": "scatterpolargl"
           }
          ],
          "scatterternary": [
           {
            "marker": {
             "colorbar": {
              "outlinewidth": 0,
              "ticks": ""
             }
            },
            "type": "scatterternary"
           }
          ],
          "surface": [
           {
            "colorbar": {
             "outlinewidth": 0,
             "ticks": ""
            },
            "colorscale": [
             [
              0,
              "#0d0887"
             ],
             [
              0.1111111111111111,
              "#46039f"
             ],
             [
              0.2222222222222222,
              "#7201a8"
             ],
             [
              0.3333333333333333,
              "#9c179e"
             ],
             [
              0.4444444444444444,
              "#bd3786"
             ],
             [
              0.5555555555555556,
              "#d8576b"
             ],
             [
              0.6666666666666666,
              "#ed7953"
             ],
             [
              0.7777777777777778,
              "#fb9f3a"
             ],
             [
              0.8888888888888888,
              "#fdca26"
             ],
             [
              1,
              "#f0f921"
             ]
            ],
            "type": "surface"
           }
          ],
          "table": [
           {
            "cells": {
             "fill": {
              "color": "#EBF0F8"
             },
             "line": {
              "color": "white"
             }
            },
            "header": {
             "fill": {
              "color": "#C8D4E3"
             },
             "line": {
              "color": "white"
             }
            },
            "type": "table"
           }
          ]
         },
         "layout": {
          "annotationdefaults": {
           "arrowcolor": "#2a3f5f",
           "arrowhead": 0,
           "arrowwidth": 1
          },
          "autotypenumbers": "strict",
          "coloraxis": {
           "colorbar": {
            "outlinewidth": 0,
            "ticks": ""
           }
          },
          "colorscale": {
           "diverging": [
            [
             0,
             "#8e0152"
            ],
            [
             0.1,
             "#c51b7d"
            ],
            [
             0.2,
             "#de77ae"
            ],
            [
             0.3,
             "#f1b6da"
            ],
            [
             0.4,
             "#fde0ef"
            ],
            [
             0.5,
             "#f7f7f7"
            ],
            [
             0.6,
             "#e6f5d0"
            ],
            [
             0.7,
             "#b8e186"
            ],
            [
             0.8,
             "#7fbc41"
            ],
            [
             0.9,
             "#4d9221"
            ],
            [
             1,
             "#276419"
            ]
           ],
           "sequential": [
            [
             0,
             "#0d0887"
            ],
            [
             0.1111111111111111,
             "#46039f"
            ],
            [
             0.2222222222222222,
             "#7201a8"
            ],
            [
             0.3333333333333333,
             "#9c179e"
            ],
            [
             0.4444444444444444,
             "#bd3786"
            ],
            [
             0.5555555555555556,
             "#d8576b"
            ],
            [
             0.6666666666666666,
             "#ed7953"
            ],
            [
             0.7777777777777778,
             "#fb9f3a"
            ],
            [
             0.8888888888888888,
             "#fdca26"
            ],
            [
             1,
             "#f0f921"
            ]
           ],
           "sequentialminus": [
            [
             0,
             "#0d0887"
            ],
            [
             0.1111111111111111,
             "#46039f"
            ],
            [
             0.2222222222222222,
             "#7201a8"
            ],
            [
             0.3333333333333333,
             "#9c179e"
            ],
            [
             0.4444444444444444,
             "#bd3786"
            ],
            [
             0.5555555555555556,
             "#d8576b"
            ],
            [
             0.6666666666666666,
             "#ed7953"
            ],
            [
             0.7777777777777778,
             "#fb9f3a"
            ],
            [
             0.8888888888888888,
             "#fdca26"
            ],
            [
             1,
             "#f0f921"
            ]
           ]
          },
          "colorway": [
           "#636efa",
           "#EF553B",
           "#00cc96",
           "#ab63fa",
           "#FFA15A",
           "#19d3f3",
           "#FF6692",
           "#B6E880",
           "#FF97FF",
           "#FECB52"
          ],
          "font": {
           "color": "#2a3f5f"
          },
          "geo": {
           "bgcolor": "white",
           "lakecolor": "white",
           "landcolor": "#E5ECF6",
           "showlakes": true,
           "showland": true,
           "subunitcolor": "white"
          },
          "hoverlabel": {
           "align": "left"
          },
          "hovermode": "closest",
          "mapbox": {
           "style": "light"
          },
          "paper_bgcolor": "white",
          "plot_bgcolor": "#E5ECF6",
          "polar": {
           "angularaxis": {
            "gridcolor": "white",
            "linecolor": "white",
            "ticks": ""
           },
           "bgcolor": "#E5ECF6",
           "radialaxis": {
            "gridcolor": "white",
            "linecolor": "white",
            "ticks": ""
           }
          },
          "scene": {
           "xaxis": {
            "backgroundcolor": "#E5ECF6",
            "gridcolor": "white",
            "gridwidth": 2,
            "linecolor": "white",
            "showbackground": true,
            "ticks": "",
            "zerolinecolor": "white"
           },
           "yaxis": {
            "backgroundcolor": "#E5ECF6",
            "gridcolor": "white",
            "gridwidth": 2,
            "linecolor": "white",
            "showbackground": true,
            "ticks": "",
            "zerolinecolor": "white"
           },
           "zaxis": {
            "backgroundcolor": "#E5ECF6",
            "gridcolor": "white",
            "gridwidth": 2,
            "linecolor": "white",
            "showbackground": true,
            "ticks": "",
            "zerolinecolor": "white"
           }
          },
          "shapedefaults": {
           "line": {
            "color": "#2a3f5f"
           }
          },
          "ternary": {
           "aaxis": {
            "gridcolor": "white",
            "linecolor": "white",
            "ticks": ""
           },
           "baxis": {
            "gridcolor": "white",
            "linecolor": "white",
            "ticks": ""
           },
           "bgcolor": "#E5ECF6",
           "caxis": {
            "gridcolor": "white",
            "linecolor": "white",
            "ticks": ""
           }
          },
          "title": {
           "x": 0.05
          },
          "xaxis": {
           "automargin": true,
           "gridcolor": "white",
           "linecolor": "white",
           "ticks": "",
           "title": {
            "standoff": 15
           },
           "zerolinecolor": "white",
           "zerolinewidth": 2
          },
          "yaxis": {
           "automargin": true,
           "gridcolor": "white",
           "linecolor": "white",
           "ticks": "",
           "title": {
            "standoff": 15
           },
           "zerolinecolor": "white",
           "zerolinewidth": 2
          }
         }
        },
        "title": {
         "text": "Events Began From these Locations<br>(Hover for details)"
        }
       }
      },
      "text/html": [
       "<div>                            <div id=\"10d8f083-7b37-4d0a-b0b6-a6d6f927edac\" class=\"plotly-graph-div\" style=\"height:525px; width:100%;\"></div>            <script type=\"text/javascript\">                require([\"plotly\"], function(Plotly) {                    window.PLOTLYENV=window.PLOTLYENV || {};                                    if (document.getElementById(\"10d8f083-7b37-4d0a-b0b6-a6d6f927edac\")) {                    Plotly.newPlot(                        \"10d8f083-7b37-4d0a-b0b6-a6d6f927edac\",                        [{\"lat\":[31.5285,31.7715,31.7839,29.7585,30.9235,30.9449,29.5499,34.372,30.92,30.0181,30.4284,31.85,29.7808,29.5162,34.54,31.1188,31.2063,31.0925,31.0663,30.4561,29.598,33.58,31.2635,34.5157,33.5331,33.55,29.542,33.39,33.21,33.5221,31.3501,31.2535,31.4088,31.2582,31.3536,31.1372,31.2687,31.4817,31.25,31.2938,31.1998,31.3292,31.1766,36.17,30.1123,29.9887,31.7831,31.5947,31.2585,36.02,35.07,36.03,29.9592,36.15,36.15,31.37,29.5314,29.5111,31.3992,34.5411,35.92,30.66,32.01,30.3872,29.5527,31.2018,32.7406,33.5473,33.6407,33.2306,36.06,35.75,35.53,29.5736,30.1713,32.7474,32.7491,33.03,33.1,33.1933,28.8773,29.5039,33.67,34.13,34.27,29.7758,30.92,29.561,32.45,32.42,32.45,29.7756,29.4379,30.02,30.0,30.0108,29.31,29.31,29.93,29.7054,29.9872,30.02,29.9812,29.79,30.02,30.5314,30.1218,29.9599,30.04,29.0967,30.58,29.5927,29.3763,29.8889,29.3757,29.3132,30.8564,30.1642,29.4493,29.4972,30.5168,30.0044,30.3244,30.0408,29.1204,29.0959,29.62,29.9623,29.4475,29.4379,29.78,30.3153,28.4239,28.3238,28.9435,28.5048,29.5688,29.7551,29.7216,29.193,29.72,29.4853,29.6896,30.3855,29.7337,30.0886,29.8598,29.0661,30.0513,29.7143,29.3104,28.9811,28.8874,30.2739,30.0375,30.0858,29.3896,29.8599,29.8285,29.9243,30.4803,29.776,29.0,31.0306,30.0367,30.5162,29.7388,29.8527,29.6896,30.0173,29.4873,29.7,29.5706,29.55,29.907,29.7102,29.9528,29.8457,29.3421,29.5438,30.3163,30.0,29.2103,29.77,28.7699,29.2987,29.5246,29.5106,29.5915,30.2342,30.1431,29.2216,29.46,29.8067,29.6943,30.4357,29.1464,29.9409,29.717,30.0342,30.7347,30.0],\"locationmode\":\"USA-states\",\"lon\":[-106.1346,-106.5028,-106.5205,-93.9153,-94.5992,-93.5458,-95.7579,-100.9851,-94.0,-94.0457,-95.509,-102.4722,-93.9376,-95.1416,-101.74,-94.4607,-94.7819,-94.4929,-94.427,-95.018,-95.316,-101.88,-94.8304,-101.9099,-102.3752,-98.2,-95.0988,-102.4,-101.78,-102.37,-93.8588,-94.0606,-93.8332,-93.9705,-94.7998,-94.4287,-94.8297,-93.9389,-93.9855,-94.0276,-93.7363,-93.9402,-94.6086,-101.66,-95.658,-95.8392,-94.2469,-93.9785,-93.9857,-101.53,-101.79,-102.55,-96.5211,-100.8,-100.8,-100.29,-95.2295,-95.1303,-94.6413,-101.7375,-100.28,-101.69,-99.52,-95.5275,-94.3775,-93.737,-96.2818,-96.8488,-96.8441,-97.0844,-102.44,-102.14,-102.27,-95.2789,-94.1851,-96.6008,-96.755,-96.43,-96.45,-96.2878,-97.1603,-95.1382,-101.82,-101.57,-100.6,-93.9372,-94.6,-95.2535,-99.73,-99.86,-99.87,-95.8442,-95.45,-97.54,-97.14,-97.9328,-94.79,-94.79,-97.78,-97.2245,-96.8349,-97.63,-97.0093,-97.64,-97.17,-97.5866,-97.3816,-96.9075,-97.46,-97.3492,-97.7828,-95.4067,-95.5028,-95.5996,-94.7289,-94.7732,-95.1897,-95.4726,-96.0027,-94.9164,-95.3895,-95.7397,-95.2048,-95.2487,-96.8479,-96.9598,-96.07,-97.7069,-95.4599,-95.45,-95.8466,-97.0564,-96.6671,-96.9969,-97.1988,-96.8874,-95.0139,-94.5676,-95.2927,-95.9209,-97.64,-95.5206,-97.6015,-96.0897,-96.4371,-95.993,-94.5992,-95.5958,-94.7959,-95.5697,-94.7699,-95.483,-96.2293,-96.7161,-95.4187,-95.9618,-96.221,-95.4273,-94.8889,-95.1516,-96.315,-95.844,-95.32,-95.8042,-95.4209,-95.3078,-94.9528,-94.9013,-95.2072,-97.1554,-95.517,-95.76,-95.5125,-95.11,-95.6872,-95.8708,-95.6704,-94.5895,-96.25,-96.0845,-94.9957,-97.15,-95.4787,-94.68,-95.6255,-95.3045,-96.0669,-95.0057,-96.1949,-95.7932,-95.7622,-95.3505,-95.4993,-95.4204,-95.7974,-95.7023,-95.5448,-94.6115,-95.4151,-95.4334,-95.5467,-97.15],\"marker\":{\"color\":\"#E58606\",\"line\":{\"color\":\"rgb(40,40,40)\",\"width\":0.2},\"size\":[3.0,3.0,3.0,4.507131858905749,3.2135103466783144,3.113034889417931,3.0,3.000025118864315,3.0000125594321574,3.0,3.0,3.000020095091452,10.535659294528747,3.0,3.0,3.0,3.0,3.0,3.0,3.0,3.0,3.0000012559432157,3.0,3.0,3.0001054992301235,3.0,3.0,3.0,3.0,3.0,3.0,3.0,3.0,3.0,3.0,3.0,3.0,3.0,3.0,3.0,3.0,3.0,3.0,3.0,3.0,3.0,3.0,3.0,3.0,3.0,3.0,3.0,3.0,3.0,3.0,3.0,3.0,3.0,3.0,3.0,3.0,3.0,3.0,3.0,3.0,3.0,3.0,3.0,3.0,3.0,3.0,3.0,3.0,3.0,3.0,3.0,3.0,3.0,3.0,3.0001255943215757,3.150713185890575,3.0,3.0,3.0,3.0,3.0,3.0,3.0,3.0,3.0,3.0,3.0,3.0,3.0,3.0,3.0,3.0,3.0,3.0,3.037678296472644,3.0,3.0,3.0,3.0,3.0,3.0,3.0,3.0,3.0,3.0,3.0,3.0,3.0,3.0,3.0000175832050204,3.0000125594321574,3.0,3.0,3.0,3.0,3.0,3.0,3.0,3.0,3.0,3.0,3.0,3.0005023772863018,3.0,3.0,3.0,3.0,3.0,3.0,3.0,3.0,3.0,3.0,3.0000376782964726,3.0,3.0,3.0,3.0,3.0,3.0,3.0,6.7678296472643735,3.150713185890575,3.0,3.0,3.0,3.0,3.0005023772863018,3.001255943215755,3.0,3.0,3.000251188643151,3.0,3.0,3.0,3.0,3.0,3.0,3.0,3.0,3.0,3.0,3.0037678296472645,3.125594321575479,3.0,3.0075356592945286,3.0,8.023772863019165,3.0,3.0,3.0,3.0000025118864313,3.7535659294528747,3.0,23.09509145207666,28.118864315095824,4.507131858905749,3.0,3.879160251028354,20.583205020567075,3.000251188643151,3.000251188643151,3.000251188643151,3.032277740644898,3.001255943215755,3.001255943215755,3.001255943215755,3.0006279716078774,3.000025118864315,3.0,3.050237728630192,3.0025118864315097,28.118864315095824,3.0,3.0,3.0,3.0,3.0,3.0,3.0,3.0,3.0,3.0,3.0,3.0,3.0,3.0000012559432157,3.000075356592945,3.0,3.0,3.0,3.0,3.0,3.0,3.0,3.000251188643151,3.0,3.0020095091452075,3.0,3.0,3.0,3.0,3.0,3.0,3.0,3.0,3.001255943215755,3.000075356592945,3.0050237728630194,3.0001255943215757,3.001255943215755,3.0,3.000075356592945,3.0,3.0,3.0001255943215757,3.0,3.0,3.0,3.0,3.001255943215755,3.0001255943215757,3.000753565929453,3.0005023772863018,3.0,3.0,3.0,3.000251188643151,3.0,3.0,3.0,3.0,3.000251188643151,3.0,3.0001255943215757,3.0,3.0,3.0],\"sizemode\":\"diameter\"},\"name\":\"TEXAS\",\"text\":[\"TEXAS<br>Property Cost 0.0\",\"TEXAS<br>Property Cost 0.0\",\"TEXAS<br>Property Cost 0.0\",\"TEXAS<br>Property Cost 600000000.0\",\"TEXAS<br>Property Cost 85000000.0\",\"TEXAS<br>Property Cost 45000000.0\",\"TEXAS<br>Property Cost 0.0\",\"TEXAS<br>Property Cost 10000.0\",\"TEXAS<br>Property Cost 5000.0\",\"TEXAS<br>Property Cost 0.0\",\"TEXAS<br>Property Cost 0.0\",\"TEXAS<br>Property Cost 8000.0\",\"TEXAS<br>Property Cost 3000000000.0\",\"TEXAS<br>Property Cost 0.0\",\"TEXAS<br>Property Cost 0.0\",\"TEXAS<br>Property Cost 0.0\",\"TEXAS<br>Property Cost 0.0\",\"TEXAS<br>Property Cost 0.0\",\"TEXAS<br>Property Cost 0.0\",\"TEXAS<br>Property Cost 0.0\",\"TEXAS<br>Property Cost 0.0\",\"TEXAS<br>Property Cost 500.0\",\"TEXAS<br>Property Cost 0.0\",\"TEXAS<br>Property Cost 0.0\",\"TEXAS<br>Property Cost 42000.0\",\"TEXAS<br>Property Cost 0.0\",\"TEXAS<br>Property Cost 0.0\",\"TEXAS<br>Property Cost 0.0\",\"TEXAS<br>Property Cost 0.0\",\"TEXAS<br>Property Cost 0.0\",\"TEXAS<br>Property Cost 0.0\",\"TEXAS<br>Property Cost 0.0\",\"TEXAS<br>Property Cost 0.0\",\"TEXAS<br>Property Cost 0.0\",\"TEXAS<br>Property Cost 0.0\",\"TEXAS<br>Property Cost 0.0\",\"TEXAS<br>Property Cost 0.0\",\"TEXAS<br>Property Cost 0.0\",\"TEXAS<br>Property Cost 0.0\",\"TEXAS<br>Property Cost 0.0\",\"TEXAS<br>Property Cost 0.0\",\"TEXAS<br>Property Cost 0.0\",\"TEXAS<br>Property Cost 0.0\",\"TEXAS<br>Property Cost 0.0\",\"TEXAS<br>Property Cost 0.0\",\"TEXAS<br>Property Cost 0.0\",\"TEXAS<br>Property Cost 0.0\",\"TEXAS<br>Property Cost 0.0\",\"TEXAS<br>Property Cost 0.0\",\"TEXAS<br>Property Cost 0.0\",\"TEXAS<br>Property Cost 0.0\",\"TEXAS<br>Property Cost 0.0\",\"TEXAS<br>Property Cost 0.0\",\"TEXAS<br>Property Cost 0.0\",\"TEXAS<br>Property Cost 0.0\",\"TEXAS<br>Property Cost 0.0\",\"TEXAS<br>Property Cost 0.0\",\"TEXAS<br>Property Cost 0.0\",\"TEXAS<br>Property Cost 0.0\",\"TEXAS<br>Property Cost 0.0\",\"TEXAS<br>Property Cost 0.0\",\"TEXAS<br>Property Cost 0.0\",\"TEXAS<br>Property Cost 0.0\",\"TEXAS<br>Property Cost 0.0\",\"TEXAS<br>Property Cost 0.0\",\"TEXAS<br>Property Cost 0.0\",\"TEXAS<br>Property Cost 0.0\",\"TEXAS<br>Property Cost 0.0\",\"TEXAS<br>Property Cost 0.0\",\"TEXAS<br>Property Cost 0.0\",\"TEXAS<br>Property Cost 0.0\",\"TEXAS<br>Property Cost 0.0\",\"TEXAS<br>Property Cost 0.0\",\"TEXAS<br>Property Cost 0.0\",\"TEXAS<br>Property Cost 0.0\",\"TEXAS<br>Property Cost 0.0\",\"TEXAS<br>Property Cost 0.0\",\"TEXAS<br>Property Cost 0.0\",\"TEXAS<br>Property Cost 0.0\",\"TEXAS<br>Property Cost 0.0\",\"TEXAS<br>Property Cost 0.0\",\"TEXAS<br>Property Cost 0.0\",\"TEXAS<br>Property Cost 0.0\",\"TEXAS<br>Property Cost 0.0\",\"TEXAS<br>Property Cost 0.0\",\"TEXAS<br>Property Cost 1500000000.0\",\"TEXAS<br>Property Cost 60000000.0\",\"TEXAS<br>Property Cost 0.0\",\"TEXAS<br>Property Cost 0.0\",\"TEXAS<br>Property Cost 0.0\",\"TEXAS<br>Property Cost 0.0\",\"TEXAS<br>Property Cost 200000.0\",\"TEXAS<br>Property Cost 500000.0\",\"TEXAS<br>Property Cost 0.0\",\"TEXAS<br>Property Cost 0.0\",\"TEXAS<br>Property Cost 100000.0\",\"TEXAS<br>Property Cost 0.0\",\"TEXAS<br>Property Cost 0.0\",\"TEXAS<br>Property Cost 0.0\",\"TEXAS<br>Property Cost 0.0\",\"TEXAS<br>Property Cost 0.0\",\"TEXAS<br>Property Cost 0.0\",\"TEXAS<br>Property Cost 0.0\",\"TEXAS<br>Property Cost 0.0\",\"TEXAS<br>Property Cost 0.0\",\"TEXAS<br>Property Cost 0.0\",\"TEXAS<br>Property Cost 1500000.0\",\"TEXAS<br>Property Cost 50000000.0\",\"TEXAS<br>Property Cost 0.0\",\"TEXAS<br>Property Cost 3000000.0\",\"TEXAS<br>Property Cost 0.0\",\"TEXAS<br>Property Cost 2000000000.0\",\"TEXAS<br>Property Cost 0.0\",\"TEXAS<br>Property Cost 0.0\",\"TEXAS<br>Property Cost 0.0\",\"TEXAS<br>Property Cost 1000.0\",\"TEXAS<br>Property Cost 300000000.0\",\"TEXAS<br>Property Cost 0.0\",\"TEXAS<br>Property Cost 8000000000.0\",\"TEXAS<br>Property Cost 10000000000.0\",\"TEXAS<br>Property Cost 600000000.0\",\"TEXAS<br>Property Cost 0.0\",\"TEXAS<br>Property Cost 350000000.0\",\"TEXAS<br>Property Cost 7000000000.0\",\"TEXAS<br>Property Cost 100000.0\",\"TEXAS<br>Property Cost 100000.0\",\"TEXAS<br>Property Cost 100000.0\",\"TEXAS<br>Property Cost 12850000.0\",\"TEXAS<br>Property Cost 500000.0\",\"TEXAS<br>Property Cost 500000.0\",\"TEXAS<br>Property Cost 500000.0\",\"TEXAS<br>Property Cost 250000.0\",\"TEXAS<br>Property Cost 10000.0\",\"TEXAS<br>Property Cost 0.0\",\"TEXAS<br>Property Cost 20000000.0\",\"TEXAS<br>Property Cost 1000000.0\",\"TEXAS<br>Property Cost 10000000000.0\",\"TEXAS<br>Property Cost 0.0\",\"TEXAS<br>Property Cost 0.0\",\"TEXAS<br>Property Cost 0.0\",\"TEXAS<br>Property Cost 0.0\",\"TEXAS<br>Property Cost 0.0\",\"TEXAS<br>Property Cost 0.0\",\"TEXAS<br>Property Cost 0.0\",\"TEXAS<br>Property Cost 0.0\",\"TEXAS<br>Property Cost 0.0\",\"TEXAS<br>Property Cost 0.0\",\"TEXAS<br>Property Cost 0.0\",\"TEXAS<br>Property Cost 0.0\",\"TEXAS<br>Property Cost 0.0\",\"TEXAS<br>Property Cost 500.0\",\"TEXAS<br>Property Cost 30000.0\",\"TEXAS<br>Property Cost 0.0\",\"TEXAS<br>Property Cost 0.0\",\"TEXAS<br>Property Cost 0.0\",\"TEXAS<br>Property Cost 0.0\",\"TEXAS<br>Property Cost 0.0\",\"TEXAS<br>Property Cost 0.0\",\"TEXAS<br>Property Cost 0.0\",\"TEXAS<br>Property Cost 100000.0\",\"TEXAS<br>Property Cost 0.0\",\"TEXAS<br>Property Cost 800000.0\",\"TEXAS<br>Property Cost 0.0\",\"TEXAS<br>Property Cost 0.0\",\"TEXAS<br>Property Cost 0.0\",\"TEXAS<br>Property Cost 0.0\",\"TEXAS<br>Property Cost 0.0\",\"TEXAS<br>Property Cost 0.0\",\"TEXAS<br>Property Cost 0.0\",\"TEXAS<br>Property Cost 0.0\",\"TEXAS<br>Property Cost 500000.0\",\"TEXAS<br>Property Cost 30000.0\",\"TEXAS<br>Property Cost 2000000.0\",\"TEXAS<br>Property Cost 50000.0\",\"TEXAS<br>Property Cost 500000.0\",\"TEXAS<br>Property Cost 0.0\",\"TEXAS<br>Property Cost 30000.0\",\"TEXAS<br>Property Cost 0.0\",\"TEXAS<br>Property Cost 0.0\",\"TEXAS<br>Property Cost 50000.0\",\"TEXAS<br>Property Cost 0.0\",\"TEXAS<br>Property Cost 0.0\",\"TEXAS<br>Property Cost 0.0\",\"TEXAS<br>Property Cost 0.0\",\"TEXAS<br>Property Cost 500000.0\",\"TEXAS<br>Property Cost 50000.0\",\"TEXAS<br>Property Cost 300000.0\",\"TEXAS<br>Property Cost 200000.0\",\"TEXAS<br>Property Cost 0.0\",\"TEXAS<br>Property Cost 0.0\",\"TEXAS<br>Property Cost 0.0\",\"TEXAS<br>Property Cost 100000.0\",\"TEXAS<br>Property Cost 0.0\",\"TEXAS<br>Property Cost 0.0\",\"TEXAS<br>Property Cost 0.0\",\"TEXAS<br>Property Cost 0.0\",\"TEXAS<br>Property Cost 100000.0\",\"TEXAS<br>Property Cost 0.0\",\"TEXAS<br>Property Cost 50000.0\",\"TEXAS<br>Property Cost 0.0\",\"TEXAS<br>Property Cost 0.0\",\"TEXAS<br>Property Cost 0.0\"],\"type\":\"scattergeo\"},{\"lat\":[31.5876,31.4212,31.4432,32.038,31.5576,31.9469,31.5036,31.7812,31.787,31.5949,31.5981,31.8952,31.8386,31.7831,31.7409,31.9427,31.975,31.7932,31.7797,29.9217,29.7681,29.7693,31.5815,31.4429,31.7438,31.9943,32.1118,31.9673,31.9402,32.101,32.0045,31.9702,31.9691,32.1236,31.9864,29.7694,32.0837,32.1217,31.8882,31.9989,32.1007,31.7128,31.7913,31.9781,31.8975,32.0955,31.6147,31.5679,29.9692,29.9893,29.9708,31.5778,32.1817,32.047,29.6788,29.96,30.16,30.2276,29.7638,30.01,30.0568],\"locationmode\":\"USA-states\",\"lon\":[-93.4786,-93.3651,-93.4804,-93.2216,-93.4864,-93.2689,-93.4522,-93.1124,-93.1249,-93.5325,-93.4594,-93.3604,-93.281,-93.7073,-93.2743,-93.1369,-93.7296,-93.5275,-93.7875,-90.3371,-93.8864,-93.8892,-93.4765,-93.4808,-93.5118,-93.0679,-93.1339,-92.7662,-93.4529,-93.1045,-93.2066,-92.6912,-92.795,-92.893,-92.7665,-93.8809,-93.1834,-93.3629,-93.1102,-93.0448,-93.4401,-93.2179,-93.3965,-93.0479,-93.1337,-93.1602,-93.1006,-92.9976,-93.3495,-92.0415,-91.7559,-92.9977,-93.2292,-93.3085,-90.5315,-92.41,-92.18,-92.5776,-93.71,-92.12,-90.8154],\"marker\":{\"color\":\"#5D69B1\",\"line\":{\"color\":\"rgb(40,40,40)\",\"width\":0.2},\"size\":[3.0,3.0,3.0,4.507131858905749,3.2135103466783144,3.113034889417931,3.0,3.000025118864315,3.0000125594321574,3.0,3.0,3.000020095091452,10.535659294528747,3.0,3.0,3.0,3.0,3.0,3.0,3.0,3.0,3.0000012559432157,3.0,3.0,3.0001054992301235,3.0,3.0,3.0,3.0,3.0,3.0,3.0,3.0,3.0,3.0,3.0,3.0,3.0,3.0,3.0,3.0,3.0,3.0,3.0,3.0,3.0,3.0,3.0,3.0,3.0,3.0,3.0,3.0,3.0,3.0,3.0,3.0,3.0,3.0,3.0,3.0,3.0,3.0,3.0,3.0,3.0,3.0,3.0,3.0,3.0,3.0,3.0,3.0,3.0,3.0,3.0,3.0,3.0,3.0,3.0001255943215757,3.150713185890575,3.0,3.0,3.0,3.0,3.0,3.0,3.0,3.0,3.0,3.0,3.0,3.0,3.0,3.0,3.0,3.0,3.0,3.0,3.037678296472644,3.0,3.0,3.0,3.0,3.0,3.0,3.0,3.0,3.0,3.0,3.0,3.0,3.0,3.0,3.0000175832050204,3.0000125594321574,3.0,3.0,3.0,3.0,3.0,3.0,3.0,3.0,3.0,3.0,3.0,3.0005023772863018,3.0,3.0,3.0,3.0,3.0,3.0,3.0,3.0,3.0,3.0,3.0000376782964726,3.0,3.0,3.0,3.0,3.0,3.0,3.0,6.7678296472643735,3.150713185890575,3.0,3.0,3.0,3.0,3.0005023772863018,3.001255943215755,3.0,3.0,3.000251188643151,3.0,3.0,3.0,3.0,3.0,3.0,3.0,3.0,3.0,3.0,3.0037678296472645,3.125594321575479,3.0,3.0075356592945286,3.0,8.023772863019165,3.0,3.0,3.0,3.0000025118864313,3.7535659294528747,3.0,23.09509145207666,28.118864315095824,4.507131858905749,3.0,3.879160251028354,20.583205020567075,3.000251188643151,3.000251188643151,3.000251188643151,3.032277740644898,3.001255943215755,3.001255943215755,3.001255943215755,3.0006279716078774,3.000025118864315,3.0,3.050237728630192,3.0025118864315097,28.118864315095824,3.0,3.0,3.0,3.0,3.0,3.0,3.0,3.0,3.0,3.0,3.0,3.0,3.0,3.0000012559432157,3.000075356592945,3.0,3.0,3.0,3.0,3.0,3.0,3.0,3.000251188643151,3.0,3.0020095091452075,3.0,3.0,3.0,3.0,3.0,3.0,3.0,3.0,3.001255943215755,3.000075356592945,3.0050237728630194,3.0001255943215757,3.001255943215755,3.0,3.000075356592945,3.0,3.0,3.0001255943215757,3.0,3.0,3.0,3.0,3.001255943215755,3.0001255943215757,3.000753565929453,3.0005023772863018,3.0,3.0,3.0,3.000251188643151,3.0,3.0,3.0,3.0,3.000251188643151,3.0,3.0001255943215757,3.0,3.0,3.0],\"sizemode\":\"diameter\"},\"name\":\"LOUISIANA\",\"text\":[\"LOUISIANA<br>Property Cost 0.0\",\"LOUISIANA<br>Property Cost 0.0\",\"LOUISIANA<br>Property Cost 0.0\",\"LOUISIANA<br>Property Cost 0.0\",\"LOUISIANA<br>Property Cost 0.0\",\"LOUISIANA<br>Property Cost 0.0\",\"LOUISIANA<br>Property Cost 0.0\",\"LOUISIANA<br>Property Cost 0.0\",\"LOUISIANA<br>Property Cost 0.0\",\"LOUISIANA<br>Property Cost 0.0\",\"LOUISIANA<br>Property Cost 0.0\",\"LOUISIANA<br>Property Cost 0.0\",\"LOUISIANA<br>Property Cost 0.0\",\"LOUISIANA<br>Property Cost 0.0\",\"LOUISIANA<br>Property Cost 0.0\",\"LOUISIANA<br>Property Cost 0.0\",\"LOUISIANA<br>Property Cost 0.0\",\"LOUISIANA<br>Property Cost 0.0\",\"LOUISIANA<br>Property Cost 0.0\",\"LOUISIANA<br>Property Cost 0.0\",\"LOUISIANA<br>Property Cost 50000.0\",\"LOUISIANA<br>Property Cost 60000000.0\",\"LOUISIANA<br>Property Cost 0.0\",\"LOUISIANA<br>Property Cost 0.0\",\"LOUISIANA<br>Property Cost 0.0\",\"LOUISIANA<br>Property Cost 0.0\",\"LOUISIANA<br>Property Cost 0.0\",\"LOUISIANA<br>Property Cost 0.0\",\"LOUISIANA<br>Property Cost 0.0\",\"LOUISIANA<br>Property Cost 0.0\",\"LOUISIANA<br>Property Cost 0.0\",\"LOUISIANA<br>Property Cost 0.0\",\"LOUISIANA<br>Property Cost 0.0\",\"LOUISIANA<br>Property Cost 0.0\",\"LOUISIANA<br>Property Cost 0.0\",\"LOUISIANA<br>Property Cost 15000000.0\",\"LOUISIANA<br>Property Cost 0.0\",\"LOUISIANA<br>Property Cost 0.0\",\"LOUISIANA<br>Property Cost 0.0\",\"LOUISIANA<br>Property Cost 0.0\",\"LOUISIANA<br>Property Cost 0.0\",\"LOUISIANA<br>Property Cost 0.0\",\"LOUISIANA<br>Property Cost 0.0\",\"LOUISIANA<br>Property Cost 0.0\",\"LOUISIANA<br>Property Cost 0.0\",\"LOUISIANA<br>Property Cost 0.0\",\"LOUISIANA<br>Property Cost 0.0\",\"LOUISIANA<br>Property Cost 0.0\",\"LOUISIANA<br>Property Cost 7000.0\",\"LOUISIANA<br>Property Cost 5000.0\",\"LOUISIANA<br>Property Cost 0.0\",\"LOUISIANA<br>Property Cost 0.0\",\"LOUISIANA<br>Property Cost 0.0\",\"LOUISIANA<br>Property Cost 0.0\",\"LOUISIANA<br>Property Cost 0.0\",\"LOUISIANA<br>Property Cost 0.0\",\"LOUISIANA<br>Property Cost 0.0\",\"LOUISIANA<br>Property Cost 200000.0\",\"LOUISIANA<br>Property Cost 15000.0\",\"LOUISIANA<br>Property Cost 0.0\",\"LOUISIANA<br>Property Cost 0.0\"],\"type\":\"scattergeo\"}],                        {\"template\":{\"data\":{\"histogram2dcontour\":[{\"type\":\"histogram2dcontour\",\"colorbar\":{\"outlinewidth\":0,\"ticks\":\"\"},\"colorscale\":[[0.0,\"#0d0887\"],[0.1111111111111111,\"#46039f\"],[0.2222222222222222,\"#7201a8\"],[0.3333333333333333,\"#9c179e\"],[0.4444444444444444,\"#bd3786\"],[0.5555555555555556,\"#d8576b\"],[0.6666666666666666,\"#ed7953\"],[0.7777777777777778,\"#fb9f3a\"],[0.8888888888888888,\"#fdca26\"],[1.0,\"#f0f921\"]]}],\"choropleth\":[{\"type\":\"choropleth\",\"colorbar\":{\"outlinewidth\":0,\"ticks\":\"\"}}],\"histogram2d\":[{\"type\":\"histogram2d\",\"colorbar\":{\"outlinewidth\":0,\"ticks\":\"\"},\"colorscale\":[[0.0,\"#0d0887\"],[0.1111111111111111,\"#46039f\"],[0.2222222222222222,\"#7201a8\"],[0.3333333333333333,\"#9c179e\"],[0.4444444444444444,\"#bd3786\"],[0.5555555555555556,\"#d8576b\"],[0.6666666666666666,\"#ed7953\"],[0.7777777777777778,\"#fb9f3a\"],[0.8888888888888888,\"#fdca26\"],[1.0,\"#f0f921\"]]}],\"heatmap\":[{\"type\":\"heatmap\",\"colorbar\":{\"outlinewidth\":0,\"ticks\":\"\"},\"colorscale\":[[0.0,\"#0d0887\"],[0.1111111111111111,\"#46039f\"],[0.2222222222222222,\"#7201a8\"],[0.3333333333333333,\"#9c179e\"],[0.4444444444444444,\"#bd3786\"],[0.5555555555555556,\"#d8576b\"],[0.6666666666666666,\"#ed7953\"],[0.7777777777777778,\"#fb9f3a\"],[0.8888888888888888,\"#fdca26\"],[1.0,\"#f0f921\"]]}],\"heatmapgl\":[{\"type\":\"heatmapgl\",\"colorbar\":{\"outlinewidth\":0,\"ticks\":\"\"},\"colorscale\":[[0.0,\"#0d0887\"],[0.1111111111111111,\"#46039f\"],[0.2222222222222222,\"#7201a8\"],[0.3333333333333333,\"#9c179e\"],[0.4444444444444444,\"#bd3786\"],[0.5555555555555556,\"#d8576b\"],[0.6666666666666666,\"#ed7953\"],[0.7777777777777778,\"#fb9f3a\"],[0.8888888888888888,\"#fdca26\"],[1.0,\"#f0f921\"]]}],\"contourcarpet\":[{\"type\":\"contourcarpet\",\"colorbar\":{\"outlinewidth\":0,\"ticks\":\"\"}}],\"contour\":[{\"type\":\"contour\",\"colorbar\":{\"outlinewidth\":0,\"ticks\":\"\"},\"colorscale\":[[0.0,\"#0d0887\"],[0.1111111111111111,\"#46039f\"],[0.2222222222222222,\"#7201a8\"],[0.3333333333333333,\"#9c179e\"],[0.4444444444444444,\"#bd3786\"],[0.5555555555555556,\"#d8576b\"],[0.6666666666666666,\"#ed7953\"],[0.7777777777777778,\"#fb9f3a\"],[0.8888888888888888,\"#fdca26\"],[1.0,\"#f0f921\"]]}],\"surface\":[{\"type\":\"surface\",\"colorbar\":{\"outlinewidth\":0,\"ticks\":\"\"},\"colorscale\":[[0.0,\"#0d0887\"],[0.1111111111111111,\"#46039f\"],[0.2222222222222222,\"#7201a8\"],[0.3333333333333333,\"#9c179e\"],[0.4444444444444444,\"#bd3786\"],[0.5555555555555556,\"#d8576b\"],[0.6666666666666666,\"#ed7953\"],[0.7777777777777778,\"#fb9f3a\"],[0.8888888888888888,\"#fdca26\"],[1.0,\"#f0f921\"]]}],\"mesh3d\":[{\"type\":\"mesh3d\",\"colorbar\":{\"outlinewidth\":0,\"ticks\":\"\"}}],\"scatter\":[{\"fillpattern\":{\"fillmode\":\"overlay\",\"size\":10,\"solidity\":0.2},\"type\":\"scatter\"}],\"parcoords\":[{\"type\":\"parcoords\",\"line\":{\"colorbar\":{\"outlinewidth\":0,\"ticks\":\"\"}}}],\"scatterpolargl\":[{\"type\":\"scatterpolargl\",\"marker\":{\"colorbar\":{\"outlinewidth\":0,\"ticks\":\"\"}}}],\"bar\":[{\"error_x\":{\"color\":\"#2a3f5f\"},\"error_y\":{\"color\":\"#2a3f5f\"},\"marker\":{\"line\":{\"color\":\"#E5ECF6\",\"width\":0.5},\"pattern\":{\"fillmode\":\"overlay\",\"size\":10,\"solidity\":0.2}},\"type\":\"bar\"}],\"scattergeo\":[{\"type\":\"scattergeo\",\"marker\":{\"colorbar\":{\"outlinewidth\":0,\"ticks\":\"\"}}}],\"scatterpolar\":[{\"type\":\"scatterpolar\",\"marker\":{\"colorbar\":{\"outlinewidth\":0,\"ticks\":\"\"}}}],\"histogram\":[{\"marker\":{\"pattern\":{\"fillmode\":\"overlay\",\"size\":10,\"solidity\":0.2}},\"type\":\"histogram\"}],\"scattergl\":[{\"type\":\"scattergl\",\"marker\":{\"colorbar\":{\"outlinewidth\":0,\"ticks\":\"\"}}}],\"scatter3d\":[{\"type\":\"scatter3d\",\"line\":{\"colorbar\":{\"outlinewidth\":0,\"ticks\":\"\"}},\"marker\":{\"colorbar\":{\"outlinewidth\":0,\"ticks\":\"\"}}}],\"scattermapbox\":[{\"type\":\"scattermapbox\",\"marker\":{\"colorbar\":{\"outlinewidth\":0,\"ticks\":\"\"}}}],\"scatterternary\":[{\"type\":\"scatterternary\",\"marker\":{\"colorbar\":{\"outlinewidth\":0,\"ticks\":\"\"}}}],\"scattercarpet\":[{\"type\":\"scattercarpet\",\"marker\":{\"colorbar\":{\"outlinewidth\":0,\"ticks\":\"\"}}}],\"carpet\":[{\"aaxis\":{\"endlinecolor\":\"#2a3f5f\",\"gridcolor\":\"white\",\"linecolor\":\"white\",\"minorgridcolor\":\"white\",\"startlinecolor\":\"#2a3f5f\"},\"baxis\":{\"endlinecolor\":\"#2a3f5f\",\"gridcolor\":\"white\",\"linecolor\":\"white\",\"minorgridcolor\":\"white\",\"startlinecolor\":\"#2a3f5f\"},\"type\":\"carpet\"}],\"table\":[{\"cells\":{\"fill\":{\"color\":\"#EBF0F8\"},\"line\":{\"color\":\"white\"}},\"header\":{\"fill\":{\"color\":\"#C8D4E3\"},\"line\":{\"color\":\"white\"}},\"type\":\"table\"}],\"barpolar\":[{\"marker\":{\"line\":{\"color\":\"#E5ECF6\",\"width\":0.5},\"pattern\":{\"fillmode\":\"overlay\",\"size\":10,\"solidity\":0.2}},\"type\":\"barpolar\"}],\"pie\":[{\"automargin\":true,\"type\":\"pie\"}]},\"layout\":{\"autotypenumbers\":\"strict\",\"colorway\":[\"#636efa\",\"#EF553B\",\"#00cc96\",\"#ab63fa\",\"#FFA15A\",\"#19d3f3\",\"#FF6692\",\"#B6E880\",\"#FF97FF\",\"#FECB52\"],\"font\":{\"color\":\"#2a3f5f\"},\"hovermode\":\"closest\",\"hoverlabel\":{\"align\":\"left\"},\"paper_bgcolor\":\"white\",\"plot_bgcolor\":\"#E5ECF6\",\"polar\":{\"bgcolor\":\"#E5ECF6\",\"angularaxis\":{\"gridcolor\":\"white\",\"linecolor\":\"white\",\"ticks\":\"\"},\"radialaxis\":{\"gridcolor\":\"white\",\"linecolor\":\"white\",\"ticks\":\"\"}},\"ternary\":{\"bgcolor\":\"#E5ECF6\",\"aaxis\":{\"gridcolor\":\"white\",\"linecolor\":\"white\",\"ticks\":\"\"},\"baxis\":{\"gridcolor\":\"white\",\"linecolor\":\"white\",\"ticks\":\"\"},\"caxis\":{\"gridcolor\":\"white\",\"linecolor\":\"white\",\"ticks\":\"\"}},\"coloraxis\":{\"colorbar\":{\"outlinewidth\":0,\"ticks\":\"\"}},\"colorscale\":{\"sequential\":[[0.0,\"#0d0887\"],[0.1111111111111111,\"#46039f\"],[0.2222222222222222,\"#7201a8\"],[0.3333333333333333,\"#9c179e\"],[0.4444444444444444,\"#bd3786\"],[0.5555555555555556,\"#d8576b\"],[0.6666666666666666,\"#ed7953\"],[0.7777777777777778,\"#fb9f3a\"],[0.8888888888888888,\"#fdca26\"],[1.0,\"#f0f921\"]],\"sequentialminus\":[[0.0,\"#0d0887\"],[0.1111111111111111,\"#46039f\"],[0.2222222222222222,\"#7201a8\"],[0.3333333333333333,\"#9c179e\"],[0.4444444444444444,\"#bd3786\"],[0.5555555555555556,\"#d8576b\"],[0.6666666666666666,\"#ed7953\"],[0.7777777777777778,\"#fb9f3a\"],[0.8888888888888888,\"#fdca26\"],[1.0,\"#f0f921\"]],\"diverging\":[[0,\"#8e0152\"],[0.1,\"#c51b7d\"],[0.2,\"#de77ae\"],[0.3,\"#f1b6da\"],[0.4,\"#fde0ef\"],[0.5,\"#f7f7f7\"],[0.6,\"#e6f5d0\"],[0.7,\"#b8e186\"],[0.8,\"#7fbc41\"],[0.9,\"#4d9221\"],[1,\"#276419\"]]},\"xaxis\":{\"gridcolor\":\"white\",\"linecolor\":\"white\",\"ticks\":\"\",\"title\":{\"standoff\":15},\"zerolinecolor\":\"white\",\"automargin\":true,\"zerolinewidth\":2},\"yaxis\":{\"gridcolor\":\"white\",\"linecolor\":\"white\",\"ticks\":\"\",\"title\":{\"standoff\":15},\"zerolinecolor\":\"white\",\"automargin\":true,\"zerolinewidth\":2},\"scene\":{\"xaxis\":{\"backgroundcolor\":\"#E5ECF6\",\"gridcolor\":\"white\",\"linecolor\":\"white\",\"showbackground\":true,\"ticks\":\"\",\"zerolinecolor\":\"white\",\"gridwidth\":2},\"yaxis\":{\"backgroundcolor\":\"#E5ECF6\",\"gridcolor\":\"white\",\"linecolor\":\"white\",\"showbackground\":true,\"ticks\":\"\",\"zerolinecolor\":\"white\",\"gridwidth\":2},\"zaxis\":{\"backgroundcolor\":\"#E5ECF6\",\"gridcolor\":\"white\",\"linecolor\":\"white\",\"showbackground\":true,\"ticks\":\"\",\"zerolinecolor\":\"white\",\"gridwidth\":2}},\"shapedefaults\":{\"line\":{\"color\":\"#2a3f5f\"}},\"annotationdefaults\":{\"arrowcolor\":\"#2a3f5f\",\"arrowhead\":0,\"arrowwidth\":1},\"geo\":{\"bgcolor\":\"white\",\"landcolor\":\"#E5ECF6\",\"subunitcolor\":\"white\",\"showland\":true,\"showlakes\":true,\"lakecolor\":\"white\"},\"title\":{\"x\":0.05},\"mapbox\":{\"style\":\"light\"}}},\"geo\":{\"projection\":{\"type\":\"albers usa\"},\"scope\":\"usa\",\"landcolor\":\"rgb(250,250,250)\",\"subunitcolor\":\"rgb(200, 200, 200)\",\"countrycolor\":\"rgb(217, 217, 217)\",\"countrywidth\":0.5,\"subunitwidth\":0.5},\"showlegend\":true,\"title\":{\"text\":\"Events Began From these Locations<br>(Hover for details)\"}},                        {\"responsive\": true}                    ).then(function(){\n",
       "                            \n",
       "var gd = document.getElementById('10d8f083-7b37-4d0a-b0b6-a6d6f927edac');\n",
       "var x = new MutationObserver(function (mutations, observer) {{\n",
       "        var display = window.getComputedStyle(gd).display;\n",
       "        if (!display || display === 'none') {{\n",
       "            console.log([gd, 'removed!']);\n",
       "            Plotly.purge(gd);\n",
       "            observer.disconnect();\n",
       "        }}\n",
       "}});\n",
       "\n",
       "// Listen for the removal of the full notebook cells\n",
       "var notebookContainer = gd.closest('#notebook-container');\n",
       "if (notebookContainer) {{\n",
       "    x.observe(notebookContainer, {childList: true});\n",
       "}}\n",
       "\n",
       "// Listen for the clearing of the current output cell\n",
       "var outputEl = gd.closest('.output');\n",
       "if (outputEl) {{\n",
       "    x.observe(outputEl, {childList: true});\n",
       "}}\n",
       "\n",
       "                        })                };                });            </script>        </div>"
      ]
     },
     "metadata": {},
     "output_type": "display_data"
    }
   ],
   "source": [
    "fig = go.Figure()\n",
    "\n",
    "for state in top_two:\n",
    "\n",
    "    st = start_df[(start_df['State']) == state]\n",
    "\n",
    "\n",
    "    fig.add_trace(go.Scattergeo(\n",
    "        locationmode= 'USA-states',\n",
    "        lon = st['Begin_Lon'],\n",
    "        lat = st['Begin_Lat'],\n",
    "        text = st['Text'],\n",
    "        marker=dict(    \n",
    "            size = start_df['Property_Cost']/(10**8.6)+3, #6,\n",
    "            color = colors[top_two.index(state)],\n",
    "            line_color = 'rgb(40,40,40)',\n",
    "            line_width = 0.2,\n",
    "            sizemode = 'diameter'),\n",
    "        name = state\n",
    "    ))\n",
    "\n",
    "fig.update_layout(\n",
    "showlegend = True,\n",
    "title = 'Events Began From these Locations<br>(Hover for details)',\n",
    "geo = dict(scope = 'usa',\n",
    "projection_type='albers usa',\n",
    "landcolor = 'rgb(250,250,250)',\n",
    "subunitcolor = \"rgb(200, 200, 200)\",\n",
    "countrycolor = \"rgb(217, 217, 217)\",\n",
    "countrywidth = 0.5,\n",
    "subunitwidth = 0.5\n",
    ")   \n",
    ")\n",
    "\n",
    "fig.show()"
   ]
  },
  {
   "cell_type": "markdown",
   "metadata": {},
   "source": [
    "### End Locations"
   ]
  },
  {
   "cell_type": "code",
   "execution_count": 243,
   "metadata": {},
   "outputs": [
    {
     "data": {
      "text/html": [
       "<div>\n",
       "<style scoped>\n",
       "    .dataframe tbody tr th:only-of-type {\n",
       "        vertical-align: middle;\n",
       "    }\n",
       "\n",
       "    .dataframe tbody tr th {\n",
       "        vertical-align: top;\n",
       "    }\n",
       "\n",
       "    .dataframe thead th {\n",
       "        text-align: right;\n",
       "    }\n",
       "</style>\n",
       "<table border=\"1\" class=\"dataframe\">\n",
       "  <thead>\n",
       "    <tr style=\"text-align: right;\">\n",
       "      <th></th>\n",
       "      <th>State</th>\n",
       "      <th>End_Lat</th>\n",
       "      <th>End_Lon</th>\n",
       "      <th>Property_Cost</th>\n",
       "      <th>Text</th>\n",
       "    </tr>\n",
       "  </thead>\n",
       "  <tbody>\n",
       "    <tr>\n",
       "      <th>0</th>\n",
       "      <td>TEXAS</td>\n",
       "      <td>31.5183</td>\n",
       "      <td>-106.1176</td>\n",
       "      <td>0.0</td>\n",
       "      <td>TEXAS&lt;br&gt;Property Cost 0.0</td>\n",
       "    </tr>\n",
       "    <tr>\n",
       "      <th>1</th>\n",
       "      <td>TEXAS</td>\n",
       "      <td>31.7715</td>\n",
       "      <td>-106.5028</td>\n",
       "      <td>0.0</td>\n",
       "      <td>TEXAS&lt;br&gt;Property Cost 0.0</td>\n",
       "    </tr>\n",
       "    <tr>\n",
       "      <th>2</th>\n",
       "      <td>TEXAS</td>\n",
       "      <td>31.7573</td>\n",
       "      <td>-106.4989</td>\n",
       "      <td>0.0</td>\n",
       "      <td>TEXAS&lt;br&gt;Property Cost 0.0</td>\n",
       "    </tr>\n",
       "    <tr>\n",
       "      <th>3</th>\n",
       "      <td>TEXAS</td>\n",
       "      <td>29.6142</td>\n",
       "      <td>-94.3451</td>\n",
       "      <td>600000000.0</td>\n",
       "      <td>TEXAS&lt;br&gt;Property Cost 600000000.0</td>\n",
       "    </tr>\n",
       "    <tr>\n",
       "      <th>4</th>\n",
       "      <td>TEXAS</td>\n",
       "      <td>31.2083</td>\n",
       "      <td>-93.5815</td>\n",
       "      <td>85000000.0</td>\n",
       "      <td>TEXAS&lt;br&gt;Property Cost 85000000.0</td>\n",
       "    </tr>\n",
       "  </tbody>\n",
       "</table>\n",
       "</div>"
      ],
      "text/plain": [
       "   State  End_Lat   End_Lon  Property_Cost                                Text\n",
       "0  TEXAS  31.5183 -106.1176            0.0          TEXAS<br>Property Cost 0.0\n",
       "1  TEXAS  31.7715 -106.5028            0.0          TEXAS<br>Property Cost 0.0\n",
       "2  TEXAS  31.7573 -106.4989            0.0          TEXAS<br>Property Cost 0.0\n",
       "3  TEXAS  29.6142  -94.3451    600000000.0  TEXAS<br>Property Cost 600000000.0\n",
       "4  TEXAS  31.2083  -93.5815     85000000.0   TEXAS<br>Property Cost 85000000.0"
      ]
     },
     "execution_count": 243,
     "metadata": {},
     "output_type": "execute_result"
    }
   ],
   "source": [
    "end_df = harvey_top[['State', 'End_Lat', 'End_Lon', 'Property_Cost']].dropna().reset_index()\n",
    "end_df.drop('index', axis=1, inplace=True)\n",
    "end_df['Text'] = start_df['State'] + '<br>Property Cost ' + (end_df['Property_Cost']).astype(str)\n",
    "end_df.head()"
   ]
  },
  {
   "cell_type": "code",
   "execution_count": 244,
   "metadata": {},
   "outputs": [
    {
     "data": {
      "application/vnd.plotly.v1+json": {
       "config": {
        "plotlyServerURL": "https://plot.ly"
       },
       "data": [
        {
         "lat": [
          31.5183,
          31.7715,
          31.7573,
          29.6142,
          31.2083,
          30.0598,
          29.5317,
          34.372,
          30.92,
          29.9669,
          30.4115,
          31.85,
          29.6118,
          29.4157,
          34.54,
          31.1204,
          31.2063,
          31.0968,
          31.0775,
          30.6144,
          29.5905,
          33.58,
          31.269,
          34.5479,
          33.4921,
          33.55,
          29.5382,
          33.39,
          33.21,
          33.5221,
          31.3502,
          31.2533,
          31.4156,
          31.3026,
          31.3534,
          31.1372,
          31.264,
          31.4829,
          31.2515,
          31.2928,
          31.2007,
          31.3411,
          31.1787,
          36.17,
          29.4783,
          30.0883,
          31.7825,
          31.5928,
          31.257,
          36.02,
          35.07,
          36.03,
          29.8981,
          36.15,
          36.15,
          31.37,
          29.5647,
          29.4937,
          31.3992,
          34.5411,
          35.92,
          30.66,
          32.01,
          30.405,
          29.5541,
          31.2026,
          32.7328,
          33.5409,
          33.6449,
          33.227,
          36.06,
          35.75,
          35.53,
          29.5753,
          30.1731,
          32.747,
          32.7435,
          33.0293,
          33.0358,
          33.1755,
          28.6045,
          29.4347,
          33.67,
          34.13,
          34.27,
          29.6046,
          31.2036,
          29.4916,
          32.45,
          32.42,
          32.45,
          29.7803,
          29.455,
          30.0543,
          29.9975,
          29.9681,
          29.31,
          29.31,
          29.9312,
          29.6872,
          30.0014,
          30.0014,
          29.9205,
          29.7322,
          30.0162,
          30.5283,
          30.1829,
          30.0706,
          30.0329,
          29.122,
          30.5706,
          29.3236,
          29.3705,
          29.8904,
          29.4971,
          29.3146,
          30.5365,
          30.4249,
          29.8075,
          29.38,
          30.8414,
          30.0067,
          30.5222,
          30.1168,
          28.9542,
          28.8869,
          29.7705,
          29.9515,
          29.455,
          29.4475,
          29.787,
          30.3539,
          28.4229,
          28.4302,
          28.5968,
          28.4722,
          29.6026,
          29.824,
          29.7305,
          29.1976,
          29.7168,
          29.5079,
          29.6848,
          30.3964,
          29.7808,
          29.6408,
          29.8598,
          29.0286,
          30.0483,
          29.5342,
          29.3122,
          28.9837,
          28.9923,
          30.2034,
          30.0161,
          30.0887,
          28.7826,
          29.4904,
          29.8371,
          29.9347,
          30.4823,
          29.78,
          29,
          30.8162,
          30.0162,
          30.5333,
          29.7955,
          29.8074,
          29.674,
          30.0064,
          29.4978,
          29.7011,
          29.6476,
          29.5504,
          29.9182,
          29.6744,
          29.9593,
          29.7835,
          29.3616,
          29.55,
          30.3053,
          30.0085,
          29.1675,
          29.7951,
          28.7821,
          29.3496,
          29.548,
          29.52,
          29.2651,
          30.2333,
          30.131,
          29.2505,
          29.4647,
          29.7525,
          29.7016,
          30.4373,
          29.1828,
          30.5482,
          29.7174,
          30.0174,
          30.5077,
          30.0018
         ],
         "locationmode": "USA-states",
         "lon": [
          -106.1176,
          -106.5028,
          -106.4989,
          -94.3451,
          -93.5815,
          -93.7189,
          -95.7541,
          -100.9851,
          -94,
          -93.8974,
          -95.5018,
          -102.4722,
          -94.3602,
          -95.1032,
          -101.74,
          -94.457,
          -94.7808,
          -94.4871,
          -94.4081,
          -95.1045,
          -95.1955,
          -101.88,
          -94.8242,
          -101.903,
          -102.37,
          -98.2,
          -95.1059,
          -102.08,
          -101.78,
          -102.37,
          -93.8476,
          -94.0548,
          -93.8132,
          -93.9304,
          -94.7933,
          -94.4259,
          -94.8323,
          -93.933,
          -93.9741,
          -94.0271,
          -93.7339,
          -93.9353,
          -94.5894,
          -101.66,
          -95.4932,
          -95.419,
          -94.2457,
          -93.9747,
          -93.9771,
          -101.53,
          -101.79,
          -102.55,
          -96.5036,
          -100.8,
          -100.8,
          -100.29,
          -95.1826,
          -95.1262,
          -94.6413,
          -101.7375,
          -100.28,
          -101.69,
          -99.52,
          -95.4108,
          -94.3799,
          -93.7364,
          -96.2825,
          -96.8473,
          -96.8628,
          -97.0846,
          -102.44,
          -102.14,
          -102.27,
          -95.097,
          -94.1123,
          -96.6036,
          -96.7553,
          -96.4403,
          -96.4401,
          -96.2909,
          -96.9495,
          -95.0995,
          -101.82,
          -101.57,
          -100.6,
          -94.363,
          -93.587,
          -95.2855,
          -99.73,
          -99.86,
          -99.87,
          -95.8482,
          -95.4671,
          -97.551,
          -97.1583,
          -97.7639,
          -94.79,
          -94.79,
          -97.7553,
          -97.2184,
          -96.9997,
          -97.6341,
          -96.7552,
          -97.6204,
          -97.1494,
          -97.588,
          -97.3162,
          -96.7008,
          -97.4731,
          -97.2928,
          -97.7807,
          -95.8049,
          -95.4494,
          -95.566,
          -94.5058,
          -94.769,
          -95.1416,
          -95.5062,
          -95.809,
          -94.8669,
          -95.3449,
          -95.6779,
          -95.3545,
          -95.8557,
          -96.7566,
          -96.8486,
          -96.0439,
          -97.549,
          -95.467,
          -95.4599,
          -95.852,
          -96.8829,
          -96.6696,
          -97.0491,
          -97.0093,
          -96.8596,
          -95.3778,
          -94.582,
          -95.1828,
          -95.906,
          -97.6649,
          -95.3462,
          -97.6125,
          -96.0593,
          -96.3807,
          -95.9491,
          -94.4179,
          -95.5962,
          -94.7626,
          -95.5618,
          -94.77,
          -95.4854,
          -96.0353,
          -96.6495,
          -95.4226,
          -95.9079,
          -96.3171,
          -95.1313,
          -94.8477,
          -95.1704,
          -96.3165,
          -95.8466,
          -95.32,
          -95.6734,
          -95.4176,
          -95.7713,
          -94.7145,
          -94.9136,
          -95.5893,
          -97.1435,
          -95.538,
          -95.7613,
          -95.5503,
          -95.11,
          -95.696,
          -95.8715,
          -95.6748,
          -94.5799,
          -96.2591,
          -96.09,
          -94.9921,
          -97.1676,
          -95.4709,
          -94.6283,
          -95.6587,
          -95.3458,
          -96.0934,
          -95,
          -96.3364,
          -95.739,
          -95.4135,
          -95.4221,
          -95.454,
          -95.4228,
          -95.7977,
          -95.6909,
          -95.5959,
          -94.7543,
          -95.4164,
          -95.4331,
          -95.397,
          -97.1622
         ],
         "marker": {
          "color": "#E58606",
          "line": {
           "color": "rgb(40,40,40)",
           "width": 0.2
          },
          "size": [
           3,
           3,
           3,
           4.507131858905749,
           3.2135103466783144,
           3.113034889417931,
           3,
           3.000025118864315,
           3.0000125594321574,
           3,
           3,
           3.000020095091452,
           10.535659294528747,
           3,
           3,
           3,
           3,
           3,
           3,
           3,
           3,
           3.0000012559432157,
           3,
           3,
           3.0001054992301235,
           3,
           3,
           3,
           3,
           3,
           3,
           3,
           3,
           3,
           3,
           3,
           3,
           3,
           3,
           3,
           3,
           3,
           3,
           3,
           3,
           3,
           3,
           3,
           3,
           3,
           3,
           3,
           3,
           3,
           3,
           3,
           3,
           3,
           3,
           3,
           3,
           3,
           3,
           3,
           3,
           3,
           3,
           3,
           3,
           3,
           3,
           3,
           3,
           3,
           3,
           3,
           3,
           3,
           3,
           3.0001255943215757,
           3.150713185890575,
           3,
           3,
           3,
           3,
           3,
           3,
           3,
           3,
           3,
           3,
           3,
           3,
           3,
           3,
           3,
           3,
           3,
           3,
           3.037678296472644,
           3,
           3,
           3,
           3,
           3,
           3,
           3,
           3,
           3,
           3,
           3,
           3,
           3,
           3,
           3.0000175832050204,
           3.0000125594321574,
           3,
           3,
           3,
           3,
           3,
           3,
           3,
           3,
           3,
           3,
           3,
           3.0005023772863018,
           3,
           3,
           3,
           3,
           3,
           3,
           3,
           3,
           3,
           3,
           3.0000376782964726,
           3,
           3,
           3,
           3,
           3,
           3,
           3,
           6.7678296472643735,
           3.150713185890575,
           3,
           3,
           3,
           3,
           3.0005023772863018,
           3.001255943215755,
           3,
           3,
           3.000251188643151,
           3,
           3,
           3,
           3,
           3,
           3,
           3,
           3,
           3,
           3,
           3.0037678296472645,
           3.125594321575479,
           3,
           3.0075356592945286,
           3,
           8.023772863019165,
           3,
           3,
           3,
           3.0000025118864313,
           3.7535659294528747,
           3,
           23.09509145207666,
           28.118864315095824,
           4.507131858905749,
           3,
           3.879160251028354,
           20.583205020567075,
           3.000251188643151,
           3.000251188643151,
           3.000251188643151,
           3.032277740644898,
           3.001255943215755,
           3.001255943215755,
           3.001255943215755,
           3.0006279716078774,
           3.000025118864315,
           3,
           3.050237728630192,
           3.0025118864315097,
           28.118864315095824,
           3,
           3,
           3,
           3,
           3,
           3,
           3,
           3,
           3,
           3,
           3,
           3,
           3,
           3.0000012559432157,
           3.000075356592945,
           3,
           3,
           3,
           3,
           3,
           3,
           3,
           3.000251188643151,
           3,
           3.0020095091452075,
           3,
           3,
           3,
           3,
           3,
           3,
           3,
           3,
           3.001255943215755,
           3.000075356592945,
           3.0050237728630194,
           3.0001255943215757,
           3.001255943215755,
           3,
           3.000075356592945,
           3,
           3,
           3.0001255943215757,
           3,
           3,
           3,
           3,
           3.001255943215755,
           3.0001255943215757,
           3.000753565929453,
           3.0005023772863018,
           3,
           3,
           3,
           3.000251188643151,
           3,
           3,
           3,
           3,
           3.000251188643151,
           3,
           3.0001255943215757,
           3,
           3,
           3
          ],
          "sizemode": "diameter"
         },
         "name": "TEXAS",
         "text": [
          "TEXAS<br>Property Cost 0.0",
          "TEXAS<br>Property Cost 0.0",
          "TEXAS<br>Property Cost 0.0",
          "TEXAS<br>Property Cost 600000000.0",
          "TEXAS<br>Property Cost 85000000.0",
          "TEXAS<br>Property Cost 45000000.0",
          "TEXAS<br>Property Cost 0.0",
          "TEXAS<br>Property Cost 10000.0",
          "TEXAS<br>Property Cost 5000.0",
          "TEXAS<br>Property Cost 0.0",
          "TEXAS<br>Property Cost 0.0",
          "TEXAS<br>Property Cost 8000.0",
          "TEXAS<br>Property Cost 3000000000.0",
          "TEXAS<br>Property Cost 0.0",
          "TEXAS<br>Property Cost 0.0",
          "TEXAS<br>Property Cost 0.0",
          "TEXAS<br>Property Cost 0.0",
          "TEXAS<br>Property Cost 0.0",
          "TEXAS<br>Property Cost 0.0",
          "TEXAS<br>Property Cost 0.0",
          "TEXAS<br>Property Cost 0.0",
          "TEXAS<br>Property Cost 500.0",
          "TEXAS<br>Property Cost 0.0",
          "TEXAS<br>Property Cost 0.0",
          "TEXAS<br>Property Cost 42000.0",
          "TEXAS<br>Property Cost 0.0",
          "TEXAS<br>Property Cost 0.0",
          "TEXAS<br>Property Cost 0.0",
          "TEXAS<br>Property Cost 0.0",
          "TEXAS<br>Property Cost 0.0",
          "TEXAS<br>Property Cost 0.0",
          "TEXAS<br>Property Cost 0.0",
          "TEXAS<br>Property Cost 0.0",
          "TEXAS<br>Property Cost 0.0",
          "TEXAS<br>Property Cost 0.0",
          "TEXAS<br>Property Cost 0.0",
          "TEXAS<br>Property Cost 0.0",
          "TEXAS<br>Property Cost 0.0",
          "TEXAS<br>Property Cost 0.0",
          "TEXAS<br>Property Cost 0.0",
          "TEXAS<br>Property Cost 0.0",
          "TEXAS<br>Property Cost 0.0",
          "TEXAS<br>Property Cost 0.0",
          "TEXAS<br>Property Cost 0.0",
          "TEXAS<br>Property Cost 0.0",
          "TEXAS<br>Property Cost 0.0",
          "TEXAS<br>Property Cost 0.0",
          "TEXAS<br>Property Cost 0.0",
          "TEXAS<br>Property Cost 0.0",
          "TEXAS<br>Property Cost 0.0",
          "TEXAS<br>Property Cost 0.0",
          "TEXAS<br>Property Cost 0.0",
          "TEXAS<br>Property Cost 0.0",
          "TEXAS<br>Property Cost 0.0",
          "TEXAS<br>Property Cost 0.0",
          "TEXAS<br>Property Cost 0.0",
          "TEXAS<br>Property Cost 0.0",
          "TEXAS<br>Property Cost 0.0",
          "TEXAS<br>Property Cost 0.0",
          "TEXAS<br>Property Cost 0.0",
          "TEXAS<br>Property Cost 0.0",
          "TEXAS<br>Property Cost 0.0",
          "TEXAS<br>Property Cost 0.0",
          "TEXAS<br>Property Cost 0.0",
          "TEXAS<br>Property Cost 0.0",
          "TEXAS<br>Property Cost 0.0",
          "TEXAS<br>Property Cost 0.0",
          "TEXAS<br>Property Cost 0.0",
          "TEXAS<br>Property Cost 0.0",
          "TEXAS<br>Property Cost 0.0",
          "TEXAS<br>Property Cost 0.0",
          "TEXAS<br>Property Cost 0.0",
          "TEXAS<br>Property Cost 0.0",
          "TEXAS<br>Property Cost 0.0",
          "TEXAS<br>Property Cost 0.0",
          "TEXAS<br>Property Cost 0.0",
          "TEXAS<br>Property Cost 0.0",
          "TEXAS<br>Property Cost 0.0",
          "TEXAS<br>Property Cost 0.0",
          "TEXAS<br>Property Cost 0.0",
          "TEXAS<br>Property Cost 0.0",
          "TEXAS<br>Property Cost 0.0",
          "TEXAS<br>Property Cost 0.0",
          "TEXAS<br>Property Cost 0.0",
          "TEXAS<br>Property Cost 0.0",
          "TEXAS<br>Property Cost 1500000000.0",
          "TEXAS<br>Property Cost 60000000.0",
          "TEXAS<br>Property Cost 0.0",
          "TEXAS<br>Property Cost 0.0",
          "TEXAS<br>Property Cost 0.0",
          "TEXAS<br>Property Cost 0.0",
          "TEXAS<br>Property Cost 200000.0",
          "TEXAS<br>Property Cost 500000.0",
          "TEXAS<br>Property Cost 0.0",
          "TEXAS<br>Property Cost 0.0",
          "TEXAS<br>Property Cost 100000.0",
          "TEXAS<br>Property Cost 0.0",
          "TEXAS<br>Property Cost 0.0",
          "TEXAS<br>Property Cost 0.0",
          "TEXAS<br>Property Cost 0.0",
          "TEXAS<br>Property Cost 0.0",
          "TEXAS<br>Property Cost 0.0",
          "TEXAS<br>Property Cost 0.0",
          "TEXAS<br>Property Cost 0.0",
          "TEXAS<br>Property Cost 0.0",
          "TEXAS<br>Property Cost 0.0",
          "TEXAS<br>Property Cost 1500000.0",
          "TEXAS<br>Property Cost 50000000.0",
          "TEXAS<br>Property Cost 0.0",
          "TEXAS<br>Property Cost 3000000.0",
          "TEXAS<br>Property Cost 0.0",
          "TEXAS<br>Property Cost 2000000000.0",
          "TEXAS<br>Property Cost 0.0",
          "TEXAS<br>Property Cost 0.0",
          "TEXAS<br>Property Cost 0.0",
          "TEXAS<br>Property Cost 1000.0",
          "TEXAS<br>Property Cost 300000000.0",
          "TEXAS<br>Property Cost 0.0",
          "TEXAS<br>Property Cost 8000000000.0",
          "TEXAS<br>Property Cost 10000000000.0",
          "TEXAS<br>Property Cost 600000000.0",
          "TEXAS<br>Property Cost 0.0",
          "TEXAS<br>Property Cost 350000000.0",
          "TEXAS<br>Property Cost 7000000000.0",
          "TEXAS<br>Property Cost 100000.0",
          "TEXAS<br>Property Cost 100000.0",
          "TEXAS<br>Property Cost 100000.0",
          "TEXAS<br>Property Cost 12850000.0",
          "TEXAS<br>Property Cost 500000.0",
          "TEXAS<br>Property Cost 500000.0",
          "TEXAS<br>Property Cost 500000.0",
          "TEXAS<br>Property Cost 250000.0",
          "TEXAS<br>Property Cost 10000.0",
          "TEXAS<br>Property Cost 0.0",
          "TEXAS<br>Property Cost 20000000.0",
          "TEXAS<br>Property Cost 1000000.0",
          "TEXAS<br>Property Cost 10000000000.0",
          "TEXAS<br>Property Cost 0.0",
          "TEXAS<br>Property Cost 0.0",
          "TEXAS<br>Property Cost 0.0",
          "TEXAS<br>Property Cost 0.0",
          "TEXAS<br>Property Cost 0.0",
          "TEXAS<br>Property Cost 0.0",
          "TEXAS<br>Property Cost 0.0",
          "TEXAS<br>Property Cost 0.0",
          "TEXAS<br>Property Cost 0.0",
          "TEXAS<br>Property Cost 0.0",
          "TEXAS<br>Property Cost 0.0",
          "TEXAS<br>Property Cost 0.0",
          "TEXAS<br>Property Cost 0.0",
          "TEXAS<br>Property Cost 500.0",
          "TEXAS<br>Property Cost 30000.0",
          "TEXAS<br>Property Cost 0.0",
          "TEXAS<br>Property Cost 0.0",
          "TEXAS<br>Property Cost 0.0",
          "TEXAS<br>Property Cost 0.0",
          "TEXAS<br>Property Cost 0.0",
          "TEXAS<br>Property Cost 0.0",
          "TEXAS<br>Property Cost 0.0",
          "TEXAS<br>Property Cost 100000.0",
          "TEXAS<br>Property Cost 0.0",
          "TEXAS<br>Property Cost 800000.0",
          "TEXAS<br>Property Cost 0.0",
          "TEXAS<br>Property Cost 0.0",
          "TEXAS<br>Property Cost 0.0",
          "TEXAS<br>Property Cost 0.0",
          "TEXAS<br>Property Cost 0.0",
          "TEXAS<br>Property Cost 0.0",
          "TEXAS<br>Property Cost 0.0",
          "TEXAS<br>Property Cost 0.0",
          "TEXAS<br>Property Cost 500000.0",
          "TEXAS<br>Property Cost 30000.0",
          "TEXAS<br>Property Cost 2000000.0",
          "TEXAS<br>Property Cost 50000.0",
          "TEXAS<br>Property Cost 500000.0",
          "TEXAS<br>Property Cost 0.0",
          "TEXAS<br>Property Cost 30000.0",
          "TEXAS<br>Property Cost 0.0",
          "TEXAS<br>Property Cost 0.0",
          "TEXAS<br>Property Cost 50000.0",
          "TEXAS<br>Property Cost 0.0",
          "TEXAS<br>Property Cost 0.0",
          "TEXAS<br>Property Cost 0.0",
          "TEXAS<br>Property Cost 0.0",
          "TEXAS<br>Property Cost 500000.0",
          "TEXAS<br>Property Cost 50000.0",
          "TEXAS<br>Property Cost 300000.0",
          "TEXAS<br>Property Cost 200000.0",
          "TEXAS<br>Property Cost 0.0",
          "TEXAS<br>Property Cost 0.0",
          "TEXAS<br>Property Cost 0.0",
          "TEXAS<br>Property Cost 100000.0",
          "TEXAS<br>Property Cost 0.0",
          "TEXAS<br>Property Cost 0.0",
          "TEXAS<br>Property Cost 0.0",
          "TEXAS<br>Property Cost 0.0",
          "TEXAS<br>Property Cost 100000.0",
          "TEXAS<br>Property Cost 0.0",
          "TEXAS<br>Property Cost 50000.0",
          "TEXAS<br>Property Cost 0.0",
          "TEXAS<br>Property Cost 0.0",
          "TEXAS<br>Property Cost 0.0"
         ],
         "type": "scattergeo"
        },
        {
         "lat": [
          31.5911,
          31.4256,
          31.4449,
          32.0413,
          31.5571,
          31.9466,
          31.5033,
          31.7767,
          31.7854,
          31.583,
          31.5975,
          31.9448,
          31.7165,
          31.7836,
          31.7519,
          31.9424,
          31.9747,
          31.8031,
          31.4651,
          29.9502,
          30.9307,
          30.9284,
          31.603,
          31.445,
          31.7439,
          31.9943,
          32.109,
          31.9609,
          31.9413,
          32.1002,
          32.002,
          31.9689,
          31.9528,
          32.1261,
          32.009,
          30.9001,
          32.0837,
          32.1171,
          31.889,
          31.9976,
          32.1385,
          31.7122,
          31.7854,
          31.9627,
          31.8954,
          32.0902,
          31.6129,
          31.5449,
          29.9814,
          29.9924,
          29.9719,
          31.5729,
          32.1816,
          32.0451,
          29.666,
          29.9602,
          30.1617,
          30.2506,
          29.7671,
          29.958,
          30.0555
         ],
         "locationmode": "USA-states",
         "lon": [
          -93.4655,
          -93.3627,
          -93.4722,
          -93.2204,
          -93.4838,
          -93.2644,
          -93.4199,
          -93.0576,
          -93.1219,
          -93.4823,
          -93.456,
          -93.054,
          -93.2643,
          -93.7071,
          -93.2711,
          -93.133,
          -93.7296,
          -93.5282,
          -93.69,
          -90.3986,
          -93.5321,
          -93.5239,
          -93.4746,
          -93.4716,
          -93.5096,
          -93.0595,
          -93.1327,
          -92.6838,
          -93.4499,
          -93.0988,
          -93.1902,
          -92.6851,
          -92.7912,
          -92.8458,
          -92.7638,
          -93.5486,
          -93.1775,
          -93.355,
          -93.1075,
          -93.0357,
          -93.1929,
          -93.2121,
          -93.3766,
          -93.0315,
          -93.1338,
          -93.1565,
          -93.0952,
          -92.9977,
          -93.3733,
          -92.0414,
          -91.7538,
          -92.9934,
          -93.2284,
          -93.3066,
          -90.5734,
          -92.4102,
          -92.1812,
          -92.6026,
          -93.7126,
          -92.0366,
          -90.835
         ],
         "marker": {
          "color": "#5D69B1",
          "line": {
           "color": "rgb(40,40,40)",
           "width": 0.2
          },
          "size": [
           3,
           3,
           3,
           4.507131858905749,
           3.2135103466783144,
           3.113034889417931,
           3,
           3.000025118864315,
           3.0000125594321574,
           3,
           3,
           3.000020095091452,
           10.535659294528747,
           3,
           3,
           3,
           3,
           3,
           3,
           3,
           3,
           3.0000012559432157,
           3,
           3,
           3.0001054992301235,
           3,
           3,
           3,
           3,
           3,
           3,
           3,
           3,
           3,
           3,
           3,
           3,
           3,
           3,
           3,
           3,
           3,
           3,
           3,
           3,
           3,
           3,
           3,
           3,
           3,
           3,
           3,
           3,
           3,
           3,
           3,
           3,
           3,
           3,
           3,
           3,
           3,
           3,
           3,
           3,
           3,
           3,
           3,
           3,
           3,
           3,
           3,
           3,
           3,
           3,
           3,
           3,
           3,
           3,
           3.0001255943215757,
           3.150713185890575,
           3,
           3,
           3,
           3,
           3,
           3,
           3,
           3,
           3,
           3,
           3,
           3,
           3,
           3,
           3,
           3,
           3,
           3,
           3.037678296472644,
           3,
           3,
           3,
           3,
           3,
           3,
           3,
           3,
           3,
           3,
           3,
           3,
           3,
           3,
           3.0000175832050204,
           3.0000125594321574,
           3,
           3,
           3,
           3,
           3,
           3,
           3,
           3,
           3,
           3,
           3,
           3.0005023772863018,
           3,
           3,
           3,
           3,
           3,
           3,
           3,
           3,
           3,
           3,
           3.0000376782964726,
           3,
           3,
           3,
           3,
           3,
           3,
           3,
           6.7678296472643735,
           3.150713185890575,
           3,
           3,
           3,
           3,
           3.0005023772863018,
           3.001255943215755,
           3,
           3,
           3.000251188643151,
           3,
           3,
           3,
           3,
           3,
           3,
           3,
           3,
           3,
           3,
           3.0037678296472645,
           3.125594321575479,
           3,
           3.0075356592945286,
           3,
           8.023772863019165,
           3,
           3,
           3,
           3.0000025118864313,
           3.7535659294528747,
           3,
           23.09509145207666,
           28.118864315095824,
           4.507131858905749,
           3,
           3.879160251028354,
           20.583205020567075,
           3.000251188643151,
           3.000251188643151,
           3.000251188643151,
           3.032277740644898,
           3.001255943215755,
           3.001255943215755,
           3.001255943215755,
           3.0006279716078774,
           3.000025118864315,
           3,
           3.050237728630192,
           3.0025118864315097,
           28.118864315095824,
           3,
           3,
           3,
           3,
           3,
           3,
           3,
           3,
           3,
           3,
           3,
           3,
           3,
           3.0000012559432157,
           3.000075356592945,
           3,
           3,
           3,
           3,
           3,
           3,
           3,
           3.000251188643151,
           3,
           3.0020095091452075,
           3,
           3,
           3,
           3,
           3,
           3,
           3,
           3,
           3.001255943215755,
           3.000075356592945,
           3.0050237728630194,
           3.0001255943215757,
           3.001255943215755,
           3,
           3.000075356592945,
           3,
           3,
           3.0001255943215757,
           3,
           3,
           3,
           3,
           3.001255943215755,
           3.0001255943215757,
           3.000753565929453,
           3.0005023772863018,
           3,
           3,
           3,
           3.000251188643151,
           3,
           3,
           3,
           3,
           3.000251188643151,
           3,
           3.0001255943215757,
           3,
           3,
           3
          ],
          "sizemode": "diameter"
         },
         "name": "LOUISIANA",
         "text": [
          "LOUISIANA<br>Property Cost 0.0",
          "LOUISIANA<br>Property Cost 0.0",
          "LOUISIANA<br>Property Cost 0.0",
          "LOUISIANA<br>Property Cost 0.0",
          "LOUISIANA<br>Property Cost 0.0",
          "LOUISIANA<br>Property Cost 0.0",
          "LOUISIANA<br>Property Cost 0.0",
          "LOUISIANA<br>Property Cost 0.0",
          "LOUISIANA<br>Property Cost 0.0",
          "LOUISIANA<br>Property Cost 0.0",
          "LOUISIANA<br>Property Cost 0.0",
          "LOUISIANA<br>Property Cost 0.0",
          "LOUISIANA<br>Property Cost 0.0",
          "LOUISIANA<br>Property Cost 0.0",
          "LOUISIANA<br>Property Cost 0.0",
          "LOUISIANA<br>Property Cost 0.0",
          "LOUISIANA<br>Property Cost 0.0",
          "LOUISIANA<br>Property Cost 0.0",
          "LOUISIANA<br>Property Cost 0.0",
          "LOUISIANA<br>Property Cost 0.0",
          "LOUISIANA<br>Property Cost 50000.0",
          "LOUISIANA<br>Property Cost 60000000.0",
          "LOUISIANA<br>Property Cost 0.0",
          "LOUISIANA<br>Property Cost 0.0",
          "LOUISIANA<br>Property Cost 0.0",
          "LOUISIANA<br>Property Cost 0.0",
          "LOUISIANA<br>Property Cost 0.0",
          "LOUISIANA<br>Property Cost 0.0",
          "LOUISIANA<br>Property Cost 0.0",
          "LOUISIANA<br>Property Cost 0.0",
          "LOUISIANA<br>Property Cost 0.0",
          "LOUISIANA<br>Property Cost 0.0",
          "LOUISIANA<br>Property Cost 0.0",
          "LOUISIANA<br>Property Cost 0.0",
          "LOUISIANA<br>Property Cost 0.0",
          "LOUISIANA<br>Property Cost 15000000.0",
          "LOUISIANA<br>Property Cost 0.0",
          "LOUISIANA<br>Property Cost 0.0",
          "LOUISIANA<br>Property Cost 0.0",
          "LOUISIANA<br>Property Cost 0.0",
          "LOUISIANA<br>Property Cost 0.0",
          "LOUISIANA<br>Property Cost 0.0",
          "LOUISIANA<br>Property Cost 0.0",
          "LOUISIANA<br>Property Cost 0.0",
          "LOUISIANA<br>Property Cost 0.0",
          "LOUISIANA<br>Property Cost 0.0",
          "LOUISIANA<br>Property Cost 0.0",
          "LOUISIANA<br>Property Cost 0.0",
          "LOUISIANA<br>Property Cost 7000.0",
          "LOUISIANA<br>Property Cost 5000.0",
          "LOUISIANA<br>Property Cost 0.0",
          "LOUISIANA<br>Property Cost 0.0",
          "LOUISIANA<br>Property Cost 0.0",
          "LOUISIANA<br>Property Cost 0.0",
          "LOUISIANA<br>Property Cost 0.0",
          "LOUISIANA<br>Property Cost 0.0",
          "LOUISIANA<br>Property Cost 0.0",
          "LOUISIANA<br>Property Cost 200000.0",
          "LOUISIANA<br>Property Cost 15000.0",
          "LOUISIANA<br>Property Cost 0.0",
          "LOUISIANA<br>Property Cost 0.0"
         ],
         "type": "scattergeo"
        }
       ],
       "layout": {
        "geo": {
         "countrycolor": "rgb(217, 217, 217)",
         "countrywidth": 0.5,
         "landcolor": "rgb(250,250,250)",
         "projection": {
          "type": "albers usa"
         },
         "scope": "usa",
         "subunitcolor": "rgb(200, 200, 200)",
         "subunitwidth": 0.5
        },
        "showlegend": true,
        "template": {
         "data": {
          "bar": [
           {
            "error_x": {
             "color": "#2a3f5f"
            },
            "error_y": {
             "color": "#2a3f5f"
            },
            "marker": {
             "line": {
              "color": "#E5ECF6",
              "width": 0.5
             },
             "pattern": {
              "fillmode": "overlay",
              "size": 10,
              "solidity": 0.2
             }
            },
            "type": "bar"
           }
          ],
          "barpolar": [
           {
            "marker": {
             "line": {
              "color": "#E5ECF6",
              "width": 0.5
             },
             "pattern": {
              "fillmode": "overlay",
              "size": 10,
              "solidity": 0.2
             }
            },
            "type": "barpolar"
           }
          ],
          "carpet": [
           {
            "aaxis": {
             "endlinecolor": "#2a3f5f",
             "gridcolor": "white",
             "linecolor": "white",
             "minorgridcolor": "white",
             "startlinecolor": "#2a3f5f"
            },
            "baxis": {
             "endlinecolor": "#2a3f5f",
             "gridcolor": "white",
             "linecolor": "white",
             "minorgridcolor": "white",
             "startlinecolor": "#2a3f5f"
            },
            "type": "carpet"
           }
          ],
          "choropleth": [
           {
            "colorbar": {
             "outlinewidth": 0,
             "ticks": ""
            },
            "type": "choropleth"
           }
          ],
          "contour": [
           {
            "colorbar": {
             "outlinewidth": 0,
             "ticks": ""
            },
            "colorscale": [
             [
              0,
              "#0d0887"
             ],
             [
              0.1111111111111111,
              "#46039f"
             ],
             [
              0.2222222222222222,
              "#7201a8"
             ],
             [
              0.3333333333333333,
              "#9c179e"
             ],
             [
              0.4444444444444444,
              "#bd3786"
             ],
             [
              0.5555555555555556,
              "#d8576b"
             ],
             [
              0.6666666666666666,
              "#ed7953"
             ],
             [
              0.7777777777777778,
              "#fb9f3a"
             ],
             [
              0.8888888888888888,
              "#fdca26"
             ],
             [
              1,
              "#f0f921"
             ]
            ],
            "type": "contour"
           }
          ],
          "contourcarpet": [
           {
            "colorbar": {
             "outlinewidth": 0,
             "ticks": ""
            },
            "type": "contourcarpet"
           }
          ],
          "heatmap": [
           {
            "colorbar": {
             "outlinewidth": 0,
             "ticks": ""
            },
            "colorscale": [
             [
              0,
              "#0d0887"
             ],
             [
              0.1111111111111111,
              "#46039f"
             ],
             [
              0.2222222222222222,
              "#7201a8"
             ],
             [
              0.3333333333333333,
              "#9c179e"
             ],
             [
              0.4444444444444444,
              "#bd3786"
             ],
             [
              0.5555555555555556,
              "#d8576b"
             ],
             [
              0.6666666666666666,
              "#ed7953"
             ],
             [
              0.7777777777777778,
              "#fb9f3a"
             ],
             [
              0.8888888888888888,
              "#fdca26"
             ],
             [
              1,
              "#f0f921"
             ]
            ],
            "type": "heatmap"
           }
          ],
          "heatmapgl": [
           {
            "colorbar": {
             "outlinewidth": 0,
             "ticks": ""
            },
            "colorscale": [
             [
              0,
              "#0d0887"
             ],
             [
              0.1111111111111111,
              "#46039f"
             ],
             [
              0.2222222222222222,
              "#7201a8"
             ],
             [
              0.3333333333333333,
              "#9c179e"
             ],
             [
              0.4444444444444444,
              "#bd3786"
             ],
             [
              0.5555555555555556,
              "#d8576b"
             ],
             [
              0.6666666666666666,
              "#ed7953"
             ],
             [
              0.7777777777777778,
              "#fb9f3a"
             ],
             [
              0.8888888888888888,
              "#fdca26"
             ],
             [
              1,
              "#f0f921"
             ]
            ],
            "type": "heatmapgl"
           }
          ],
          "histogram": [
           {
            "marker": {
             "pattern": {
              "fillmode": "overlay",
              "size": 10,
              "solidity": 0.2
             }
            },
            "type": "histogram"
           }
          ],
          "histogram2d": [
           {
            "colorbar": {
             "outlinewidth": 0,
             "ticks": ""
            },
            "colorscale": [
             [
              0,
              "#0d0887"
             ],
             [
              0.1111111111111111,
              "#46039f"
             ],
             [
              0.2222222222222222,
              "#7201a8"
             ],
             [
              0.3333333333333333,
              "#9c179e"
             ],
             [
              0.4444444444444444,
              "#bd3786"
             ],
             [
              0.5555555555555556,
              "#d8576b"
             ],
             [
              0.6666666666666666,
              "#ed7953"
             ],
             [
              0.7777777777777778,
              "#fb9f3a"
             ],
             [
              0.8888888888888888,
              "#fdca26"
             ],
             [
              1,
              "#f0f921"
             ]
            ],
            "type": "histogram2d"
           }
          ],
          "histogram2dcontour": [
           {
            "colorbar": {
             "outlinewidth": 0,
             "ticks": ""
            },
            "colorscale": [
             [
              0,
              "#0d0887"
             ],
             [
              0.1111111111111111,
              "#46039f"
             ],
             [
              0.2222222222222222,
              "#7201a8"
             ],
             [
              0.3333333333333333,
              "#9c179e"
             ],
             [
              0.4444444444444444,
              "#bd3786"
             ],
             [
              0.5555555555555556,
              "#d8576b"
             ],
             [
              0.6666666666666666,
              "#ed7953"
             ],
             [
              0.7777777777777778,
              "#fb9f3a"
             ],
             [
              0.8888888888888888,
              "#fdca26"
             ],
             [
              1,
              "#f0f921"
             ]
            ],
            "type": "histogram2dcontour"
           }
          ],
          "mesh3d": [
           {
            "colorbar": {
             "outlinewidth": 0,
             "ticks": ""
            },
            "type": "mesh3d"
           }
          ],
          "parcoords": [
           {
            "line": {
             "colorbar": {
              "outlinewidth": 0,
              "ticks": ""
             }
            },
            "type": "parcoords"
           }
          ],
          "pie": [
           {
            "automargin": true,
            "type": "pie"
           }
          ],
          "scatter": [
           {
            "fillpattern": {
             "fillmode": "overlay",
             "size": 10,
             "solidity": 0.2
            },
            "type": "scatter"
           }
          ],
          "scatter3d": [
           {
            "line": {
             "colorbar": {
              "outlinewidth": 0,
              "ticks": ""
             }
            },
            "marker": {
             "colorbar": {
              "outlinewidth": 0,
              "ticks": ""
             }
            },
            "type": "scatter3d"
           }
          ],
          "scattercarpet": [
           {
            "marker": {
             "colorbar": {
              "outlinewidth": 0,
              "ticks": ""
             }
            },
            "type": "scattercarpet"
           }
          ],
          "scattergeo": [
           {
            "marker": {
             "colorbar": {
              "outlinewidth": 0,
              "ticks": ""
             }
            },
            "type": "scattergeo"
           }
          ],
          "scattergl": [
           {
            "marker": {
             "colorbar": {
              "outlinewidth": 0,
              "ticks": ""
             }
            },
            "type": "scattergl"
           }
          ],
          "scattermapbox": [
           {
            "marker": {
             "colorbar": {
              "outlinewidth": 0,
              "ticks": ""
             }
            },
            "type": "scattermapbox"
           }
          ],
          "scatterpolar": [
           {
            "marker": {
             "colorbar": {
              "outlinewidth": 0,
              "ticks": ""
             }
            },
            "type": "scatterpolar"
           }
          ],
          "scatterpolargl": [
           {
            "marker": {
             "colorbar": {
              "outlinewidth": 0,
              "ticks": ""
             }
            },
            "type": "scatterpolargl"
           }
          ],
          "scatterternary": [
           {
            "marker": {
             "colorbar": {
              "outlinewidth": 0,
              "ticks": ""
             }
            },
            "type": "scatterternary"
           }
          ],
          "surface": [
           {
            "colorbar": {
             "outlinewidth": 0,
             "ticks": ""
            },
            "colorscale": [
             [
              0,
              "#0d0887"
             ],
             [
              0.1111111111111111,
              "#46039f"
             ],
             [
              0.2222222222222222,
              "#7201a8"
             ],
             [
              0.3333333333333333,
              "#9c179e"
             ],
             [
              0.4444444444444444,
              "#bd3786"
             ],
             [
              0.5555555555555556,
              "#d8576b"
             ],
             [
              0.6666666666666666,
              "#ed7953"
             ],
             [
              0.7777777777777778,
              "#fb9f3a"
             ],
             [
              0.8888888888888888,
              "#fdca26"
             ],
             [
              1,
              "#f0f921"
             ]
            ],
            "type": "surface"
           }
          ],
          "table": [
           {
            "cells": {
             "fill": {
              "color": "#EBF0F8"
             },
             "line": {
              "color": "white"
             }
            },
            "header": {
             "fill": {
              "color": "#C8D4E3"
             },
             "line": {
              "color": "white"
             }
            },
            "type": "table"
           }
          ]
         },
         "layout": {
          "annotationdefaults": {
           "arrowcolor": "#2a3f5f",
           "arrowhead": 0,
           "arrowwidth": 1
          },
          "autotypenumbers": "strict",
          "coloraxis": {
           "colorbar": {
            "outlinewidth": 0,
            "ticks": ""
           }
          },
          "colorscale": {
           "diverging": [
            [
             0,
             "#8e0152"
            ],
            [
             0.1,
             "#c51b7d"
            ],
            [
             0.2,
             "#de77ae"
            ],
            [
             0.3,
             "#f1b6da"
            ],
            [
             0.4,
             "#fde0ef"
            ],
            [
             0.5,
             "#f7f7f7"
            ],
            [
             0.6,
             "#e6f5d0"
            ],
            [
             0.7,
             "#b8e186"
            ],
            [
             0.8,
             "#7fbc41"
            ],
            [
             0.9,
             "#4d9221"
            ],
            [
             1,
             "#276419"
            ]
           ],
           "sequential": [
            [
             0,
             "#0d0887"
            ],
            [
             0.1111111111111111,
             "#46039f"
            ],
            [
             0.2222222222222222,
             "#7201a8"
            ],
            [
             0.3333333333333333,
             "#9c179e"
            ],
            [
             0.4444444444444444,
             "#bd3786"
            ],
            [
             0.5555555555555556,
             "#d8576b"
            ],
            [
             0.6666666666666666,
             "#ed7953"
            ],
            [
             0.7777777777777778,
             "#fb9f3a"
            ],
            [
             0.8888888888888888,
             "#fdca26"
            ],
            [
             1,
             "#f0f921"
            ]
           ],
           "sequentialminus": [
            [
             0,
             "#0d0887"
            ],
            [
             0.1111111111111111,
             "#46039f"
            ],
            [
             0.2222222222222222,
             "#7201a8"
            ],
            [
             0.3333333333333333,
             "#9c179e"
            ],
            [
             0.4444444444444444,
             "#bd3786"
            ],
            [
             0.5555555555555556,
             "#d8576b"
            ],
            [
             0.6666666666666666,
             "#ed7953"
            ],
            [
             0.7777777777777778,
             "#fb9f3a"
            ],
            [
             0.8888888888888888,
             "#fdca26"
            ],
            [
             1,
             "#f0f921"
            ]
           ]
          },
          "colorway": [
           "#636efa",
           "#EF553B",
           "#00cc96",
           "#ab63fa",
           "#FFA15A",
           "#19d3f3",
           "#FF6692",
           "#B6E880",
           "#FF97FF",
           "#FECB52"
          ],
          "font": {
           "color": "#2a3f5f"
          },
          "geo": {
           "bgcolor": "white",
           "lakecolor": "white",
           "landcolor": "#E5ECF6",
           "showlakes": true,
           "showland": true,
           "subunitcolor": "white"
          },
          "hoverlabel": {
           "align": "left"
          },
          "hovermode": "closest",
          "mapbox": {
           "style": "light"
          },
          "paper_bgcolor": "white",
          "plot_bgcolor": "#E5ECF6",
          "polar": {
           "angularaxis": {
            "gridcolor": "white",
            "linecolor": "white",
            "ticks": ""
           },
           "bgcolor": "#E5ECF6",
           "radialaxis": {
            "gridcolor": "white",
            "linecolor": "white",
            "ticks": ""
           }
          },
          "scene": {
           "xaxis": {
            "backgroundcolor": "#E5ECF6",
            "gridcolor": "white",
            "gridwidth": 2,
            "linecolor": "white",
            "showbackground": true,
            "ticks": "",
            "zerolinecolor": "white"
           },
           "yaxis": {
            "backgroundcolor": "#E5ECF6",
            "gridcolor": "white",
            "gridwidth": 2,
            "linecolor": "white",
            "showbackground": true,
            "ticks": "",
            "zerolinecolor": "white"
           },
           "zaxis": {
            "backgroundcolor": "#E5ECF6",
            "gridcolor": "white",
            "gridwidth": 2,
            "linecolor": "white",
            "showbackground": true,
            "ticks": "",
            "zerolinecolor": "white"
           }
          },
          "shapedefaults": {
           "line": {
            "color": "#2a3f5f"
           }
          },
          "ternary": {
           "aaxis": {
            "gridcolor": "white",
            "linecolor": "white",
            "ticks": ""
           },
           "baxis": {
            "gridcolor": "white",
            "linecolor": "white",
            "ticks": ""
           },
           "bgcolor": "#E5ECF6",
           "caxis": {
            "gridcolor": "white",
            "linecolor": "white",
            "ticks": ""
           }
          },
          "title": {
           "x": 0.05
          },
          "xaxis": {
           "automargin": true,
           "gridcolor": "white",
           "linecolor": "white",
           "ticks": "",
           "title": {
            "standoff": 15
           },
           "zerolinecolor": "white",
           "zerolinewidth": 2
          },
          "yaxis": {
           "automargin": true,
           "gridcolor": "white",
           "linecolor": "white",
           "ticks": "",
           "title": {
            "standoff": 15
           },
           "zerolinecolor": "white",
           "zerolinewidth": 2
          }
         }
        },
        "title": {
         "text": "Events Ended at These Locations<br>(Hover for details)"
        }
       }
      },
      "text/html": [
       "<div>                            <div id=\"984333af-7a29-4263-856b-bdfe547f12a5\" class=\"plotly-graph-div\" style=\"height:525px; width:100%;\"></div>            <script type=\"text/javascript\">                require([\"plotly\"], function(Plotly) {                    window.PLOTLYENV=window.PLOTLYENV || {};                                    if (document.getElementById(\"984333af-7a29-4263-856b-bdfe547f12a5\")) {                    Plotly.newPlot(                        \"984333af-7a29-4263-856b-bdfe547f12a5\",                        [{\"lat\":[31.5183,31.7715,31.7573,29.6142,31.2083,30.0598,29.5317,34.372,30.92,29.9669,30.4115,31.85,29.6118,29.4157,34.54,31.1204,31.2063,31.0968,31.0775,30.6144,29.5905,33.58,31.269,34.5479,33.4921,33.55,29.5382,33.39,33.21,33.5221,31.3502,31.2533,31.4156,31.3026,31.3534,31.1372,31.264,31.4829,31.2515,31.2928,31.2007,31.3411,31.1787,36.17,29.4783,30.0883,31.7825,31.5928,31.257,36.02,35.07,36.03,29.8981,36.15,36.15,31.37,29.5647,29.4937,31.3992,34.5411,35.92,30.66,32.01,30.405,29.5541,31.2026,32.7328,33.5409,33.6449,33.227,36.06,35.75,35.53,29.5753,30.1731,32.747,32.7435,33.0293,33.0358,33.1755,28.6045,29.4347,33.67,34.13,34.27,29.6046,31.2036,29.4916,32.45,32.42,32.45,29.7803,29.455,30.0543,29.9975,29.9681,29.31,29.31,29.9312,29.6872,30.0014,30.0014,29.9205,29.7322,30.0162,30.5283,30.1829,30.0706,30.0329,29.122,30.5706,29.3236,29.3705,29.8904,29.4971,29.3146,30.5365,30.4249,29.8075,29.38,30.8414,30.0067,30.5222,30.1168,28.9542,28.8869,29.7705,29.9515,29.455,29.4475,29.787,30.3539,28.4229,28.4302,28.5968,28.4722,29.6026,29.824,29.7305,29.1976,29.7168,29.5079,29.6848,30.3964,29.7808,29.6408,29.8598,29.0286,30.0483,29.5342,29.3122,28.9837,28.9923,30.2034,30.0161,30.0887,28.7826,29.4904,29.8371,29.9347,30.4823,29.78,29.0,30.8162,30.0162,30.5333,29.7955,29.8074,29.674,30.0064,29.4978,29.7011,29.6476,29.5504,29.9182,29.6744,29.9593,29.7835,29.3616,29.55,30.3053,30.0085,29.1675,29.7951,28.7821,29.3496,29.548,29.52,29.2651,30.2333,30.131,29.2505,29.4647,29.7525,29.7016,30.4373,29.1828,30.5482,29.7174,30.0174,30.5077,30.0018],\"locationmode\":\"USA-states\",\"lon\":[-106.1176,-106.5028,-106.4989,-94.3451,-93.5815,-93.7189,-95.7541,-100.9851,-94.0,-93.8974,-95.5018,-102.4722,-94.3602,-95.1032,-101.74,-94.457,-94.7808,-94.4871,-94.4081,-95.1045,-95.1955,-101.88,-94.8242,-101.903,-102.37,-98.2,-95.1059,-102.08,-101.78,-102.37,-93.8476,-94.0548,-93.8132,-93.9304,-94.7933,-94.4259,-94.8323,-93.933,-93.9741,-94.0271,-93.7339,-93.9353,-94.5894,-101.66,-95.4932,-95.419,-94.2457,-93.9747,-93.9771,-101.53,-101.79,-102.55,-96.5036,-100.8,-100.8,-100.29,-95.1826,-95.1262,-94.6413,-101.7375,-100.28,-101.69,-99.52,-95.4108,-94.3799,-93.7364,-96.2825,-96.8473,-96.8628,-97.0846,-102.44,-102.14,-102.27,-95.097,-94.1123,-96.6036,-96.7553,-96.4403,-96.4401,-96.2909,-96.9495,-95.0995,-101.82,-101.57,-100.6,-94.363,-93.587,-95.2855,-99.73,-99.86,-99.87,-95.8482,-95.4671,-97.551,-97.1583,-97.7639,-94.79,-94.79,-97.7553,-97.2184,-96.9997,-97.6341,-96.7552,-97.6204,-97.1494,-97.588,-97.3162,-96.7008,-97.4731,-97.2928,-97.7807,-95.8049,-95.4494,-95.566,-94.5058,-94.769,-95.1416,-95.5062,-95.809,-94.8669,-95.3449,-95.6779,-95.3545,-95.8557,-96.7566,-96.8486,-96.0439,-97.549,-95.467,-95.4599,-95.852,-96.8829,-96.6696,-97.0491,-97.0093,-96.8596,-95.3778,-94.582,-95.1828,-95.906,-97.6649,-95.3462,-97.6125,-96.0593,-96.3807,-95.9491,-94.4179,-95.5962,-94.7626,-95.5618,-94.77,-95.4854,-96.0353,-96.6495,-95.4226,-95.9079,-96.3171,-95.1313,-94.8477,-95.1704,-96.3165,-95.8466,-95.32,-95.6734,-95.4176,-95.7713,-94.7145,-94.9136,-95.5893,-97.1435,-95.538,-95.7613,-95.5503,-95.11,-95.696,-95.8715,-95.6748,-94.5799,-96.2591,-96.09,-94.9921,-97.1676,-95.4709,-94.6283,-95.6587,-95.3458,-96.0934,-95.0,-96.3364,-95.739,-95.4135,-95.4221,-95.454,-95.4228,-95.7977,-95.6909,-95.5959,-94.7543,-95.4164,-95.4331,-95.397,-97.1622],\"marker\":{\"color\":\"#E58606\",\"line\":{\"color\":\"rgb(40,40,40)\",\"width\":0.2},\"size\":[3.0,3.0,3.0,4.507131858905749,3.2135103466783144,3.113034889417931,3.0,3.000025118864315,3.0000125594321574,3.0,3.0,3.000020095091452,10.535659294528747,3.0,3.0,3.0,3.0,3.0,3.0,3.0,3.0,3.0000012559432157,3.0,3.0,3.0001054992301235,3.0,3.0,3.0,3.0,3.0,3.0,3.0,3.0,3.0,3.0,3.0,3.0,3.0,3.0,3.0,3.0,3.0,3.0,3.0,3.0,3.0,3.0,3.0,3.0,3.0,3.0,3.0,3.0,3.0,3.0,3.0,3.0,3.0,3.0,3.0,3.0,3.0,3.0,3.0,3.0,3.0,3.0,3.0,3.0,3.0,3.0,3.0,3.0,3.0,3.0,3.0,3.0,3.0,3.0,3.0001255943215757,3.150713185890575,3.0,3.0,3.0,3.0,3.0,3.0,3.0,3.0,3.0,3.0,3.0,3.0,3.0,3.0,3.0,3.0,3.0,3.0,3.037678296472644,3.0,3.0,3.0,3.0,3.0,3.0,3.0,3.0,3.0,3.0,3.0,3.0,3.0,3.0,3.0000175832050204,3.0000125594321574,3.0,3.0,3.0,3.0,3.0,3.0,3.0,3.0,3.0,3.0,3.0,3.0005023772863018,3.0,3.0,3.0,3.0,3.0,3.0,3.0,3.0,3.0,3.0,3.0000376782964726,3.0,3.0,3.0,3.0,3.0,3.0,3.0,6.7678296472643735,3.150713185890575,3.0,3.0,3.0,3.0,3.0005023772863018,3.001255943215755,3.0,3.0,3.000251188643151,3.0,3.0,3.0,3.0,3.0,3.0,3.0,3.0,3.0,3.0,3.0037678296472645,3.125594321575479,3.0,3.0075356592945286,3.0,8.023772863019165,3.0,3.0,3.0,3.0000025118864313,3.7535659294528747,3.0,23.09509145207666,28.118864315095824,4.507131858905749,3.0,3.879160251028354,20.583205020567075,3.000251188643151,3.000251188643151,3.000251188643151,3.032277740644898,3.001255943215755,3.001255943215755,3.001255943215755,3.0006279716078774,3.000025118864315,3.0,3.050237728630192,3.0025118864315097,28.118864315095824,3.0,3.0,3.0,3.0,3.0,3.0,3.0,3.0,3.0,3.0,3.0,3.0,3.0,3.0000012559432157,3.000075356592945,3.0,3.0,3.0,3.0,3.0,3.0,3.0,3.000251188643151,3.0,3.0020095091452075,3.0,3.0,3.0,3.0,3.0,3.0,3.0,3.0,3.001255943215755,3.000075356592945,3.0050237728630194,3.0001255943215757,3.001255943215755,3.0,3.000075356592945,3.0,3.0,3.0001255943215757,3.0,3.0,3.0,3.0,3.001255943215755,3.0001255943215757,3.000753565929453,3.0005023772863018,3.0,3.0,3.0,3.000251188643151,3.0,3.0,3.0,3.0,3.000251188643151,3.0,3.0001255943215757,3.0,3.0,3.0],\"sizemode\":\"diameter\"},\"name\":\"TEXAS\",\"text\":[\"TEXAS<br>Property Cost 0.0\",\"TEXAS<br>Property Cost 0.0\",\"TEXAS<br>Property Cost 0.0\",\"TEXAS<br>Property Cost 600000000.0\",\"TEXAS<br>Property Cost 85000000.0\",\"TEXAS<br>Property Cost 45000000.0\",\"TEXAS<br>Property Cost 0.0\",\"TEXAS<br>Property Cost 10000.0\",\"TEXAS<br>Property Cost 5000.0\",\"TEXAS<br>Property Cost 0.0\",\"TEXAS<br>Property Cost 0.0\",\"TEXAS<br>Property Cost 8000.0\",\"TEXAS<br>Property Cost 3000000000.0\",\"TEXAS<br>Property Cost 0.0\",\"TEXAS<br>Property Cost 0.0\",\"TEXAS<br>Property Cost 0.0\",\"TEXAS<br>Property Cost 0.0\",\"TEXAS<br>Property Cost 0.0\",\"TEXAS<br>Property Cost 0.0\",\"TEXAS<br>Property Cost 0.0\",\"TEXAS<br>Property Cost 0.0\",\"TEXAS<br>Property Cost 500.0\",\"TEXAS<br>Property Cost 0.0\",\"TEXAS<br>Property Cost 0.0\",\"TEXAS<br>Property Cost 42000.0\",\"TEXAS<br>Property Cost 0.0\",\"TEXAS<br>Property Cost 0.0\",\"TEXAS<br>Property Cost 0.0\",\"TEXAS<br>Property Cost 0.0\",\"TEXAS<br>Property Cost 0.0\",\"TEXAS<br>Property Cost 0.0\",\"TEXAS<br>Property Cost 0.0\",\"TEXAS<br>Property Cost 0.0\",\"TEXAS<br>Property Cost 0.0\",\"TEXAS<br>Property Cost 0.0\",\"TEXAS<br>Property Cost 0.0\",\"TEXAS<br>Property Cost 0.0\",\"TEXAS<br>Property Cost 0.0\",\"TEXAS<br>Property Cost 0.0\",\"TEXAS<br>Property Cost 0.0\",\"TEXAS<br>Property Cost 0.0\",\"TEXAS<br>Property Cost 0.0\",\"TEXAS<br>Property Cost 0.0\",\"TEXAS<br>Property Cost 0.0\",\"TEXAS<br>Property Cost 0.0\",\"TEXAS<br>Property Cost 0.0\",\"TEXAS<br>Property Cost 0.0\",\"TEXAS<br>Property Cost 0.0\",\"TEXAS<br>Property Cost 0.0\",\"TEXAS<br>Property Cost 0.0\",\"TEXAS<br>Property Cost 0.0\",\"TEXAS<br>Property Cost 0.0\",\"TEXAS<br>Property Cost 0.0\",\"TEXAS<br>Property Cost 0.0\",\"TEXAS<br>Property Cost 0.0\",\"TEXAS<br>Property Cost 0.0\",\"TEXAS<br>Property Cost 0.0\",\"TEXAS<br>Property Cost 0.0\",\"TEXAS<br>Property Cost 0.0\",\"TEXAS<br>Property Cost 0.0\",\"TEXAS<br>Property Cost 0.0\",\"TEXAS<br>Property Cost 0.0\",\"TEXAS<br>Property Cost 0.0\",\"TEXAS<br>Property Cost 0.0\",\"TEXAS<br>Property Cost 0.0\",\"TEXAS<br>Property Cost 0.0\",\"TEXAS<br>Property Cost 0.0\",\"TEXAS<br>Property Cost 0.0\",\"TEXAS<br>Property Cost 0.0\",\"TEXAS<br>Property Cost 0.0\",\"TEXAS<br>Property Cost 0.0\",\"TEXAS<br>Property Cost 0.0\",\"TEXAS<br>Property Cost 0.0\",\"TEXAS<br>Property Cost 0.0\",\"TEXAS<br>Property Cost 0.0\",\"TEXAS<br>Property Cost 0.0\",\"TEXAS<br>Property Cost 0.0\",\"TEXAS<br>Property Cost 0.0\",\"TEXAS<br>Property Cost 0.0\",\"TEXAS<br>Property Cost 0.0\",\"TEXAS<br>Property Cost 0.0\",\"TEXAS<br>Property Cost 0.0\",\"TEXAS<br>Property Cost 0.0\",\"TEXAS<br>Property Cost 0.0\",\"TEXAS<br>Property Cost 0.0\",\"TEXAS<br>Property Cost 1500000000.0\",\"TEXAS<br>Property Cost 60000000.0\",\"TEXAS<br>Property Cost 0.0\",\"TEXAS<br>Property Cost 0.0\",\"TEXAS<br>Property Cost 0.0\",\"TEXAS<br>Property Cost 0.0\",\"TEXAS<br>Property Cost 200000.0\",\"TEXAS<br>Property Cost 500000.0\",\"TEXAS<br>Property Cost 0.0\",\"TEXAS<br>Property Cost 0.0\",\"TEXAS<br>Property Cost 100000.0\",\"TEXAS<br>Property Cost 0.0\",\"TEXAS<br>Property Cost 0.0\",\"TEXAS<br>Property Cost 0.0\",\"TEXAS<br>Property Cost 0.0\",\"TEXAS<br>Property Cost 0.0\",\"TEXAS<br>Property Cost 0.0\",\"TEXAS<br>Property Cost 0.0\",\"TEXAS<br>Property Cost 0.0\",\"TEXAS<br>Property Cost 0.0\",\"TEXAS<br>Property Cost 0.0\",\"TEXAS<br>Property Cost 1500000.0\",\"TEXAS<br>Property Cost 50000000.0\",\"TEXAS<br>Property Cost 0.0\",\"TEXAS<br>Property Cost 3000000.0\",\"TEXAS<br>Property Cost 0.0\",\"TEXAS<br>Property Cost 2000000000.0\",\"TEXAS<br>Property Cost 0.0\",\"TEXAS<br>Property Cost 0.0\",\"TEXAS<br>Property Cost 0.0\",\"TEXAS<br>Property Cost 1000.0\",\"TEXAS<br>Property Cost 300000000.0\",\"TEXAS<br>Property Cost 0.0\",\"TEXAS<br>Property Cost 8000000000.0\",\"TEXAS<br>Property Cost 10000000000.0\",\"TEXAS<br>Property Cost 600000000.0\",\"TEXAS<br>Property Cost 0.0\",\"TEXAS<br>Property Cost 350000000.0\",\"TEXAS<br>Property Cost 7000000000.0\",\"TEXAS<br>Property Cost 100000.0\",\"TEXAS<br>Property Cost 100000.0\",\"TEXAS<br>Property Cost 100000.0\",\"TEXAS<br>Property Cost 12850000.0\",\"TEXAS<br>Property Cost 500000.0\",\"TEXAS<br>Property Cost 500000.0\",\"TEXAS<br>Property Cost 500000.0\",\"TEXAS<br>Property Cost 250000.0\",\"TEXAS<br>Property Cost 10000.0\",\"TEXAS<br>Property Cost 0.0\",\"TEXAS<br>Property Cost 20000000.0\",\"TEXAS<br>Property Cost 1000000.0\",\"TEXAS<br>Property Cost 10000000000.0\",\"TEXAS<br>Property Cost 0.0\",\"TEXAS<br>Property Cost 0.0\",\"TEXAS<br>Property Cost 0.0\",\"TEXAS<br>Property Cost 0.0\",\"TEXAS<br>Property Cost 0.0\",\"TEXAS<br>Property Cost 0.0\",\"TEXAS<br>Property Cost 0.0\",\"TEXAS<br>Property Cost 0.0\",\"TEXAS<br>Property Cost 0.0\",\"TEXAS<br>Property Cost 0.0\",\"TEXAS<br>Property Cost 0.0\",\"TEXAS<br>Property Cost 0.0\",\"TEXAS<br>Property Cost 0.0\",\"TEXAS<br>Property Cost 500.0\",\"TEXAS<br>Property Cost 30000.0\",\"TEXAS<br>Property Cost 0.0\",\"TEXAS<br>Property Cost 0.0\",\"TEXAS<br>Property Cost 0.0\",\"TEXAS<br>Property Cost 0.0\",\"TEXAS<br>Property Cost 0.0\",\"TEXAS<br>Property Cost 0.0\",\"TEXAS<br>Property Cost 0.0\",\"TEXAS<br>Property Cost 100000.0\",\"TEXAS<br>Property Cost 0.0\",\"TEXAS<br>Property Cost 800000.0\",\"TEXAS<br>Property Cost 0.0\",\"TEXAS<br>Property Cost 0.0\",\"TEXAS<br>Property Cost 0.0\",\"TEXAS<br>Property Cost 0.0\",\"TEXAS<br>Property Cost 0.0\",\"TEXAS<br>Property Cost 0.0\",\"TEXAS<br>Property Cost 0.0\",\"TEXAS<br>Property Cost 0.0\",\"TEXAS<br>Property Cost 500000.0\",\"TEXAS<br>Property Cost 30000.0\",\"TEXAS<br>Property Cost 2000000.0\",\"TEXAS<br>Property Cost 50000.0\",\"TEXAS<br>Property Cost 500000.0\",\"TEXAS<br>Property Cost 0.0\",\"TEXAS<br>Property Cost 30000.0\",\"TEXAS<br>Property Cost 0.0\",\"TEXAS<br>Property Cost 0.0\",\"TEXAS<br>Property Cost 50000.0\",\"TEXAS<br>Property Cost 0.0\",\"TEXAS<br>Property Cost 0.0\",\"TEXAS<br>Property Cost 0.0\",\"TEXAS<br>Property Cost 0.0\",\"TEXAS<br>Property Cost 500000.0\",\"TEXAS<br>Property Cost 50000.0\",\"TEXAS<br>Property Cost 300000.0\",\"TEXAS<br>Property Cost 200000.0\",\"TEXAS<br>Property Cost 0.0\",\"TEXAS<br>Property Cost 0.0\",\"TEXAS<br>Property Cost 0.0\",\"TEXAS<br>Property Cost 100000.0\",\"TEXAS<br>Property Cost 0.0\",\"TEXAS<br>Property Cost 0.0\",\"TEXAS<br>Property Cost 0.0\",\"TEXAS<br>Property Cost 0.0\",\"TEXAS<br>Property Cost 100000.0\",\"TEXAS<br>Property Cost 0.0\",\"TEXAS<br>Property Cost 50000.0\",\"TEXAS<br>Property Cost 0.0\",\"TEXAS<br>Property Cost 0.0\",\"TEXAS<br>Property Cost 0.0\"],\"type\":\"scattergeo\"},{\"lat\":[31.5911,31.4256,31.4449,32.0413,31.5571,31.9466,31.5033,31.7767,31.7854,31.583,31.5975,31.9448,31.7165,31.7836,31.7519,31.9424,31.9747,31.8031,31.4651,29.9502,30.9307,30.9284,31.603,31.445,31.7439,31.9943,32.109,31.9609,31.9413,32.1002,32.002,31.9689,31.9528,32.1261,32.009,30.9001,32.0837,32.1171,31.889,31.9976,32.1385,31.7122,31.7854,31.9627,31.8954,32.0902,31.6129,31.5449,29.9814,29.9924,29.9719,31.5729,32.1816,32.0451,29.666,29.9602,30.1617,30.2506,29.7671,29.958,30.0555],\"locationmode\":\"USA-states\",\"lon\":[-93.4655,-93.3627,-93.4722,-93.2204,-93.4838,-93.2644,-93.4199,-93.0576,-93.1219,-93.4823,-93.456,-93.054,-93.2643,-93.7071,-93.2711,-93.133,-93.7296,-93.5282,-93.69,-90.3986,-93.5321,-93.5239,-93.4746,-93.4716,-93.5096,-93.0595,-93.1327,-92.6838,-93.4499,-93.0988,-93.1902,-92.6851,-92.7912,-92.8458,-92.7638,-93.5486,-93.1775,-93.355,-93.1075,-93.0357,-93.1929,-93.2121,-93.3766,-93.0315,-93.1338,-93.1565,-93.0952,-92.9977,-93.3733,-92.0414,-91.7538,-92.9934,-93.2284,-93.3066,-90.5734,-92.4102,-92.1812,-92.6026,-93.7126,-92.0366,-90.835],\"marker\":{\"color\":\"#5D69B1\",\"line\":{\"color\":\"rgb(40,40,40)\",\"width\":0.2},\"size\":[3.0,3.0,3.0,4.507131858905749,3.2135103466783144,3.113034889417931,3.0,3.000025118864315,3.0000125594321574,3.0,3.0,3.000020095091452,10.535659294528747,3.0,3.0,3.0,3.0,3.0,3.0,3.0,3.0,3.0000012559432157,3.0,3.0,3.0001054992301235,3.0,3.0,3.0,3.0,3.0,3.0,3.0,3.0,3.0,3.0,3.0,3.0,3.0,3.0,3.0,3.0,3.0,3.0,3.0,3.0,3.0,3.0,3.0,3.0,3.0,3.0,3.0,3.0,3.0,3.0,3.0,3.0,3.0,3.0,3.0,3.0,3.0,3.0,3.0,3.0,3.0,3.0,3.0,3.0,3.0,3.0,3.0,3.0,3.0,3.0,3.0,3.0,3.0,3.0,3.0001255943215757,3.150713185890575,3.0,3.0,3.0,3.0,3.0,3.0,3.0,3.0,3.0,3.0,3.0,3.0,3.0,3.0,3.0,3.0,3.0,3.0,3.037678296472644,3.0,3.0,3.0,3.0,3.0,3.0,3.0,3.0,3.0,3.0,3.0,3.0,3.0,3.0,3.0000175832050204,3.0000125594321574,3.0,3.0,3.0,3.0,3.0,3.0,3.0,3.0,3.0,3.0,3.0,3.0005023772863018,3.0,3.0,3.0,3.0,3.0,3.0,3.0,3.0,3.0,3.0,3.0000376782964726,3.0,3.0,3.0,3.0,3.0,3.0,3.0,6.7678296472643735,3.150713185890575,3.0,3.0,3.0,3.0,3.0005023772863018,3.001255943215755,3.0,3.0,3.000251188643151,3.0,3.0,3.0,3.0,3.0,3.0,3.0,3.0,3.0,3.0,3.0037678296472645,3.125594321575479,3.0,3.0075356592945286,3.0,8.023772863019165,3.0,3.0,3.0,3.0000025118864313,3.7535659294528747,3.0,23.09509145207666,28.118864315095824,4.507131858905749,3.0,3.879160251028354,20.583205020567075,3.000251188643151,3.000251188643151,3.000251188643151,3.032277740644898,3.001255943215755,3.001255943215755,3.001255943215755,3.0006279716078774,3.000025118864315,3.0,3.050237728630192,3.0025118864315097,28.118864315095824,3.0,3.0,3.0,3.0,3.0,3.0,3.0,3.0,3.0,3.0,3.0,3.0,3.0,3.0000012559432157,3.000075356592945,3.0,3.0,3.0,3.0,3.0,3.0,3.0,3.000251188643151,3.0,3.0020095091452075,3.0,3.0,3.0,3.0,3.0,3.0,3.0,3.0,3.001255943215755,3.000075356592945,3.0050237728630194,3.0001255943215757,3.001255943215755,3.0,3.000075356592945,3.0,3.0,3.0001255943215757,3.0,3.0,3.0,3.0,3.001255943215755,3.0001255943215757,3.000753565929453,3.0005023772863018,3.0,3.0,3.0,3.000251188643151,3.0,3.0,3.0,3.0,3.000251188643151,3.0,3.0001255943215757,3.0,3.0,3.0],\"sizemode\":\"diameter\"},\"name\":\"LOUISIANA\",\"text\":[\"LOUISIANA<br>Property Cost 0.0\",\"LOUISIANA<br>Property Cost 0.0\",\"LOUISIANA<br>Property Cost 0.0\",\"LOUISIANA<br>Property Cost 0.0\",\"LOUISIANA<br>Property Cost 0.0\",\"LOUISIANA<br>Property Cost 0.0\",\"LOUISIANA<br>Property Cost 0.0\",\"LOUISIANA<br>Property Cost 0.0\",\"LOUISIANA<br>Property Cost 0.0\",\"LOUISIANA<br>Property Cost 0.0\",\"LOUISIANA<br>Property Cost 0.0\",\"LOUISIANA<br>Property Cost 0.0\",\"LOUISIANA<br>Property Cost 0.0\",\"LOUISIANA<br>Property Cost 0.0\",\"LOUISIANA<br>Property Cost 0.0\",\"LOUISIANA<br>Property Cost 0.0\",\"LOUISIANA<br>Property Cost 0.0\",\"LOUISIANA<br>Property Cost 0.0\",\"LOUISIANA<br>Property Cost 0.0\",\"LOUISIANA<br>Property Cost 0.0\",\"LOUISIANA<br>Property Cost 50000.0\",\"LOUISIANA<br>Property Cost 60000000.0\",\"LOUISIANA<br>Property Cost 0.0\",\"LOUISIANA<br>Property Cost 0.0\",\"LOUISIANA<br>Property Cost 0.0\",\"LOUISIANA<br>Property Cost 0.0\",\"LOUISIANA<br>Property Cost 0.0\",\"LOUISIANA<br>Property Cost 0.0\",\"LOUISIANA<br>Property Cost 0.0\",\"LOUISIANA<br>Property Cost 0.0\",\"LOUISIANA<br>Property Cost 0.0\",\"LOUISIANA<br>Property Cost 0.0\",\"LOUISIANA<br>Property Cost 0.0\",\"LOUISIANA<br>Property Cost 0.0\",\"LOUISIANA<br>Property Cost 0.0\",\"LOUISIANA<br>Property Cost 15000000.0\",\"LOUISIANA<br>Property Cost 0.0\",\"LOUISIANA<br>Property Cost 0.0\",\"LOUISIANA<br>Property Cost 0.0\",\"LOUISIANA<br>Property Cost 0.0\",\"LOUISIANA<br>Property Cost 0.0\",\"LOUISIANA<br>Property Cost 0.0\",\"LOUISIANA<br>Property Cost 0.0\",\"LOUISIANA<br>Property Cost 0.0\",\"LOUISIANA<br>Property Cost 0.0\",\"LOUISIANA<br>Property Cost 0.0\",\"LOUISIANA<br>Property Cost 0.0\",\"LOUISIANA<br>Property Cost 0.0\",\"LOUISIANA<br>Property Cost 7000.0\",\"LOUISIANA<br>Property Cost 5000.0\",\"LOUISIANA<br>Property Cost 0.0\",\"LOUISIANA<br>Property Cost 0.0\",\"LOUISIANA<br>Property Cost 0.0\",\"LOUISIANA<br>Property Cost 0.0\",\"LOUISIANA<br>Property Cost 0.0\",\"LOUISIANA<br>Property Cost 0.0\",\"LOUISIANA<br>Property Cost 0.0\",\"LOUISIANA<br>Property Cost 200000.0\",\"LOUISIANA<br>Property Cost 15000.0\",\"LOUISIANA<br>Property Cost 0.0\",\"LOUISIANA<br>Property Cost 0.0\"],\"type\":\"scattergeo\"}],                        {\"template\":{\"data\":{\"histogram2dcontour\":[{\"type\":\"histogram2dcontour\",\"colorbar\":{\"outlinewidth\":0,\"ticks\":\"\"},\"colorscale\":[[0.0,\"#0d0887\"],[0.1111111111111111,\"#46039f\"],[0.2222222222222222,\"#7201a8\"],[0.3333333333333333,\"#9c179e\"],[0.4444444444444444,\"#bd3786\"],[0.5555555555555556,\"#d8576b\"],[0.6666666666666666,\"#ed7953\"],[0.7777777777777778,\"#fb9f3a\"],[0.8888888888888888,\"#fdca26\"],[1.0,\"#f0f921\"]]}],\"choropleth\":[{\"type\":\"choropleth\",\"colorbar\":{\"outlinewidth\":0,\"ticks\":\"\"}}],\"histogram2d\":[{\"type\":\"histogram2d\",\"colorbar\":{\"outlinewidth\":0,\"ticks\":\"\"},\"colorscale\":[[0.0,\"#0d0887\"],[0.1111111111111111,\"#46039f\"],[0.2222222222222222,\"#7201a8\"],[0.3333333333333333,\"#9c179e\"],[0.4444444444444444,\"#bd3786\"],[0.5555555555555556,\"#d8576b\"],[0.6666666666666666,\"#ed7953\"],[0.7777777777777778,\"#fb9f3a\"],[0.8888888888888888,\"#fdca26\"],[1.0,\"#f0f921\"]]}],\"heatmap\":[{\"type\":\"heatmap\",\"colorbar\":{\"outlinewidth\":0,\"ticks\":\"\"},\"colorscale\":[[0.0,\"#0d0887\"],[0.1111111111111111,\"#46039f\"],[0.2222222222222222,\"#7201a8\"],[0.3333333333333333,\"#9c179e\"],[0.4444444444444444,\"#bd3786\"],[0.5555555555555556,\"#d8576b\"],[0.6666666666666666,\"#ed7953\"],[0.7777777777777778,\"#fb9f3a\"],[0.8888888888888888,\"#fdca26\"],[1.0,\"#f0f921\"]]}],\"heatmapgl\":[{\"type\":\"heatmapgl\",\"colorbar\":{\"outlinewidth\":0,\"ticks\":\"\"},\"colorscale\":[[0.0,\"#0d0887\"],[0.1111111111111111,\"#46039f\"],[0.2222222222222222,\"#7201a8\"],[0.3333333333333333,\"#9c179e\"],[0.4444444444444444,\"#bd3786\"],[0.5555555555555556,\"#d8576b\"],[0.6666666666666666,\"#ed7953\"],[0.7777777777777778,\"#fb9f3a\"],[0.8888888888888888,\"#fdca26\"],[1.0,\"#f0f921\"]]}],\"contourcarpet\":[{\"type\":\"contourcarpet\",\"colorbar\":{\"outlinewidth\":0,\"ticks\":\"\"}}],\"contour\":[{\"type\":\"contour\",\"colorbar\":{\"outlinewidth\":0,\"ticks\":\"\"},\"colorscale\":[[0.0,\"#0d0887\"],[0.1111111111111111,\"#46039f\"],[0.2222222222222222,\"#7201a8\"],[0.3333333333333333,\"#9c179e\"],[0.4444444444444444,\"#bd3786\"],[0.5555555555555556,\"#d8576b\"],[0.6666666666666666,\"#ed7953\"],[0.7777777777777778,\"#fb9f3a\"],[0.8888888888888888,\"#fdca26\"],[1.0,\"#f0f921\"]]}],\"surface\":[{\"type\":\"surface\",\"colorbar\":{\"outlinewidth\":0,\"ticks\":\"\"},\"colorscale\":[[0.0,\"#0d0887\"],[0.1111111111111111,\"#46039f\"],[0.2222222222222222,\"#7201a8\"],[0.3333333333333333,\"#9c179e\"],[0.4444444444444444,\"#bd3786\"],[0.5555555555555556,\"#d8576b\"],[0.6666666666666666,\"#ed7953\"],[0.7777777777777778,\"#fb9f3a\"],[0.8888888888888888,\"#fdca26\"],[1.0,\"#f0f921\"]]}],\"mesh3d\":[{\"type\":\"mesh3d\",\"colorbar\":{\"outlinewidth\":0,\"ticks\":\"\"}}],\"scatter\":[{\"fillpattern\":{\"fillmode\":\"overlay\",\"size\":10,\"solidity\":0.2},\"type\":\"scatter\"}],\"parcoords\":[{\"type\":\"parcoords\",\"line\":{\"colorbar\":{\"outlinewidth\":0,\"ticks\":\"\"}}}],\"scatterpolargl\":[{\"type\":\"scatterpolargl\",\"marker\":{\"colorbar\":{\"outlinewidth\":0,\"ticks\":\"\"}}}],\"bar\":[{\"error_x\":{\"color\":\"#2a3f5f\"},\"error_y\":{\"color\":\"#2a3f5f\"},\"marker\":{\"line\":{\"color\":\"#E5ECF6\",\"width\":0.5},\"pattern\":{\"fillmode\":\"overlay\",\"size\":10,\"solidity\":0.2}},\"type\":\"bar\"}],\"scattergeo\":[{\"type\":\"scattergeo\",\"marker\":{\"colorbar\":{\"outlinewidth\":0,\"ticks\":\"\"}}}],\"scatterpolar\":[{\"type\":\"scatterpolar\",\"marker\":{\"colorbar\":{\"outlinewidth\":0,\"ticks\":\"\"}}}],\"histogram\":[{\"marker\":{\"pattern\":{\"fillmode\":\"overlay\",\"size\":10,\"solidity\":0.2}},\"type\":\"histogram\"}],\"scattergl\":[{\"type\":\"scattergl\",\"marker\":{\"colorbar\":{\"outlinewidth\":0,\"ticks\":\"\"}}}],\"scatter3d\":[{\"type\":\"scatter3d\",\"line\":{\"colorbar\":{\"outlinewidth\":0,\"ticks\":\"\"}},\"marker\":{\"colorbar\":{\"outlinewidth\":0,\"ticks\":\"\"}}}],\"scattermapbox\":[{\"type\":\"scattermapbox\",\"marker\":{\"colorbar\":{\"outlinewidth\":0,\"ticks\":\"\"}}}],\"scatterternary\":[{\"type\":\"scatterternary\",\"marker\":{\"colorbar\":{\"outlinewidth\":0,\"ticks\":\"\"}}}],\"scattercarpet\":[{\"type\":\"scattercarpet\",\"marker\":{\"colorbar\":{\"outlinewidth\":0,\"ticks\":\"\"}}}],\"carpet\":[{\"aaxis\":{\"endlinecolor\":\"#2a3f5f\",\"gridcolor\":\"white\",\"linecolor\":\"white\",\"minorgridcolor\":\"white\",\"startlinecolor\":\"#2a3f5f\"},\"baxis\":{\"endlinecolor\":\"#2a3f5f\",\"gridcolor\":\"white\",\"linecolor\":\"white\",\"minorgridcolor\":\"white\",\"startlinecolor\":\"#2a3f5f\"},\"type\":\"carpet\"}],\"table\":[{\"cells\":{\"fill\":{\"color\":\"#EBF0F8\"},\"line\":{\"color\":\"white\"}},\"header\":{\"fill\":{\"color\":\"#C8D4E3\"},\"line\":{\"color\":\"white\"}},\"type\":\"table\"}],\"barpolar\":[{\"marker\":{\"line\":{\"color\":\"#E5ECF6\",\"width\":0.5},\"pattern\":{\"fillmode\":\"overlay\",\"size\":10,\"solidity\":0.2}},\"type\":\"barpolar\"}],\"pie\":[{\"automargin\":true,\"type\":\"pie\"}]},\"layout\":{\"autotypenumbers\":\"strict\",\"colorway\":[\"#636efa\",\"#EF553B\",\"#00cc96\",\"#ab63fa\",\"#FFA15A\",\"#19d3f3\",\"#FF6692\",\"#B6E880\",\"#FF97FF\",\"#FECB52\"],\"font\":{\"color\":\"#2a3f5f\"},\"hovermode\":\"closest\",\"hoverlabel\":{\"align\":\"left\"},\"paper_bgcolor\":\"white\",\"plot_bgcolor\":\"#E5ECF6\",\"polar\":{\"bgcolor\":\"#E5ECF6\",\"angularaxis\":{\"gridcolor\":\"white\",\"linecolor\":\"white\",\"ticks\":\"\"},\"radialaxis\":{\"gridcolor\":\"white\",\"linecolor\":\"white\",\"ticks\":\"\"}},\"ternary\":{\"bgcolor\":\"#E5ECF6\",\"aaxis\":{\"gridcolor\":\"white\",\"linecolor\":\"white\",\"ticks\":\"\"},\"baxis\":{\"gridcolor\":\"white\",\"linecolor\":\"white\",\"ticks\":\"\"},\"caxis\":{\"gridcolor\":\"white\",\"linecolor\":\"white\",\"ticks\":\"\"}},\"coloraxis\":{\"colorbar\":{\"outlinewidth\":0,\"ticks\":\"\"}},\"colorscale\":{\"sequential\":[[0.0,\"#0d0887\"],[0.1111111111111111,\"#46039f\"],[0.2222222222222222,\"#7201a8\"],[0.3333333333333333,\"#9c179e\"],[0.4444444444444444,\"#bd3786\"],[0.5555555555555556,\"#d8576b\"],[0.6666666666666666,\"#ed7953\"],[0.7777777777777778,\"#fb9f3a\"],[0.8888888888888888,\"#fdca26\"],[1.0,\"#f0f921\"]],\"sequentialminus\":[[0.0,\"#0d0887\"],[0.1111111111111111,\"#46039f\"],[0.2222222222222222,\"#7201a8\"],[0.3333333333333333,\"#9c179e\"],[0.4444444444444444,\"#bd3786\"],[0.5555555555555556,\"#d8576b\"],[0.6666666666666666,\"#ed7953\"],[0.7777777777777778,\"#fb9f3a\"],[0.8888888888888888,\"#fdca26\"],[1.0,\"#f0f921\"]],\"diverging\":[[0,\"#8e0152\"],[0.1,\"#c51b7d\"],[0.2,\"#de77ae\"],[0.3,\"#f1b6da\"],[0.4,\"#fde0ef\"],[0.5,\"#f7f7f7\"],[0.6,\"#e6f5d0\"],[0.7,\"#b8e186\"],[0.8,\"#7fbc41\"],[0.9,\"#4d9221\"],[1,\"#276419\"]]},\"xaxis\":{\"gridcolor\":\"white\",\"linecolor\":\"white\",\"ticks\":\"\",\"title\":{\"standoff\":15},\"zerolinecolor\":\"white\",\"automargin\":true,\"zerolinewidth\":2},\"yaxis\":{\"gridcolor\":\"white\",\"linecolor\":\"white\",\"ticks\":\"\",\"title\":{\"standoff\":15},\"zerolinecolor\":\"white\",\"automargin\":true,\"zerolinewidth\":2},\"scene\":{\"xaxis\":{\"backgroundcolor\":\"#E5ECF6\",\"gridcolor\":\"white\",\"linecolor\":\"white\",\"showbackground\":true,\"ticks\":\"\",\"zerolinecolor\":\"white\",\"gridwidth\":2},\"yaxis\":{\"backgroundcolor\":\"#E5ECF6\",\"gridcolor\":\"white\",\"linecolor\":\"white\",\"showbackground\":true,\"ticks\":\"\",\"zerolinecolor\":\"white\",\"gridwidth\":2},\"zaxis\":{\"backgroundcolor\":\"#E5ECF6\",\"gridcolor\":\"white\",\"linecolor\":\"white\",\"showbackground\":true,\"ticks\":\"\",\"zerolinecolor\":\"white\",\"gridwidth\":2}},\"shapedefaults\":{\"line\":{\"color\":\"#2a3f5f\"}},\"annotationdefaults\":{\"arrowcolor\":\"#2a3f5f\",\"arrowhead\":0,\"arrowwidth\":1},\"geo\":{\"bgcolor\":\"white\",\"landcolor\":\"#E5ECF6\",\"subunitcolor\":\"white\",\"showland\":true,\"showlakes\":true,\"lakecolor\":\"white\"},\"title\":{\"x\":0.05},\"mapbox\":{\"style\":\"light\"}}},\"geo\":{\"projection\":{\"type\":\"albers usa\"},\"scope\":\"usa\",\"landcolor\":\"rgb(250,250,250)\",\"subunitcolor\":\"rgb(200, 200, 200)\",\"countrycolor\":\"rgb(217, 217, 217)\",\"countrywidth\":0.5,\"subunitwidth\":0.5},\"showlegend\":true,\"title\":{\"text\":\"Events Ended at These Locations<br>(Hover for details)\"}},                        {\"responsive\": true}                    ).then(function(){\n",
       "                            \n",
       "var gd = document.getElementById('984333af-7a29-4263-856b-bdfe547f12a5');\n",
       "var x = new MutationObserver(function (mutations, observer) {{\n",
       "        var display = window.getComputedStyle(gd).display;\n",
       "        if (!display || display === 'none') {{\n",
       "            console.log([gd, 'removed!']);\n",
       "            Plotly.purge(gd);\n",
       "            observer.disconnect();\n",
       "        }}\n",
       "}});\n",
       "\n",
       "// Listen for the removal of the full notebook cells\n",
       "var notebookContainer = gd.closest('#notebook-container');\n",
       "if (notebookContainer) {{\n",
       "    x.observe(notebookContainer, {childList: true});\n",
       "}}\n",
       "\n",
       "// Listen for the clearing of the current output cell\n",
       "var outputEl = gd.closest('.output');\n",
       "if (outputEl) {{\n",
       "    x.observe(outputEl, {childList: true});\n",
       "}}\n",
       "\n",
       "                        })                };                });            </script>        </div>"
      ]
     },
     "metadata": {},
     "output_type": "display_data"
    }
   ],
   "source": [
    "fig = go.Figure()\n",
    "\n",
    "for state in top_two:\n",
    "\n",
    "    st = end_df[(end_df['State']) == state]\n",
    "\n",
    "\n",
    "    fig.add_trace(go.Scattergeo(\n",
    "        locationmode= 'USA-states',\n",
    "        lon = st['End_Lon'],\n",
    "        lat = st['End_Lat'],\n",
    "        text = st['Text'],\n",
    "        marker=dict(    \n",
    "            size = end_df['Property_Cost']/(10**8.6)+3, #6,\n",
    "            color = colors[top_two.index(state)],\n",
    "            line_color = 'rgb(40,40,40)',\n",
    "            line_width = 0.2,\n",
    "            sizemode = 'diameter'),\n",
    "        name = state\n",
    "    ))\n",
    "\n",
    "fig.update_layout(\n",
    "showlegend = True,\n",
    "title = 'Events Ended at These Locations<br>(Hover for details)',\n",
    "geo = dict(scope = 'usa',\n",
    "projection_type='albers usa',\n",
    "landcolor = 'rgb(250,250,250)',\n",
    "subunitcolor = \"rgb(200, 200, 200)\",\n",
    "countrycolor = \"rgb(217, 217, 217)\",\n",
    "countrywidth = 0.5,\n",
    "subunitwidth = 0.5\n",
    ")   \n",
    ")\n",
    "\n",
    "fig.show()"
   ]
  },
  {
   "cell_type": "markdown",
   "metadata": {},
   "source": [
    "# Analysis"
   ]
  },
  {
   "cell_type": "markdown",
   "metadata": {},
   "source": [
    "## Three Counties with Most Events in Texas\n",
    "Below are given the top 3 Counties in Texas which encountered the most number of events during Harvey."
   ]
  },
  {
   "cell_type": "code",
   "execution_count": 245,
   "metadata": {},
   "outputs": [
    {
     "data": {
      "text/html": [
       "<div>\n",
       "<style scoped>\n",
       "    .dataframe tbody tr th:only-of-type {\n",
       "        vertical-align: middle;\n",
       "    }\n",
       "\n",
       "    .dataframe tbody tr th {\n",
       "        vertical-align: top;\n",
       "    }\n",
       "\n",
       "    .dataframe thead th {\n",
       "        text-align: right;\n",
       "    }\n",
       "</style>\n",
       "<table border=\"1\" class=\"dataframe\">\n",
       "  <thead>\n",
       "    <tr style=\"text-align: right;\">\n",
       "      <th></th>\n",
       "      <th>EpisodeID</th>\n",
       "      <th>Event_ID</th>\n",
       "      <th>State</th>\n",
       "      <th>Year</th>\n",
       "      <th>Month</th>\n",
       "      <th>Event_Type</th>\n",
       "      <th>CZ_Name</th>\n",
       "      <th>Begin_Date_Time</th>\n",
       "      <th>Timezone</th>\n",
       "      <th>End_Date_Time</th>\n",
       "      <th>...</th>\n",
       "      <th>Damage_Property</th>\n",
       "      <th>Property_Cost</th>\n",
       "      <th>Damage_Crops</th>\n",
       "      <th>Crop_Cost</th>\n",
       "      <th>Begin_Lat</th>\n",
       "      <th>Begin_Lon</th>\n",
       "      <th>End_Lat</th>\n",
       "      <th>End_Lon</th>\n",
       "      <th>Episode_Narrative</th>\n",
       "      <th>Event_Narrative</th>\n",
       "    </tr>\n",
       "  </thead>\n",
       "  <tbody>\n",
       "    <tr>\n",
       "      <th>33599</th>\n",
       "      <td>119753</td>\n",
       "      <td>723472</td>\n",
       "      <td>TEXAS</td>\n",
       "      <td>2017</td>\n",
       "      <td>August</td>\n",
       "      <td>Tropical Storm</td>\n",
       "      <td>MONTGOMERY</td>\n",
       "      <td>2017-08-25 12:00:00</td>\n",
       "      <td>CST-6</td>\n",
       "      <td>2017-08-30 00:00:00</td>\n",
       "      <td>...</td>\n",
       "      <td>7.00B</td>\n",
       "      <td>7.000000e+09</td>\n",
       "      <td>NaN</td>\n",
       "      <td>NaN</td>\n",
       "      <td>NaN</td>\n",
       "      <td>NaN</td>\n",
       "      <td>NaN</td>\n",
       "      <td>NaN</td>\n",
       "      <td>Harvey made landfall as a category 4 hurricane...</td>\n",
       "      <td>Tropical Storm Harvey brought heavy rains and ...</td>\n",
       "    </tr>\n",
       "    <tr>\n",
       "      <th>34851</th>\n",
       "      <td>119753</td>\n",
       "      <td>723473</td>\n",
       "      <td>TEXAS</td>\n",
       "      <td>2017</td>\n",
       "      <td>August</td>\n",
       "      <td>Tropical Storm</td>\n",
       "      <td>FORT BEND</td>\n",
       "      <td>2017-08-26 00:00:00</td>\n",
       "      <td>CST-6</td>\n",
       "      <td>2017-08-30 00:00:00</td>\n",
       "      <td>...</td>\n",
       "      <td>8.00B</td>\n",
       "      <td>8.000000e+09</td>\n",
       "      <td>NaN</td>\n",
       "      <td>NaN</td>\n",
       "      <td>NaN</td>\n",
       "      <td>NaN</td>\n",
       "      <td>NaN</td>\n",
       "      <td>NaN</td>\n",
       "      <td>Harvey made landfall as a category 4 hurricane...</td>\n",
       "      <td>Harvey made landfall as a category 4 hurricane...</td>\n",
       "    </tr>\n",
       "    <tr>\n",
       "      <th>35115</th>\n",
       "      <td>119753</td>\n",
       "      <td>723449</td>\n",
       "      <td>TEXAS</td>\n",
       "      <td>2017</td>\n",
       "      <td>August</td>\n",
       "      <td>Tropical Storm</td>\n",
       "      <td>GALVESTON</td>\n",
       "      <td>2017-08-25 12:00:00</td>\n",
       "      <td>CST-6</td>\n",
       "      <td>2017-08-30 00:00:00</td>\n",
       "      <td>...</td>\n",
       "      <td>10.00B</td>\n",
       "      <td>1.000000e+10</td>\n",
       "      <td>NaN</td>\n",
       "      <td>NaN</td>\n",
       "      <td>NaN</td>\n",
       "      <td>NaN</td>\n",
       "      <td>NaN</td>\n",
       "      <td>NaN</td>\n",
       "      <td>Harvey made landfall as a category 4 hurricane...</td>\n",
       "      <td>Galveston County experienced catastrophic floo...</td>\n",
       "    </tr>\n",
       "    <tr>\n",
       "      <th>35116</th>\n",
       "      <td>119753</td>\n",
       "      <td>723474</td>\n",
       "      <td>TEXAS</td>\n",
       "      <td>2017</td>\n",
       "      <td>August</td>\n",
       "      <td>Tropical Storm</td>\n",
       "      <td>SAN JACINTO</td>\n",
       "      <td>2017-08-25 12:00:00</td>\n",
       "      <td>CST-6</td>\n",
       "      <td>2017-08-30 00:00:00</td>\n",
       "      <td>...</td>\n",
       "      <td>350.00M</td>\n",
       "      <td>3.500000e+08</td>\n",
       "      <td>NaN</td>\n",
       "      <td>NaN</td>\n",
       "      <td>NaN</td>\n",
       "      <td>NaN</td>\n",
       "      <td>NaN</td>\n",
       "      <td>NaN</td>\n",
       "      <td>Harvey made landfall as a category 4 hurricane...</td>\n",
       "      <td>Slow moving Tropical Storm Harvey produced ver...</td>\n",
       "    </tr>\n",
       "    <tr>\n",
       "      <th>35580</th>\n",
       "      <td>119753</td>\n",
       "      <td>723475</td>\n",
       "      <td>TEXAS</td>\n",
       "      <td>2017</td>\n",
       "      <td>August</td>\n",
       "      <td>Tropical Storm</td>\n",
       "      <td>WALKER</td>\n",
       "      <td>2017-08-25 12:00:00</td>\n",
       "      <td>CST-6</td>\n",
       "      <td>2017-08-30 00:00:00</td>\n",
       "      <td>...</td>\n",
       "      <td>600.00M</td>\n",
       "      <td>6.000000e+08</td>\n",
       "      <td>NaN</td>\n",
       "      <td>NaN</td>\n",
       "      <td>NaN</td>\n",
       "      <td>NaN</td>\n",
       "      <td>NaN</td>\n",
       "      <td>NaN</td>\n",
       "      <td>Harvey made landfall as a category 4 hurricane...</td>\n",
       "      <td>Slow moving Tropical Storm Harvey produced tor...</td>\n",
       "    </tr>\n",
       "  </tbody>\n",
       "</table>\n",
       "<p>5 rows × 24 columns</p>\n",
       "</div>"
      ],
      "text/plain": [
       "       EpisodeID  Event_ID  State  Year   Month      Event_Type      CZ_Name  \\\n",
       "33599     119753    723472  TEXAS  2017  August  Tropical Storm   MONTGOMERY   \n",
       "34851     119753    723473  TEXAS  2017  August  Tropical Storm    FORT BEND   \n",
       "35115     119753    723449  TEXAS  2017  August  Tropical Storm    GALVESTON   \n",
       "35116     119753    723474  TEXAS  2017  August  Tropical Storm  SAN JACINTO   \n",
       "35580     119753    723475  TEXAS  2017  August  Tropical Storm       WALKER   \n",
       "\n",
       "           Begin_Date_Time Timezone        End_Date_Time  ...  \\\n",
       "33599  2017-08-25 12:00:00    CST-6  2017-08-30 00:00:00  ...   \n",
       "34851  2017-08-26 00:00:00    CST-6  2017-08-30 00:00:00  ...   \n",
       "35115  2017-08-25 12:00:00    CST-6  2017-08-30 00:00:00  ...   \n",
       "35116  2017-08-25 12:00:00    CST-6  2017-08-30 00:00:00  ...   \n",
       "35580  2017-08-25 12:00:00    CST-6  2017-08-30 00:00:00  ...   \n",
       "\n",
       "       Damage_Property  Property_Cost  Damage_Crops  Crop_Cost Begin_Lat  \\\n",
       "33599            7.00B   7.000000e+09           NaN        NaN       NaN   \n",
       "34851            8.00B   8.000000e+09           NaN        NaN       NaN   \n",
       "35115           10.00B   1.000000e+10           NaN        NaN       NaN   \n",
       "35116          350.00M   3.500000e+08           NaN        NaN       NaN   \n",
       "35580          600.00M   6.000000e+08           NaN        NaN       NaN   \n",
       "\n",
       "       Begin_Lon End_Lat  End_Lon  \\\n",
       "33599        NaN     NaN      NaN   \n",
       "34851        NaN     NaN      NaN   \n",
       "35115        NaN     NaN      NaN   \n",
       "35116        NaN     NaN      NaN   \n",
       "35580        NaN     NaN      NaN   \n",
       "\n",
       "                                       Episode_Narrative  \\\n",
       "33599  Harvey made landfall as a category 4 hurricane...   \n",
       "34851  Harvey made landfall as a category 4 hurricane...   \n",
       "35115  Harvey made landfall as a category 4 hurricane...   \n",
       "35116  Harvey made landfall as a category 4 hurricane...   \n",
       "35580  Harvey made landfall as a category 4 hurricane...   \n",
       "\n",
       "                                         Event_Narrative  \n",
       "33599  Tropical Storm Harvey brought heavy rains and ...  \n",
       "34851  Harvey made landfall as a category 4 hurricane...  \n",
       "35115  Galveston County experienced catastrophic floo...  \n",
       "35116  Slow moving Tropical Storm Harvey produced ver...  \n",
       "35580  Slow moving Tropical Storm Harvey produced tor...  \n",
       "\n",
       "[5 rows x 24 columns]"
      ]
     },
     "execution_count": 245,
     "metadata": {},
     "output_type": "execute_result"
    }
   ],
   "source": [
    "state_1 = harvey_top[harvey_top['State'] == 'TEXAS']\n",
    "state_1.head()"
   ]
  },
  {
   "cell_type": "code",
   "execution_count": 246,
   "metadata": {},
   "outputs": [
    {
     "data": {
      "text/plain": [
       "CZ_Name\n",
       "HARRIS       21\n",
       "GALVESTON    17\n",
       "FORT BEND    13\n",
       "dtype: int64"
      ]
     },
     "execution_count": 246,
     "metadata": {},
     "output_type": "execute_result"
    }
   ],
   "source": [
    "county_top = state_1.groupby('CZ_Name').size()\n",
    "county_top = county_top.sort_values(ascending= False)\n",
    "county_top = county_top[:3]\n",
    "county_top"
   ]
  },
  {
   "cell_type": "markdown",
   "metadata": {},
   "source": [
    "## Three Counties with Most Events in Louisiana\n",
    "Below are given the top 3 Counties in Louisiana which encountered the most number of events during Harvey."
   ]
  },
  {
   "cell_type": "code",
   "execution_count": 247,
   "metadata": {},
   "outputs": [
    {
     "data": {
      "text/plain": [
       "CZ_Name\n",
       "NATCHITOCHES    21\n",
       "SABINE          15\n",
       "RED RIVER        9\n",
       "dtype: int64"
      ]
     },
     "execution_count": 247,
     "metadata": {},
     "output_type": "execute_result"
    }
   ],
   "source": [
    "state_2 = harvey_top[harvey_top['State'] == 'LOUISIANA']\n",
    "county_top2 = state_2.groupby('CZ_Name').size()\n",
    "county_top2 = county_top2.sort_values(ascending= False)\n",
    "county_top2 = county_top2[:3]\n",
    "county_top2"
   ]
  },
  {
   "cell_type": "markdown",
   "metadata": {},
   "source": [
    "## Three Counties with Highest Property Cost in Texas\n",
    "The counties with most property cost in Texas are given below."
   ]
  },
  {
   "cell_type": "code",
   "execution_count": 248,
   "metadata": {},
   "outputs": [
    {
     "data": {
      "text/plain": [
       "CZ_Name\n",
       "GALVESTON     2.000020e+10\n",
       "FORT BEND     1.600433e+10\n",
       "MONTGOMERY    1.400000e+10\n",
       "Name: Property_Cost, dtype: float64"
      ]
     },
     "execution_count": 248,
     "metadata": {},
     "output_type": "execute_result"
    }
   ],
   "source": [
    "county1_property = state_1.groupby('CZ_Name')['Property_Cost'].agg('sum', 'count')\n",
    "county1_property = county1_property.sort_values(ascending=False )\n",
    "county1_property = county1_property[:3]\n",
    "county1_property"
   ]
  },
  {
   "cell_type": "markdown",
   "metadata": {},
   "source": [
    "## Three Counties with Highest Property Cost in Louisiana\n",
    "The counties with most property cost in Louisiana are given below.\n"
   ]
  },
  {
   "cell_type": "code",
   "execution_count": 249,
   "metadata": {},
   "outputs": [
    {
     "data": {
      "text/plain": [
       "CZ_Name\n",
       "CALCASIEU     60000000.0\n",
       "BEAUREGARD    15000000.0\n",
       "ACADIA          200000.0\n",
       "Name: Property_Cost, dtype: float64"
      ]
     },
     "execution_count": 249,
     "metadata": {},
     "output_type": "execute_result"
    }
   ],
   "source": [
    "county2_property = state_2.groupby('CZ_Name')['Property_Cost'].agg('sum', 'count')\n",
    "county2_property = county2_property.sort_values(ascending=False )\n",
    "county2_property = county2_property[:3]\n",
    "county2_property"
   ]
  },
  {
   "cell_type": "markdown",
   "metadata": {},
   "source": [
    "# Conclusions and Recommendations\n",
    "The Most Affected states were Texas and Louisiana and hence the company should focus on these states firstly to send people to. However, the property cost to the counties in Texas was relatively muh higher than that to the Louisiana and can be seen that the property cost of Calcasieu of Louisiana was lower than Montgomery of Texas, which means the company should be prioritising Texas over. We may also note that there may be other counties in Texas too which had higher damage than Calcasieu of Louisiana which the company should look into too. \n",
    "It is also clearly visible from the plots that the events did most damage at the coastal regions and the most affected areas are not much far from each other."
   ]
  }
 ],
 "metadata": {
  "kernelspec": {
   "display_name": "Python 3.10.4 64-bit",
   "language": "python",
   "name": "python3"
  },
  "language_info": {
   "codemirror_mode": {
    "name": "ipython",
    "version": 3
   },
   "file_extension": ".py",
   "mimetype": "text/x-python",
   "name": "python",
   "nbconvert_exporter": "python",
   "pygments_lexer": "ipython3",
   "version": "3.10.4"
  },
  "orig_nbformat": 4,
  "vscode": {
   "interpreter": {
    "hash": "31f2aee4e71d21fbe5cf8b01ff0e069b9275f58929596ceb00d14d90e3e16cd6"
   }
  }
 },
 "nbformat": 4,
 "nbformat_minor": 2
}
